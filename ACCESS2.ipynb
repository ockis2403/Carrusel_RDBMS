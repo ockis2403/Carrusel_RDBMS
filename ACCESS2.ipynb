{
 "cells": [
  {
   "cell_type": "markdown",
   "id": "47fde485-6018-4573-92a1-b37f7e168d53",
   "metadata": {},
   "source": [
    "<img src=https://static.wixstatic.com/media/f6bd9a_6a972d9b31324653bf198c38ce94339e~mv2.png>"
   ]
  },
  {
   "cell_type": "markdown",
   "id": "63deaa5c-5b2a-44ad-abdf-07b842cf2910",
   "metadata": {},
   "source": [
    "# Carrusel de RDBMS\n",
    "## Ejercicios de SQL resueltos"
   ]
  },
  {
   "cell_type": "markdown",
   "id": "a39e718f-65ce-4bac-8b71-4b4d33cca234",
   "metadata": {},
   "source": [
    "En este cuaderno resuelvo alguno de los ejercicios del documento: 'Desarrollo de Aplicaciones en Entornos de Cuarta Generación y Herramientas CASE: Ejercicios de SQL.'\n",
    "\n",
    "Para ello utilizo una version de la base de datos -que nombre \"practicas_hospital\"- modificada para ser compatible en esta ocasion, para **MS ACCESS**, siguiendo la estructura del libro.\n",
    "\n",
    "\n",
    "Tanto el diagrama de **Entidad-Relacion**, como el **Script** para cargar la base de datos (que permite, se pueda replicar el ejercicio) en codigo VBA se encuentran disponibles en el mismo repositorio."
   ]
  },
  {
   "cell_type": "markdown",
   "id": "fed62a9c-d50d-40ae-b557-e94a3da71bf3",
   "metadata": {},
   "source": [
    "#### Celda para configurar el entorno"
   ]
  },
  {
   "cell_type": "code",
   "execution_count": null,
   "id": "c0835ade-e663-4671-8554-0c39eb59f8fc",
   "metadata": {},
   "outputs": [],
   "source": [
    "# !pip install pandas\n",
    "# !pip install pyodbc"
   ]
  },
  {
   "cell_type": "markdown",
   "id": "be14efcb-53d9-4ca8-8cc2-eca2222a9b45",
   "metadata": {},
   "source": [
    "#### Importamos librerias y se realiza la conexion utilizando los datos de la configuracion local de la base de datos"
   ]
  },
  {
   "cell_type": "code",
   "execution_count": 1,
   "id": "a6f058d9-6c1f-4ab1-806b-00ed21bd7a99",
   "metadata": {},
   "outputs": [],
   "source": [
    "import pyodbc\n",
    "import pandas as pd\n",
    "\n",
    "# Crear la conexión\n",
    "conn = pyodbc.connect(r'Driver={Microsoft Access Driver (*.mdb, *.accdb)};DBQ=C:\\\\Users\\\\ockis\\\\OneDrive\\\\Escritorio\\\\Nueva carpeta\\\\access\\\\practicas_hospital.accdb;')\n",
    "\n",
    "# Crear un cursor\n",
    "cursor = conn.cursor()\n"
   ]
  },
  {
   "cell_type": "markdown",
   "id": "e411d85d-23e3-47b0-bca5-f4bf8740a8bd",
   "metadata": {},
   "source": [
    "#### Realizamos una prueba y se Inspecciona la base de datos \"practicas_hospital\""
   ]
  },
  {
   "cell_type": "code",
   "execution_count": 2,
   "id": "e5028198-5538-449d-a422-bc366250e9f7",
   "metadata": {},
   "outputs": [
    {
     "name": "stdout",
     "output_type": "stream",
     "text": [
      "DEPARTAMENTO\n",
      "DOCTOR\n",
      "EMPLEADO\n",
      "ENFERMO\n",
      "HOSPITAL\n",
      "OCUPACION\n",
      "PLANTILLA\n",
      "SALA\n",
      "\n",
      "La conexión se ha realizado con éxito.\n",
      "Estas son las tablas\n"
     ]
    }
   ],
   "source": [
    "# Ejecutar la consulta e imprimir los resultados \n",
    "try:\n",
    "    for table_info in cursor.tables(tableType='TABLE'):\n",
    "        print(table_info.table_name)\n",
    "    print(\"\\nLa conexión se ha realizado con éxito.\\nEstas son las tablas\")\n",
    "except Exception as e:\n",
    "    print(\"\\n Hubo un error al realizar la conexión:\", e)"
   ]
  },
  {
   "cell_type": "markdown",
   "id": "674d04e1-18bc-401f-a26e-b746ea568c61",
   "metadata": {},
   "source": [
    "### Resolucion de algunos ejercicios "
   ]
  },
  {
   "cell_type": "markdown",
   "id": "9086650e-edf2-4c38-bba4-d24aeffb2483",
   "metadata": {},
   "source": [
    "##### 1. Encuentre a todos los miembros del personal cuyo nombre empiece por 'H'."
   ]
  },
  {
   "cell_type": "code",
   "execution_count": 3,
   "id": "2a521792-b13e-49f0-adec-b9ad5b60de82",
   "metadata": {},
   "outputs": [
    {
     "data": {
      "text/html": [
       "<div>\n",
       "<style scoped>\n",
       "    .dataframe tbody tr th:only-of-type {\n",
       "        vertical-align: middle;\n",
       "    }\n",
       "\n",
       "    .dataframe tbody tr th {\n",
       "        vertical-align: top;\n",
       "    }\n",
       "\n",
       "    .dataframe thead th {\n",
       "        text-align: right;\n",
       "    }\n",
       "</style>\n",
       "<table border=\"1\" class=\"dataframe\">\n",
       "  <thead>\n",
       "    <tr style=\"text-align: right;\">\n",
       "      <th></th>\n",
       "      <th>APELLIDO</th>\n",
       "    </tr>\n",
       "  </thead>\n",
       "  <tbody>\n",
       "    <tr>\n",
       "      <th>0</th>\n",
       "      <td>Hernandez J.</td>\n",
       "    </tr>\n",
       "    <tr>\n",
       "      <th>1</th>\n",
       "      <td>Higueras D.</td>\n",
       "    </tr>\n",
       "  </tbody>\n",
       "</table>\n",
       "</div>"
      ],
      "text/plain": [
       "       APELLIDO\n",
       "0  Hernandez J.\n",
       "1   Higueras D."
      ]
     },
     "execution_count": 3,
     "metadata": {},
     "output_type": "execute_result"
    }
   ],
   "source": [
    "QUERY = \"\"\"\n",
    "SELECT APELLIDO\n",
    "FROM PLANTILLA\n",
    "WHERE APELLIDO LIKE 'H%';\n",
    "\"\"\"\n",
    "cursor.execute(QUERY)\n",
    "resultados = cursor.fetchall()\n",
    "df = pd.DataFrame.from_records(resultados, columns=[column[0] for column in cursor.description])\n",
    "df"
   ]
  },
  {
   "cell_type": "markdown",
   "id": "1b35b545-1fef-4abd-bc55-1789fbf1b1fe",
   "metadata": {},
   "source": [
    "##### 2. Quienes son las enfermeras y enfermeros que trabajan en turnos de Tarde o Mañana?"
   ]
  },
  {
   "cell_type": "code",
   "execution_count": 4,
   "id": "9f1733c5-d1ca-4ef3-b7e6-b857fa9fb864",
   "metadata": {},
   "outputs": [
    {
     "data": {
      "text/html": [
       "<div>\n",
       "<style scoped>\n",
       "    .dataframe tbody tr th:only-of-type {\n",
       "        vertical-align: middle;\n",
       "    }\n",
       "\n",
       "    .dataframe tbody tr th {\n",
       "        vertical-align: top;\n",
       "    }\n",
       "\n",
       "    .dataframe thead th {\n",
       "        text-align: right;\n",
       "    }\n",
       "</style>\n",
       "<table border=\"1\" class=\"dataframe\">\n",
       "  <thead>\n",
       "    <tr style=\"text-align: right;\">\n",
       "      <th></th>\n",
       "      <th>APELLIDO</th>\n",
       "      <th>FUNCION</th>\n",
       "      <th>TURNO</th>\n",
       "    </tr>\n",
       "  </thead>\n",
       "  <tbody>\n",
       "    <tr>\n",
       "      <th>0</th>\n",
       "      <td>Diaz B.</td>\n",
       "      <td>Enfermera</td>\n",
       "      <td>T</td>\n",
       "    </tr>\n",
       "    <tr>\n",
       "      <th>1</th>\n",
       "      <td>Hernandez J.</td>\n",
       "      <td>Enfermero</td>\n",
       "      <td>T</td>\n",
       "    </tr>\n",
       "    <tr>\n",
       "      <th>2</th>\n",
       "      <td>Higueras D.</td>\n",
       "      <td>Enfermera</td>\n",
       "      <td>T</td>\n",
       "    </tr>\n",
       "    <tr>\n",
       "      <th>3</th>\n",
       "      <td>Bocina G.</td>\n",
       "      <td>Enfermero</td>\n",
       "      <td>M</td>\n",
       "    </tr>\n",
       "    <tr>\n",
       "      <th>4</th>\n",
       "      <td>Carlos R.</td>\n",
       "      <td>Enfermera</td>\n",
       "      <td>T</td>\n",
       "    </tr>\n",
       "    <tr>\n",
       "      <th>5</th>\n",
       "      <td>Frank H.</td>\n",
       "      <td>Enfermera</td>\n",
       "      <td>T</td>\n",
       "    </tr>\n",
       "  </tbody>\n",
       "</table>\n",
       "</div>"
      ],
      "text/plain": [
       "       APELLIDO    FUNCION TURNO\n",
       "0       Diaz B.  Enfermera     T\n",
       "1  Hernandez J.  Enfermero     T\n",
       "2   Higueras D.  Enfermera     T\n",
       "3     Bocina G.  Enfermero     M\n",
       "4     Carlos R.  Enfermera     T\n",
       "5      Frank H.  Enfermera     T"
      ]
     },
     "execution_count": 4,
     "metadata": {},
     "output_type": "execute_result"
    }
   ],
   "source": [
    "QUERY = \"\"\"\n",
    "SELECT APELLIDO, FUNCION, TURNO\n",
    "FROM PLANTILLA\n",
    "WHERE FUNCION LIKE 'ENFERMER%' AND TURNO IN ('T', 'M');\n",
    "\"\"\"\n",
    "cursor.execute(QUERY)\n",
    "resultados = cursor.fetchall()\n",
    "df = pd.DataFrame.from_records(resultados, columns=[column[0] for column in cursor.description])\n",
    "df"
   ]
  },
  {
   "cell_type": "markdown",
   "id": "6a5a6222-aa0b-4a1e-992a-246690136430",
   "metadata": {},
   "source": [
    "##### 3. Haga un listado de las enfermeras que ganan entre 2.000.000 y 2.500.000 Pts."
   ]
  },
  {
   "cell_type": "code",
   "execution_count": 5,
   "id": "67349c09-f6c9-460c-b491-b26000436020",
   "metadata": {},
   "outputs": [
    {
     "data": {
      "text/html": [
       "<div>\n",
       "<style scoped>\n",
       "    .dataframe tbody tr th:only-of-type {\n",
       "        vertical-align: middle;\n",
       "    }\n",
       "\n",
       "    .dataframe tbody tr th {\n",
       "        vertical-align: top;\n",
       "    }\n",
       "\n",
       "    .dataframe thead th {\n",
       "        text-align: right;\n",
       "    }\n",
       "</style>\n",
       "<table border=\"1\" class=\"dataframe\">\n",
       "  <thead>\n",
       "    <tr style=\"text-align: right;\">\n",
       "      <th></th>\n",
       "      <th>APELLIDO</th>\n",
       "      <th>FUNCION</th>\n",
       "      <th>SALARIO</th>\n",
       "    </tr>\n",
       "  </thead>\n",
       "  <tbody>\n",
       "    <tr>\n",
       "      <th>0</th>\n",
       "      <td>Diaz B.</td>\n",
       "      <td>Enfermera</td>\n",
       "      <td>2262000</td>\n",
       "    </tr>\n",
       "    <tr>\n",
       "      <th>1</th>\n",
       "      <td>Higueras D.</td>\n",
       "      <td>Enfermera</td>\n",
       "      <td>2005000</td>\n",
       "    </tr>\n",
       "    <tr>\n",
       "      <th>2</th>\n",
       "      <td>Carlos R.</td>\n",
       "      <td>Enfermera</td>\n",
       "      <td>2119000</td>\n",
       "    </tr>\n",
       "  </tbody>\n",
       "</table>\n",
       "</div>"
      ],
      "text/plain": [
       "      APELLIDO    FUNCION  SALARIO\n",
       "0      Diaz B.  Enfermera  2262000\n",
       "1  Higueras D.  Enfermera  2005000\n",
       "2    Carlos R.  Enfermera  2119000"
      ]
     },
     "execution_count": 5,
     "metadata": {},
     "output_type": "execute_result"
    }
   ],
   "source": [
    "QUERY = \"\"\"\n",
    "SELECT APELLIDO, FUNCION, SALARIO\n",
    "FROM PLANTILLA\n",
    "WHERE FUNCION IN ('ENFERMERO', 'ENFERMERA') AND (SALARIO BETWEEN 2000000 AND 2500000);\n",
    "\"\"\"\n",
    "cursor.execute(QUERY)\n",
    "resultados = cursor.fetchall()\n",
    "df = pd.DataFrame.from_records(resultados, columns=[column[0] for column in cursor.description])\n",
    "df"
   ]
  },
  {
   "cell_type": "markdown",
   "id": "f0d627b9-d340-42b2-aedf-46d2134951da",
   "metadata": {},
   "source": [
    "##### 6. Hacer un listado de los nombres de los pacientes y la posición de la primera letra 'A' que aparezca \n",
    "en su apellido, tomando como referencia la primera letra del mismo"
   ]
  },
  {
   "cell_type": "code",
   "execution_count": 6,
   "id": "fa520704-edf6-428f-abec-56ac4721376e",
   "metadata": {},
   "outputs": [
    {
     "data": {
      "text/html": [
       "<div>\n",
       "<style scoped>\n",
       "    .dataframe tbody tr th:only-of-type {\n",
       "        vertical-align: middle;\n",
       "    }\n",
       "\n",
       "    .dataframe tbody tr th {\n",
       "        vertical-align: top;\n",
       "    }\n",
       "\n",
       "    .dataframe thead th {\n",
       "        text-align: right;\n",
       "    }\n",
       "</style>\n",
       "<table border=\"1\" class=\"dataframe\">\n",
       "  <thead>\n",
       "    <tr style=\"text-align: right;\">\n",
       "      <th></th>\n",
       "      <th>APELLIDO</th>\n",
       "      <th>POSICION</th>\n",
       "    </tr>\n",
       "  </thead>\n",
       "  <tbody>\n",
       "    <tr>\n",
       "      <th>0</th>\n",
       "      <td>Laguia M.</td>\n",
       "      <td>2</td>\n",
       "    </tr>\n",
       "    <tr>\n",
       "      <th>1</th>\n",
       "      <td>Serrano V.</td>\n",
       "      <td>5</td>\n",
       "    </tr>\n",
       "    <tr>\n",
       "      <th>2</th>\n",
       "      <td>Fernandez M</td>\n",
       "      <td>5</td>\n",
       "    </tr>\n",
       "    <tr>\n",
       "      <th>3</th>\n",
       "      <td>Domin S.</td>\n",
       "      <td>0</td>\n",
       "    </tr>\n",
       "    <tr>\n",
       "      <th>4</th>\n",
       "      <td>Neal R.</td>\n",
       "      <td>3</td>\n",
       "    </tr>\n",
       "    <tr>\n",
       "      <th>5</th>\n",
       "      <td>Cervantes M.</td>\n",
       "      <td>5</td>\n",
       "    </tr>\n",
       "    <tr>\n",
       "      <th>6</th>\n",
       "      <td>Miller G.</td>\n",
       "      <td>0</td>\n",
       "    </tr>\n",
       "    <tr>\n",
       "      <th>7</th>\n",
       "      <td>Ruiz P.</td>\n",
       "      <td>0</td>\n",
       "    </tr>\n",
       "    <tr>\n",
       "      <th>8</th>\n",
       "      <td>Fraser A.</td>\n",
       "      <td>3</td>\n",
       "    </tr>\n",
       "    <tr>\n",
       "      <th>9</th>\n",
       "      <td>Benitez E.</td>\n",
       "      <td>0</td>\n",
       "    </tr>\n",
       "  </tbody>\n",
       "</table>\n",
       "</div>"
      ],
      "text/plain": [
       "       APELLIDO  POSICION\n",
       "0     Laguia M.         2\n",
       "1    Serrano V.         5\n",
       "2   Fernandez M         5\n",
       "3      Domin S.         0\n",
       "4       Neal R.         3\n",
       "5  Cervantes M.         5\n",
       "6     Miller G.         0\n",
       "7       Ruiz P.         0\n",
       "8     Fraser A.         3\n",
       "9    Benitez E.         0"
      ]
     },
     "execution_count": 6,
     "metadata": {},
     "output_type": "execute_result"
    }
   ],
   "source": [
    "QUERY = \"\"\"\n",
    "SELECT APELLIDO, InStr(1, UCase(APELLIDO), 'A') AS POSICION\n",
    "FROM ENFERMO;\n",
    "\"\"\"\n",
    "cursor.execute(QUERY)\n",
    "resultados = cursor.fetchall()\n",
    "df = pd.DataFrame.from_records(resultados, columns=[column[0] for column in cursor.description])\n",
    "df"
   ]
  },
  {
   "cell_type": "markdown",
   "id": "8701288d-d209-47ab-a016-6157dee91a0a",
   "metadata": {},
   "source": [
    "##### 7. Queremos conseguir:\n",
    "|COMENTARIO|\n",
    "|:---------:|\n",
    "|El departamento de CONTABILIDAD esta en SEVILLA|\n",
    "|El departamento de INVESTIGACIÓN esta en MADRID|\n",
    "|El departamento de VENTAS esta en BARCELONA|\n",
    "|El departamento de PRODUCCIÓN esta en BILBAO|"
   ]
  },
  {
   "cell_type": "code",
   "execution_count": 7,
   "id": "ddfdcb34-da8a-4843-8e8d-e742f017d58e",
   "metadata": {},
   "outputs": [
    {
     "data": {
      "text/html": [
       "<div>\n",
       "<style scoped>\n",
       "    .dataframe tbody tr th:only-of-type {\n",
       "        vertical-align: middle;\n",
       "    }\n",
       "\n",
       "    .dataframe tbody tr th {\n",
       "        vertical-align: top;\n",
       "    }\n",
       "\n",
       "    .dataframe thead th {\n",
       "        text-align: right;\n",
       "    }\n",
       "</style>\n",
       "<table border=\"1\" class=\"dataframe\">\n",
       "  <thead>\n",
       "    <tr style=\"text-align: right;\">\n",
       "      <th></th>\n",
       "      <th>COMENTARIO</th>\n",
       "    </tr>\n",
       "  </thead>\n",
       "  <tbody>\n",
       "    <tr>\n",
       "      <th>0</th>\n",
       "      <td>El departamento de CONTABILIDAD se encuentra en  MADRID</td>\n",
       "    </tr>\n",
       "    <tr>\n",
       "      <th>1</th>\n",
       "      <td>El departamento de INVESTIGACIÓN se encuentra en  BILBAO</td>\n",
       "    </tr>\n",
       "    <tr>\n",
       "      <th>2</th>\n",
       "      <td>El departamento de VENTAS se encuentra en  SEVILLA</td>\n",
       "    </tr>\n",
       "    <tr>\n",
       "      <th>3</th>\n",
       "      <td>El departamento de OPERACIONES se encuentra en  MALAGA</td>\n",
       "    </tr>\n",
       "  </tbody>\n",
       "</table>\n",
       "</div>"
      ],
      "text/plain": [
       "                                                 COMENTARIO\n",
       "0   El departamento de CONTABILIDAD se encuentra en  MADRID\n",
       "1  El departamento de INVESTIGACIÓN se encuentra en  BILBAO\n",
       "2        El departamento de VENTAS se encuentra en  SEVILLA\n",
       "3    El departamento de OPERACIONES se encuentra en  MALAGA"
      ]
     },
     "execution_count": 7,
     "metadata": {},
     "output_type": "execute_result"
    }
   ],
   "source": [
    "QUERY = \"\"\"\n",
    "SELECT 'El departamento de ' & DNOMBRE & ' se encuentra en  ' & LOC AS COMENTARIO \n",
    "FROM DEPARTAMENTO;\n",
    "\"\"\"\n",
    "cursor.execute(QUERY)\n",
    "resultados = cursor.fetchall()\n",
    "df = pd.DataFrame.from_records(resultados, columns=[column[0] for column in cursor.description])\n",
    "pd.set_option('display.max_colwidth', None)\n",
    "df"
   ]
  },
  {
   "cell_type": "code",
   "execution_count": 8,
   "id": "a6bd3704-3104-4cc5-8b81-625041b7567b",
   "metadata": {},
   "outputs": [],
   "source": [
    "# Cierra la conexión\n",
    "conn.close()"
   ]
  },
  {
   "cell_type": "markdown",
   "id": "c9ef382f-b0db-45a1-a8c6-e1d4a001e723",
   "metadata": {},
   "source": [
    "# Autor\n",
    "### Oscar Gutierrez Leal\n",
    "28 - 03 - 2024"
   ]
  }
 ],
 "metadata": {
  "kernelspec": {
   "display_name": "Python 3 (ipykernel)",
   "language": "python",
   "name": "python3"
  },
  "language_info": {
   "codemirror_mode": {
    "name": "ipython",
    "version": 3
   },
   "file_extension": ".py",
   "mimetype": "text/x-python",
   "name": "python",
   "nbconvert_exporter": "python",
   "pygments_lexer": "ipython3",
   "version": "3.11.8"
  }
 },
 "nbformat": 4,
 "nbformat_minor": 5
}
