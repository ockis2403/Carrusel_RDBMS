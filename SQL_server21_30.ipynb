{
 "cells": [
  {
   "cell_type": "markdown",
   "id": "5777514c-15a2-4dde-81bf-8418292cb674",
   "metadata": {},
   "source": [
    "<img src=https://static.wixstatic.com/media/f6bd9a_6a972d9b31324653bf198c38ce94339e~mv2.png>"
   ]
  },
  {
   "cell_type": "markdown",
   "id": "97a2bb67-afc8-4f2c-b881-b11538e74dd7",
   "metadata": {},
   "source": [
    "# Carrusel de RDBMS\n",
    "## Ejercicios de SQL resueltos"
   ]
  },
  {
   "cell_type": "markdown",
   "id": "51ac5e19-89bd-400d-ba87-f84b748270f7",
   "metadata": {},
   "source": [
    "En este cuaderno resuelvo los ejercicios del 21 al 30 del documento: 'Desarrollo de Aplicaciones en Entornos de Cuarta Generación y Herramientas CASE: Ejercicios de SQL.'\n",
    "\n",
    "Para ello utilizo una version de la base de datos -que nombre \"PRACTICAS_HOSPITAL\" modificada para ser compatible en esta ocasion, para **MS** **SQL** **SERVER**, siguiendo la estructura del libro.\n",
    "\n",
    "\n",
    "Tanto el diagrama de **Entidad-Relacion**, como el **Script** para cargar la base de datos (que permite, se pueda replicar el ejercicio) se encuentran disponibles en el mismo repositorio."
   ]
  },
  {
   "cell_type": "markdown",
   "id": "8a768aca-6fb6-4839-875b-ab847594e340",
   "metadata": {},
   "source": [
    "#### Celda para configurar el entorno"
   ]
  },
  {
   "cell_type": "code",
   "execution_count": null,
   "id": "e3eb01ca-a88c-47ea-bed8-02448e77afaf",
   "metadata": {},
   "outputs": [],
   "source": [
    "# !pip install pyodbc\n",
    "# !pip install pandas\n",
    "# !pip install sqlalchemy"
   ]
  },
  {
   "cell_type": "markdown",
   "id": "71f527bc-0688-44f0-a6ee-aa6838b52e30",
   "metadata": {},
   "source": [
    "#### Importamos librerias y se realiza la conexion utilizando un archivo json con la configuracion local de la base de datos\n",
    "\n",
    "Si se desea replicar lo propio usando el script y este cuaderno, basta con crear el archivo json con el par de valores que contengan su informacion local y cargarlo al directorio, o en su defecto construir la cadena directamente.\n",
    "\n",
    "server:\n",
    "\n",
    "database:\n",
    "\n",
    "password:\n",
    "\n",
    "user:\n"
   ]
  },
  {
   "cell_type": "code",
   "execution_count": 1,
   "id": "04ebd8fe-53f3-4b85-9c4c-c7e56b5437aa",
   "metadata": {},
   "outputs": [],
   "source": [
    "import json\n",
    "from sqlalchemy import create_engine\n",
    "import pandas as pd\n",
    "\n",
    "# Cargar los detalles de la conexión desde un archivo de configuración\n",
    "with open('config1.json', 'r') as f:\n",
    "    config = json.load(f)\n",
    "\n",
    "# Extraer los datos de conexión del objeto JSON\n",
    "server = config['server']\n",
    "database = config['database']\n",
    "username = config['username']\n",
    "password = config['password']\n",
    "\n",
    "# Crear la cadena de conexión\n",
    "connection_string = f'mssql+pyodbc://{username}:{password}@{server}/{database}?driver=ODBC+Driver+17+for+SQL+Server'\n",
    "\n",
    "# Crear la conexión\n",
    "engine = create_engine(connection_string)"
   ]
  },
  {
   "cell_type": "markdown",
   "id": "f730469d-db89-462b-8621-ac1adee5e809",
   "metadata": {},
   "source": [
    "#### Realizamos una prueba y se Inspecciona la base de datos \"practicas_hospital\""
   ]
  },
  {
   "cell_type": "code",
   "execution_count": 2,
   "id": "bd2056f4-e997-4c7d-8072-7e0ea40d3dc5",
   "metadata": {},
   "outputs": [
    {
     "name": "stdout",
     "output_type": "stream",
     "text": [
      "La conexión se ha realizado con éxito.\n",
      "\n",
      "           name\n",
      "0      HOSPITAL\n",
      "1          SALA\n",
      "2     PLANTILLA\n",
      "3     OCUPACION\n",
      "4        DOCTOR\n",
      "5       ENFERMO\n",
      "6      EMPLEADO\n",
      "7  DEPARTAMENTO\n",
      "8   sysdiagrams\n"
     ]
    }
   ],
   "source": [
    "# Definir consulta en SQL compatible con MS SQL Server\n",
    "try:\n",
    "    QUERY = \"\"\"\n",
    "    SELECT name \n",
    "    FROM sys.tables;\n",
    "    \"\"\"\n",
    "# Ejecutar la consulta y obtener los resultados en un DataFrame\n",
    "    df = pd.read_sql_query(QUERY, engine)\n",
    "# Mostrar los primeros resultados\n",
    "    print(\"La conexión se ha realizado con éxito.\\n\")\n",
    "    print(df)\n",
    "except Exception as e:\n",
    "    print(\"Hubo un error al realizar la conexión:\", e)"
   ]
  },
  {
   "cell_type": "markdown",
   "id": "d1a2c831-28bf-4d10-a777-2f93bf1f96b0",
   "metadata": {},
   "source": [
    "#### Inspeccion a las tablas de la base de datos \"practica_hospital\"\n",
    "#### Con la finalidad de observar su estructura y tipo de datos"
   ]
  },
  {
   "cell_type": "code",
   "execution_count": 3,
   "id": "403f7f01-4c6b-4a75-aa77-8aeae2ebb915",
   "metadata": {},
   "outputs": [
    {
     "name": "stdout",
     "output_type": "stream",
     "text": [
      "El contenido de la tabla HOSPITAL\n",
      "\n",
      "    COLUMN_NAME DATA_TYPE IS_NULLABLE\n",
      "0  HOSPITAL_COD       int          NO\n",
      "1        NOMBRE   varchar          NO\n",
      "2     DIRECCION   varchar          NO\n",
      "3      TELEFONO   varchar          NO\n",
      "4      NUM_CAMA       int          NO\n",
      "\n",
      "El contenido de la tabla SALA\n",
      "\n",
      "    COLUMN_NAME DATA_TYPE IS_NULLABLE\n",
      "0       SALA_ID       int          NO\n",
      "1  HOSPITAL_COD       int          NO\n",
      "2      SALA_COD       int          NO\n",
      "3        NOMBRE   varchar         YES\n",
      "4      NUM_CAMA       int         YES\n",
      "\n",
      "El contenido de la tabla PLANTILLA\n",
      "\n",
      "    COLUMN_NAME DATA_TYPE IS_NULLABLE\n",
      "0  HOSPITAL_COD       int          NO\n",
      "1      SALA_COD       int          NO\n",
      "2   EMPLEADO_NO       int          NO\n",
      "3      APELLIDO   varchar         YES\n",
      "4       FUNCION   varchar         YES\n",
      "5         TURNO   varchar         YES\n",
      "6       SALARIO       int         YES\n",
      "\n",
      "El contenido de la tabla OCUPACION\n",
      "\n",
      "    COLUMN_NAME DATA_TYPE IS_NULLABLE\n",
      "0   INSCRIPCION       int          NO\n",
      "1  HOSPITAL_COD       int          NO\n",
      "2      SALA_COD       int          NO\n",
      "3          CAMA       int         YES\n",
      "\n",
      "El contenido de la tabla DOCTOR\n",
      "\n",
      "    COLUMN_NAME DATA_TYPE IS_NULLABLE\n",
      "0  HOSPITAL_COD       int          NO\n",
      "1     DOCTOR_NO       int          NO\n",
      "2      APELLIDO   varchar         YES\n",
      "3  ESPECIALIDAD   varchar         YES\n",
      "\n",
      "El contenido de la tabla ENFERMO\n",
      "\n",
      "   COLUMN_NAME DATA_TYPE IS_NULLABLE\n",
      "0   ENFERMO_NO       int          NO\n",
      "1  INSCRIPCION       int          NO\n",
      "2     APELLIDO   varchar         YES\n",
      "3    DIRECCION   varchar         YES\n",
      "4    FECHA_NAC      date         YES\n",
      "5            S   varchar         YES\n",
      "6          NSS       int         YES\n",
      "\n",
      "El contenido de la tabla EMPLEADO\n",
      "\n",
      "  COLUMN_NAME DATA_TYPE IS_NULLABLE\n",
      "0      EMP_NO       int          NO\n",
      "1    APELLIDO   varchar         YES\n",
      "2      OFICIO   varchar         YES\n",
      "3         DIR       int         YES\n",
      "4  FECHA_ALTA      date         YES\n",
      "5     SALARIO       int         YES\n",
      "6    COMISION       int         YES\n",
      "7     DEPT_NO       int          NO\n",
      "\n",
      "El contenido de la tabla DEPARTAMENTO\n",
      "\n",
      "  COLUMN_NAME DATA_TYPE IS_NULLABLE\n",
      "0     DEPT_NO       int          NO\n",
      "1     DNOMBRE   varchar         YES\n",
      "2         LOC   varchar         YES\n",
      "\n"
     ]
    }
   ],
   "source": [
    "# se excluye el nombre de la tabla de usuario que alude al diagrama (disponible en el repositorio)\n",
    "indice = df[df['name'] == 'sysdiagrams'].index\n",
    "df = df.drop(indice)\n",
    "for valor in df['name']:\n",
    "    QUERY = \"SELECT COLUMN_NAME,DATA_TYPE, IS_NULLABLE FROM INFORMATION_SCHEMA.COLUMNS WHERE TABLE_NAME = '\" + f'{valor}'+\"'\"\n",
    "    df1 = pd.read_sql_query(QUERY, engine)\n",
    "    print(f'El contenido de la tabla {valor}\\n')\n",
    "    print(df1)\n",
    "    print()"
   ]
  },
  {
   "cell_type": "markdown",
   "id": "f2cd0482-c7b6-464e-904c-22c894de533a",
   "metadata": {},
   "source": [
    "### Resolucion de los ejercicios numerados del 21 al 30"
   ]
  },
  {
   "cell_type": "markdown",
   "id": "56c148be-bcae-4682-995b-64e30641c731",
   "metadata": {},
   "source": [
    "##### 21. Buscar que departamentos tienen mas de dos personas trabajando en la misma profesión."
   ]
  },
  {
   "cell_type": "code",
   "execution_count": 4,
   "id": "bbdefb23-0021-41ad-96cd-28982c855ca3",
   "metadata": {},
   "outputs": [
    {
     "data": {
      "text/html": [
       "<div>\n",
       "<style scoped>\n",
       "    .dataframe tbody tr th:only-of-type {\n",
       "        vertical-align: middle;\n",
       "    }\n",
       "\n",
       "    .dataframe tbody tr th {\n",
       "        vertical-align: top;\n",
       "    }\n",
       "\n",
       "    .dataframe thead th {\n",
       "        text-align: right;\n",
       "    }\n",
       "</style>\n",
       "<table border=\"1\" class=\"dataframe\">\n",
       "  <thead>\n",
       "    <tr style=\"text-align: right;\">\n",
       "      <th></th>\n",
       "      <th>DEPT_NO</th>\n",
       "      <th>NUM_TRABAJDORES</th>\n",
       "    </tr>\n",
       "  </thead>\n",
       "  <tbody>\n",
       "    <tr>\n",
       "      <th>0</th>\n",
       "      <td>30</td>\n",
       "      <td>4</td>\n",
       "    </tr>\n",
       "  </tbody>\n",
       "</table>\n",
       "</div>"
      ],
      "text/plain": [
       "   DEPT_NO  NUM_TRABAJDORES\n",
       "0       30                4"
      ]
     },
     "execution_count": 4,
     "metadata": {},
     "output_type": "execute_result"
    }
   ],
   "source": [
    "QUERY = \"\"\"\n",
    "SELECT DEPT_NO, COUNT(*) AS NUM_TRABAJDORES\n",
    "FROM EMPLEADO\n",
    "GROUP BY DEPT_NO, OFICIO\n",
    "HAVING COUNT(*)> 2;\n",
    "\"\"\"\n",
    "df = pd.read_sql_query(QUERY, engine)\n",
    "df"
   ]
  },
  {
   "cell_type": "markdown",
   "id": "e225a96d-1bd1-4622-beff-d3ffa8ec3a6b",
   "metadata": {},
   "source": [
    "##### 22. Se desea saber el numero de empleados por departamento que tienen por oficio  de \"EMPLEADO\". La salida debe estar ordenada por el numero de departamento/PNDEDOR', 'EMPLEADO');\n"
   ]
  },
  {
   "cell_type": "code",
   "execution_count": 5,
   "id": "68058295-434b-4cca-806a-11e6708601ae",
   "metadata": {},
   "outputs": [
    {
     "data": {
      "text/html": [
       "<div>\n",
       "<style scoped>\n",
       "    .dataframe tbody tr th:only-of-type {\n",
       "        vertical-align: middle;\n",
       "    }\n",
       "\n",
       "    .dataframe tbody tr th {\n",
       "        vertical-align: top;\n",
       "    }\n",
       "\n",
       "    .dataframe thead th {\n",
       "        text-align: right;\n",
       "    }\n",
       "</style>\n",
       "<table border=\"1\" class=\"dataframe\">\n",
       "  <thead>\n",
       "    <tr style=\"text-align: right;\">\n",
       "      <th></th>\n",
       "      <th>DEPT_NO</th>\n",
       "      <th>NUM_EMPLEADO</th>\n",
       "    </tr>\n",
       "  </thead>\n",
       "  <tbody>\n",
       "    <tr>\n",
       "      <th>0</th>\n",
       "      <td>10</td>\n",
       "      <td>1</td>\n",
       "    </tr>\n",
       "    <tr>\n",
       "      <th>1</th>\n",
       "      <td>20</td>\n",
       "      <td>2</td>\n",
       "    </tr>\n",
       "    <tr>\n",
       "      <th>2</th>\n",
       "      <td>30</td>\n",
       "      <td>1</td>\n",
       "    </tr>\n",
       "  </tbody>\n",
       "</table>\n",
       "</div>"
      ],
      "text/plain": [
       "   DEPT_NO  NUM_EMPLEADO\n",
       "0       10             1\n",
       "1       20             2\n",
       "2       30             1"
      ]
     },
     "execution_count": 5,
     "metadata": {},
     "output_type": "execute_result"
    }
   ],
   "source": [
    "QUERY = \"\"\"\n",
    "SELECT DEPT_NO, COUNT(*) AS NUM_EMPLEADO\n",
    "FROM EMPLEADO\n",
    "WHERE UPPER(OFICIO) = 'EMPLEADO'\n",
    "GROUP BY DEPT_NO\n",
    "ORDER BY DEPT_NO;\n",
    "\"\"\"\n",
    "df = pd.read_sql_query(QUERY, engine)\n",
    "df"
   ]
  },
  {
   "cell_type": "markdown",
   "id": "e00dec7f-0a90-40aa-9e34-08e4db8ffd2f",
   "metadata": {},
   "source": [
    "##### 23. Se desea saber el salario total (salario mas comisión) medio anual de los vendedores de nuestra empresa."
   ]
  },
  {
   "cell_type": "code",
   "execution_count": 6,
   "id": "3ab96ed1-e6a1-4f7e-a6bd-3bd0bee6cd03",
   "metadata": {},
   "outputs": [
    {
     "data": {
      "text/html": [
       "<div>\n",
       "<style scoped>\n",
       "    .dataframe tbody tr th:only-of-type {\n",
       "        vertical-align: middle;\n",
       "    }\n",
       "\n",
       "    .dataframe tbody tr th {\n",
       "        vertical-align: top;\n",
       "    }\n",
       "\n",
       "    .dataframe thead th {\n",
       "        text-align: right;\n",
       "    }\n",
       "</style>\n",
       "<table border=\"1\" class=\"dataframe\">\n",
       "  <thead>\n",
       "    <tr style=\"text-align: right;\">\n",
       "      <th></th>\n",
       "      <th>OFICIO</th>\n",
       "      <th>SALARIO_TOTAL</th>\n",
       "    </tr>\n",
       "  </thead>\n",
       "  <tbody>\n",
       "    <tr>\n",
       "      <th>0</th>\n",
       "      <td>Vendedor</td>\n",
       "      <td>253500</td>\n",
       "    </tr>\n",
       "  </tbody>\n",
       "</table>\n",
       "</div>"
      ],
      "text/plain": [
       "     OFICIO  SALARIO_TOTAL\n",
       "0  Vendedor         253500"
      ]
     },
     "execution_count": 6,
     "metadata": {},
     "output_type": "execute_result"
    }
   ],
   "source": [
    "QUERY = \"\"\"\n",
    "SELECT OFICIO, AVG(SALARIO + ISNULL(COMISION,0)) AS SALARIO_TOTAL\n",
    "FROM EMPLEADO\n",
    "GROUP BY OFICIO\n",
    "HAVING UPPER(OFICIO) = 'VENDEDOR';\n",
    "\"\"\"\n",
    "df = pd.read_sql_query(QUERY, engine)\n",
    "df"
   ]
  },
  {
   "cell_type": "markdown",
   "id": "f7343779-730a-404e-a7a7-0257f9473917",
   "metadata": {},
   "source": [
    "##### 24. Se desea saber el salario total (salario mas comisión) medio anual, tanto de los empleados como de los vendedores de nuestra empresa."
   ]
  },
  {
   "cell_type": "code",
   "execution_count": 7,
   "id": "a033c60b-46d1-4e63-b8ed-cedab3ee5bef",
   "metadata": {},
   "outputs": [
    {
     "data": {
      "text/html": [
       "<div>\n",
       "<style scoped>\n",
       "    .dataframe tbody tr th:only-of-type {\n",
       "        vertical-align: middle;\n",
       "    }\n",
       "\n",
       "    .dataframe tbody tr th {\n",
       "        vertical-align: top;\n",
       "    }\n",
       "\n",
       "    .dataframe thead th {\n",
       "        text-align: right;\n",
       "    }\n",
       "</style>\n",
       "<table border=\"1\" class=\"dataframe\">\n",
       "  <thead>\n",
       "    <tr style=\"text-align: right;\">\n",
       "      <th></th>\n",
       "      <th>OFICIO</th>\n",
       "      <th>SALARIO_MEDIO</th>\n",
       "    </tr>\n",
       "  </thead>\n",
       "  <tbody>\n",
       "    <tr>\n",
       "      <th>0</th>\n",
       "      <td>Empleado</td>\n",
       "      <td>134875</td>\n",
       "    </tr>\n",
       "    <tr>\n",
       "      <th>1</th>\n",
       "      <td>Vendedor</td>\n",
       "      <td>253500</td>\n",
       "    </tr>\n",
       "  </tbody>\n",
       "</table>\n",
       "</div>"
      ],
      "text/plain": [
       "     OFICIO  SALARIO_MEDIO\n",
       "0  Empleado         134875\n",
       "1  Vendedor         253500"
      ]
     },
     "execution_count": 7,
     "metadata": {},
     "output_type": "execute_result"
    }
   ],
   "source": [
    "QUERY = \"\"\"\n",
    "SELECT OFICIO, AVG(SALARIO + ISNULL(COMISION, 0)) AS SALARIO_MEDIO\n",
    "FROM EMPLEADO\n",
    "GROUP BY OFICIO\n",
    "HAVING UPPER(OFICIO) IN ('VENDEDOR', 'EMPLEADO');\n",
    "\"\"\"\n",
    "df = pd.read_sql_query(QUERY, engine)\n",
    "df"
   ]
  },
  {
   "cell_type": "markdown",
   "id": "dcbeac6b-a2c5-4b9b-9714-ed95da5c1760",
   "metadata": {},
   "source": [
    "##### 25. Se desea saber para cada departamento y en cada oficio, el maximo salario y la suma total de salarios, pero solo de aquellos \n",
    "departamentos y oficios cuya suma salarial supere o sea igual que el 50% de su maximo salario. En el muestreo, solo se estudiaron \n",
    "aquellos empleados que no tienen comisión o la tengan menor que el 25% de su salari DEPT_NO;"
   ]
  },
  {
   "cell_type": "code",
   "execution_count": 8,
   "id": "02c3c501-fd8d-434c-894a-42dd5e656970",
   "metadata": {},
   "outputs": [
    {
     "data": {
      "text/html": [
       "<div>\n",
       "<style scoped>\n",
       "    .dataframe tbody tr th:only-of-type {\n",
       "        vertical-align: middle;\n",
       "    }\n",
       "\n",
       "    .dataframe tbody tr th {\n",
       "        vertical-align: top;\n",
       "    }\n",
       "\n",
       "    .dataframe thead th {\n",
       "        text-align: right;\n",
       "    }\n",
       "</style>\n",
       "<table border=\"1\" class=\"dataframe\">\n",
       "  <thead>\n",
       "    <tr style=\"text-align: right;\">\n",
       "      <th></th>\n",
       "      <th>DEPT_NO</th>\n",
       "      <th>OFICIO</th>\n",
       "      <th>MAXIMO</th>\n",
       "      <th>SUMA</th>\n",
       "    </tr>\n",
       "  </thead>\n",
       "  <tbody>\n",
       "    <tr>\n",
       "      <th>0</th>\n",
       "      <td>10</td>\n",
       "      <td>Director</td>\n",
       "      <td>318500</td>\n",
       "      <td>318500</td>\n",
       "    </tr>\n",
       "    <tr>\n",
       "      <th>1</th>\n",
       "      <td>10</td>\n",
       "      <td>Empleado</td>\n",
       "      <td>169000</td>\n",
       "      <td>169000</td>\n",
       "    </tr>\n",
       "    <tr>\n",
       "      <th>2</th>\n",
       "      <td>10</td>\n",
       "      <td>Presidente</td>\n",
       "      <td>650000</td>\n",
       "      <td>650000</td>\n",
       "    </tr>\n",
       "    <tr>\n",
       "      <th>3</th>\n",
       "      <td>20</td>\n",
       "      <td>Analista</td>\n",
       "      <td>390000</td>\n",
       "      <td>780000</td>\n",
       "    </tr>\n",
       "    <tr>\n",
       "      <th>4</th>\n",
       "      <td>20</td>\n",
       "      <td>Director</td>\n",
       "      <td>386750</td>\n",
       "      <td>386750</td>\n",
       "    </tr>\n",
       "    <tr>\n",
       "      <th>5</th>\n",
       "      <td>20</td>\n",
       "      <td>Empleado</td>\n",
       "      <td>143000</td>\n",
       "      <td>247000</td>\n",
       "    </tr>\n",
       "    <tr>\n",
       "      <th>6</th>\n",
       "      <td>30</td>\n",
       "      <td>Director</td>\n",
       "      <td>370500</td>\n",
       "      <td>370500</td>\n",
       "    </tr>\n",
       "    <tr>\n",
       "      <th>7</th>\n",
       "      <td>30</td>\n",
       "      <td>Empleado</td>\n",
       "      <td>123500</td>\n",
       "      <td>123500</td>\n",
       "    </tr>\n",
       "    <tr>\n",
       "      <th>8</th>\n",
       "      <td>30</td>\n",
       "      <td>Vendedor</td>\n",
       "      <td>208000</td>\n",
       "      <td>403000</td>\n",
       "    </tr>\n",
       "  </tbody>\n",
       "</table>\n",
       "</div>"
      ],
      "text/plain": [
       "   DEPT_NO      OFICIO  MAXIMO    SUMA\n",
       "0       10    Director  318500  318500\n",
       "1       10    Empleado  169000  169000\n",
       "2       10  Presidente  650000  650000\n",
       "3       20    Analista  390000  780000\n",
       "4       20    Director  386750  386750\n",
       "5       20    Empleado  143000  247000\n",
       "6       30    Director  370500  370500\n",
       "7       30    Empleado  123500  123500\n",
       "8       30    Vendedor  208000  403000"
      ]
     },
     "execution_count": 8,
     "metadata": {},
     "output_type": "execute_result"
    }
   ],
   "source": [
    "QUERY = \"\"\"\n",
    "SELECT DEPT_NO, OFICIO, MAX(SALARIO) AS MAXIMO, SUM(SALARIO) AS SUMA\n",
    "FROM EMPLEADO\n",
    "WHERE ISNULL(COMISION, 0) < (SALARIO * 0.25)\n",
    "GROUP BY DEPT_NO, OFICIO\n",
    "HAVING SUM(SALARIO) >= (MAX(SALARIO) * 0.5)\n",
    "ORDER BY DEPT_NO;\n",
    "\"\"\"\n",
    "df = pd.read_sql_query(QUERY, engine)\n",
    "df"
   ]
  },
  {
   "cell_type": "markdown",
   "id": "db77a2cd-b62f-4b03-bfd0-d9f32a8ec358",
   "metadata": {},
   "source": [
    "##### 26. Se desea saber para cada oficio, dentro de cada año de alta distinto que existe en nuestra empresa, el numero de empleados y la media salarial que tiene. Para este estudio, no se tendrá en cuenta a los empleados que no hayan sido dados de alta en un día laboral. Además, solo se desea saber estos datos, de aquellos oficios y años que tienen mas de un empleado. La salida debe estar ordenada por el año de alta y la media salarial descendéntemente.\n",
    "\n"
   ]
  },
  {
   "cell_type": "code",
   "execution_count": 9,
   "id": "b63aff7c-cec4-4d12-8dd6-5a730896f8f0",
   "metadata": {},
   "outputs": [
    {
     "data": {
      "text/html": [
       "<div>\n",
       "<style scoped>\n",
       "    .dataframe tbody tr th:only-of-type {\n",
       "        vertical-align: middle;\n",
       "    }\n",
       "\n",
       "    .dataframe tbody tr th {\n",
       "        vertical-align: top;\n",
       "    }\n",
       "\n",
       "    .dataframe thead th {\n",
       "        text-align: right;\n",
       "    }\n",
       "</style>\n",
       "<table border=\"1\" class=\"dataframe\">\n",
       "  <thead>\n",
       "    <tr style=\"text-align: right;\">\n",
       "      <th></th>\n",
       "      <th>ANIO</th>\n",
       "      <th>OFICIO</th>\n",
       "      <th>TOT_EMPL</th>\n",
       "      <th>SAL_PROM</th>\n",
       "    </tr>\n",
       "  </thead>\n",
       "  <tbody>\n",
       "    <tr>\n",
       "      <th>0</th>\n",
       "      <td>1981</td>\n",
       "      <td>Director</td>\n",
       "      <td>3</td>\n",
       "      <td>358583</td>\n",
       "    </tr>\n",
       "    <tr>\n",
       "      <th>1</th>\n",
       "      <td>1981</td>\n",
       "      <td>Vendedor</td>\n",
       "      <td>3</td>\n",
       "      <td>188500</td>\n",
       "    </tr>\n",
       "  </tbody>\n",
       "</table>\n",
       "</div>"
      ],
      "text/plain": [
       "   ANIO    OFICIO  TOT_EMPL  SAL_PROM\n",
       "0  1981  Director         3    358583\n",
       "1  1981  Vendedor         3    188500"
      ]
     },
     "execution_count": 9,
     "metadata": {},
     "output_type": "execute_result"
    }
   ],
   "source": [
    "QUERY = \"\"\"\n",
    "SELECT DATEPART(YEAR,FECHA_ALTA) AS ANIO, OFICIO, COUNT(*) AS TOT_EMPL, AVG(SALARIO) AS SAL_PROM\n",
    "FROM EMPLEADO\n",
    "WHERE DATEPART(weekday, FECHA_ALTA) NOT IN (1, 7)\n",
    "GROUP BY DATEPART(YEAR, FECHA_ALTA), OFICIO\n",
    "HAVING COUNT(*) > 1\n",
    "ORDER BY ANIO, SAL_PROM DESC;\n",
    "\"\"\"\n",
    "df = pd.read_sql_query(QUERY, engine)\n",
    "df"
   ]
  },
  {
   "cell_type": "markdown",
   "id": "8390f3e3-8924-48fb-aa54-f27fc39185c8",
   "metadata": {},
   "source": [
    "##### 27. Se desea saber, para cada inicial de apellido que exista en la empresa (tratando solo las iniciales consonantes),el maximo salario que tiene asociada. No se tendrá en cuenta en el estudio a aquellos empleados que contengan su apellido mas de una \"N\". La salida debe estar ordenada por la inicial.\n"
   ]
  },
  {
   "cell_type": "code",
   "execution_count": 10,
   "id": "4bd1c89c-ff5c-46e3-a4ad-a1b5f0acb952",
   "metadata": {
    "tags": []
   },
   "outputs": [
    {
     "data": {
      "text/html": [
       "<div>\n",
       "<style scoped>\n",
       "    .dataframe tbody tr th:only-of-type {\n",
       "        vertical-align: middle;\n",
       "    }\n",
       "\n",
       "    .dataframe tbody tr th {\n",
       "        vertical-align: top;\n",
       "    }\n",
       "\n",
       "    .dataframe thead th {\n",
       "        text-align: right;\n",
       "    }\n",
       "</style>\n",
       "<table border=\"1\" class=\"dataframe\">\n",
       "  <thead>\n",
       "    <tr style=\"text-align: right;\">\n",
       "      <th></th>\n",
       "      <th>INICIAL</th>\n",
       "      <th>MAXIMO</th>\n",
       "    </tr>\n",
       "  </thead>\n",
       "  <tbody>\n",
       "    <tr>\n",
       "      <th>0</th>\n",
       "      <td>C</td>\n",
       "      <td>318500</td>\n",
       "    </tr>\n",
       "    <tr>\n",
       "      <th>1</th>\n",
       "      <td>G</td>\n",
       "      <td>390000</td>\n",
       "    </tr>\n",
       "    <tr>\n",
       "      <th>2</th>\n",
       "      <td>J</td>\n",
       "      <td>386750</td>\n",
       "    </tr>\n",
       "    <tr>\n",
       "      <th>3</th>\n",
       "      <td>M</td>\n",
       "      <td>169000</td>\n",
       "    </tr>\n",
       "    <tr>\n",
       "      <th>4</th>\n",
       "      <td>N</td>\n",
       "      <td>370500</td>\n",
       "    </tr>\n",
       "    <tr>\n",
       "      <th>5</th>\n",
       "      <td>R</td>\n",
       "      <td>650000</td>\n",
       "    </tr>\n",
       "    <tr>\n",
       "      <th>6</th>\n",
       "      <td>S</td>\n",
       "      <td>162500</td>\n",
       "    </tr>\n",
       "    <tr>\n",
       "      <th>7</th>\n",
       "      <td>T</td>\n",
       "      <td>195000</td>\n",
       "    </tr>\n",
       "  </tbody>\n",
       "</table>\n",
       "</div>"
      ],
      "text/plain": [
       "  INICIAL  MAXIMO\n",
       "0       C  318500\n",
       "1       G  390000\n",
       "2       J  386750\n",
       "3       M  169000\n",
       "4       N  370500\n",
       "5       R  650000\n",
       "6       S  162500\n",
       "7       T  195000"
      ]
     },
     "execution_count": 10,
     "metadata": {},
     "output_type": "execute_result"
    }
   ],
   "source": [
    "QUERY = \"\"\"\n",
    "SELECT SUBSTRING(APELLIDO,1,1) AS INICIAL, MAX (SALARIO) AS MAXIMO\n",
    "FROM EMPLEADO\n",
    "WHERE NOT (LEN(APELLIDO) - LEN(REPLACE(UPPER(APELLIDO), 'N', ''))) > 1\n",
    "GROUP BY SUBSTRING(APELLIDO,1,1)\n",
    "HAVING NOT SUBSTRING(APELLIDO,1,1) IN ('A','E','I', 'O','U')\n",
    "ORDER BY INICIAL;\n",
    "\"\"\"\n",
    "df = pd.read_sql_query(QUERY, engine)\n",
    "df"
   ]
  },
  {
   "cell_type": "markdown",
   "id": "9f6228ab-7b4f-45dd-96e8-cafea6b53d72",
   "metadata": {},
   "source": [
    "##### 28. Se desea obtener un informe matriz como el que se presenta, en el que la coordenada vertical hace referencia a los distintos oficios existentes en la empresa, y la coordenada horizontal a los distintos departamentos. Los valores de la matriz, indicaran la suma de salarios por oficio y departamento. La ultima columna indica la suma total de salarios por oficio."
   ]
  },
  {
   "cell_type": "code",
   "execution_count": 11,
   "id": "24f8cc80-1541-45b5-91c4-f77b2e372949",
   "metadata": {
    "tags": []
   },
   "outputs": [
    {
     "data": {
      "text/html": [
       "<div>\n",
       "<style scoped>\n",
       "    .dataframe tbody tr th:only-of-type {\n",
       "        vertical-align: middle;\n",
       "    }\n",
       "\n",
       "    .dataframe tbody tr th {\n",
       "        vertical-align: top;\n",
       "    }\n",
       "\n",
       "    .dataframe thead th {\n",
       "        text-align: right;\n",
       "    }\n",
       "</style>\n",
       "<table border=\"1\" class=\"dataframe\">\n",
       "  <thead>\n",
       "    <tr style=\"text-align: right;\">\n",
       "      <th></th>\n",
       "      <th>OFICIO</th>\n",
       "      <th>DEPT_10</th>\n",
       "      <th>DEPT_20</th>\n",
       "      <th>DEPT_30</th>\n",
       "      <th>TOTAL</th>\n",
       "    </tr>\n",
       "  </thead>\n",
       "  <tbody>\n",
       "    <tr>\n",
       "      <th>0</th>\n",
       "      <td>Analista</td>\n",
       "      <td>0</td>\n",
       "      <td>780000</td>\n",
       "      <td>0</td>\n",
       "      <td>780000</td>\n",
       "    </tr>\n",
       "    <tr>\n",
       "      <th>1</th>\n",
       "      <td>Director</td>\n",
       "      <td>318500</td>\n",
       "      <td>386750</td>\n",
       "      <td>370500</td>\n",
       "      <td>1075750</td>\n",
       "    </tr>\n",
       "    <tr>\n",
       "      <th>2</th>\n",
       "      <td>Empleado</td>\n",
       "      <td>169000</td>\n",
       "      <td>247000</td>\n",
       "      <td>123500</td>\n",
       "      <td>539500</td>\n",
       "    </tr>\n",
       "    <tr>\n",
       "      <th>3</th>\n",
       "      <td>Presidente</td>\n",
       "      <td>650000</td>\n",
       "      <td>0</td>\n",
       "      <td>0</td>\n",
       "      <td>650000</td>\n",
       "    </tr>\n",
       "    <tr>\n",
       "      <th>4</th>\n",
       "      <td>Vendedor</td>\n",
       "      <td>0</td>\n",
       "      <td>0</td>\n",
       "      <td>728000</td>\n",
       "      <td>728000</td>\n",
       "    </tr>\n",
       "  </tbody>\n",
       "</table>\n",
       "</div>"
      ],
      "text/plain": [
       "       OFICIO  DEPT_10  DEPT_20  DEPT_30    TOTAL\n",
       "0    Analista        0   780000        0   780000\n",
       "1    Director   318500   386750   370500  1075750\n",
       "2    Empleado   169000   247000   123500   539500\n",
       "3  Presidente   650000        0        0   650000\n",
       "4    Vendedor        0        0   728000   728000"
      ]
     },
     "execution_count": 11,
     "metadata": {},
     "output_type": "execute_result"
    }
   ],
   "source": [
    "# UN EJEMPLO SIMPLE DE MODELOS DE CUBO OLAP (PIVOT)\n",
    "QUERY = \"\"\"\n",
    "SELECT OFICIO,\n",
    "\t\t\t\tSUM(CASE WHEN DEPT_NO = 10 THEN SALARIO ELSE 0 END) AS DEPT_10,\n",
    "\t\t\t\tSUM(CASE WHEN DEPT_NO = 20 THEN SALARIO ELSE 0 END) AS DEPT_20,\n",
    "\t\t\t\tSUM(CASE WHEN DEPT_NO = 30 THEN SALARIO ELSE 0 END) AS DEPT_30,\n",
    "\t\t\t\tSUM(SALARIO) AS TOTAL\n",
    "FROM EMPLEADO\n",
    "GROUP BY OFICIO;\n",
    "\"\"\"\n",
    "df = pd.read_sql_query(QUERY, engine)\n",
    "df"
   ]
  },
  {
   "cell_type": "markdown",
   "id": "837c81bb-6d49-467b-88a0-1730a8d4b646",
   "metadata": {},
   "source": [
    "##### 29. Se desea saber para cada departamento y oficio, la suma total de comisiones, teniendo en cuenta que para los empleados que no tienen comisión, se les asignara:\n",
    "\n",
    "- El 10% de su salario si son del departamento 10.\n",
    "- El 15% de su salario si son del departamento 20.\n",
    "- El 17% de su salario si son del departamento 30.\n",
    "- Cualquier otro departamento, el 5% de su salario.\n",
    "\n",
    "\n",
    "No se tendrá en cuenta a los empleados que hayan sido dados de alta después de 1981, ni al que ostente el cargo de \"PRESIDENTE\"."
   ]
  },
  {
   "cell_type": "code",
   "execution_count": 12,
   "id": "8a233041-f58e-49a2-92e1-6471590e01dc",
   "metadata": {},
   "outputs": [
    {
     "data": {
      "text/html": [
       "<div>\n",
       "<style scoped>\n",
       "    .dataframe tbody tr th:only-of-type {\n",
       "        vertical-align: middle;\n",
       "    }\n",
       "\n",
       "    .dataframe tbody tr th {\n",
       "        vertical-align: top;\n",
       "    }\n",
       "\n",
       "    .dataframe thead th {\n",
       "        text-align: right;\n",
       "    }\n",
       "</style>\n",
       "<table border=\"1\" class=\"dataframe\">\n",
       "  <thead>\n",
       "    <tr style=\"text-align: right;\">\n",
       "      <th></th>\n",
       "      <th>DEPT_NO</th>\n",
       "      <th>OFICIO</th>\n",
       "      <th>TOT_COM</th>\n",
       "    </tr>\n",
       "  </thead>\n",
       "  <tbody>\n",
       "    <tr>\n",
       "      <th>0</th>\n",
       "      <td>10</td>\n",
       "      <td>Director</td>\n",
       "      <td>31850.0</td>\n",
       "    </tr>\n",
       "    <tr>\n",
       "      <th>1</th>\n",
       "      <td>20</td>\n",
       "      <td>Analista</td>\n",
       "      <td>58500.0</td>\n",
       "    </tr>\n",
       "    <tr>\n",
       "      <th>2</th>\n",
       "      <td>20</td>\n",
       "      <td>Director</td>\n",
       "      <td>58012.5</td>\n",
       "    </tr>\n",
       "    <tr>\n",
       "      <th>3</th>\n",
       "      <td>20</td>\n",
       "      <td>Empleado</td>\n",
       "      <td>15600.0</td>\n",
       "    </tr>\n",
       "    <tr>\n",
       "      <th>4</th>\n",
       "      <td>30</td>\n",
       "      <td>Director</td>\n",
       "      <td>62985.0</td>\n",
       "    </tr>\n",
       "    <tr>\n",
       "      <th>5</th>\n",
       "      <td>30</td>\n",
       "      <td>Empleado</td>\n",
       "      <td>20995.0</td>\n",
       "    </tr>\n",
       "    <tr>\n",
       "      <th>6</th>\n",
       "      <td>30</td>\n",
       "      <td>Vendedor</td>\n",
       "      <td>319150.0</td>\n",
       "    </tr>\n",
       "  </tbody>\n",
       "</table>\n",
       "</div>"
      ],
      "text/plain": [
       "   DEPT_NO    OFICIO   TOT_COM\n",
       "0       10  Director   31850.0\n",
       "1       20  Analista   58500.0\n",
       "2       20  Director   58012.5\n",
       "3       20  Empleado   15600.0\n",
       "4       30  Director   62985.0\n",
       "5       30  Empleado   20995.0\n",
       "6       30  Vendedor  319150.0"
      ]
     },
     "execution_count": 12,
     "metadata": {},
     "output_type": "execute_result"
    }
   ],
   "source": [
    "QUERY = \"\"\"\n",
    "SELECT DEPT_NO, OFICIO, SUM(CASE\n",
    "\t\t\t\t\t\t\tWHEN ISNULL(COMISION, 0) > 0 THEN COMISION\n",
    "\t\t\t\t\t\t\tWHEN ISNULL(COMISION,0) = 0 AND DEPT_NO = 10 THEN SALARIO*0.1\n",
    "\t\t\t\t\t\t\tWHEN ISNULL(COMISION,0) = 0 AND DEPT_NO = 20 THEN SALARIO*0.15\n",
    "\t\t\t\t\t\t\tWHEN ISNULL(COMISION,0) = 0 AND DEPT_NO = 30 THEN SALARIO*0.17\n",
    "\t\t\t\t\t\t\tELSE SALARIO*0.05\n",
    "\t\t\t\t\t\t\tEND) AS TOT_COM\n",
    "FROM EMPLEADO\n",
    "WHERE NOT (DATEPART(YEAR, FECHA_ALTA) > 1981 OR UPPER(OFICIO) IN ('PRESIDENTE'))\n",
    "GROUP BY DEPT_NO, OFICIO\n",
    "ORDER BY DEPT_NO;\n",
    "\"\"\"\n",
    "df = pd.read_sql_query(QUERY, engine)\n",
    "df"
   ]
  },
  {
   "cell_type": "markdown",
   "id": "d69b50bc-1b7a-4f76-83d0-4ea6eab73aaf",
   "metadata": {},
   "source": [
    "##### 30.- Queremos saber el máximo, el mínimo y la media salarial, de cada departamento de la empresa"
   ]
  },
  {
   "cell_type": "code",
   "execution_count": 13,
   "id": "31805c39-88cb-49e4-884a-218249b629d6",
   "metadata": {},
   "outputs": [
    {
     "data": {
      "text/html": [
       "<div>\n",
       "<style scoped>\n",
       "    .dataframe tbody tr th:only-of-type {\n",
       "        vertical-align: middle;\n",
       "    }\n",
       "\n",
       "    .dataframe tbody tr th {\n",
       "        vertical-align: top;\n",
       "    }\n",
       "\n",
       "    .dataframe thead th {\n",
       "        text-align: right;\n",
       "    }\n",
       "</style>\n",
       "<table border=\"1\" class=\"dataframe\">\n",
       "  <thead>\n",
       "    <tr style=\"text-align: right;\">\n",
       "      <th></th>\n",
       "      <th>DEPT_NO</th>\n",
       "      <th>MAXIMO</th>\n",
       "      <th>MINIMO</th>\n",
       "      <th>PROMEDIO</th>\n",
       "    </tr>\n",
       "  </thead>\n",
       "  <tbody>\n",
       "    <tr>\n",
       "      <th>0</th>\n",
       "      <td>10</td>\n",
       "      <td>650000</td>\n",
       "      <td>169000</td>\n",
       "      <td>379166</td>\n",
       "    </tr>\n",
       "    <tr>\n",
       "      <th>1</th>\n",
       "      <td>20</td>\n",
       "      <td>390000</td>\n",
       "      <td>104000</td>\n",
       "      <td>282750</td>\n",
       "    </tr>\n",
       "    <tr>\n",
       "      <th>2</th>\n",
       "      <td>30</td>\n",
       "      <td>370500</td>\n",
       "      <td>123500</td>\n",
       "      <td>203666</td>\n",
       "    </tr>\n",
       "  </tbody>\n",
       "</table>\n",
       "</div>"
      ],
      "text/plain": [
       "   DEPT_NO  MAXIMO  MINIMO  PROMEDIO\n",
       "0       10  650000  169000    379166\n",
       "1       20  390000  104000    282750\n",
       "2       30  370500  123500    203666"
      ]
     },
     "execution_count": 13,
     "metadata": {},
     "output_type": "execute_result"
    }
   ],
   "source": [
    "QUERY = \"\"\"\n",
    "SELECT DEPT_NO, MAX(SALARIO) AS MAXIMO, MIN(SALARIO) AS MINIMO, AVG(SALARIO) AS PROMEDIO\n",
    "FROM EMPLEADO\n",
    "GROUP BY DEPT_NO;\n",
    "\"\"\"\n",
    "df = pd.read_sql_query(QUERY, engine)\n",
    "df"
   ]
  },
  {
   "cell_type": "code",
   "execution_count": 14,
   "id": "29175103-3617-4c95-b76d-4174e48de5ab",
   "metadata": {},
   "outputs": [],
   "source": [
    "# por buena practica, asegurarse de que la conexion se ciere\n",
    "engine.dispose()"
   ]
  },
  {
   "cell_type": "markdown",
   "id": "dbf38f1e-7dc9-4693-9041-fdb207a53f84",
   "metadata": {},
   "source": [
    "# Autor\n",
    "### Oscar Gutierrez Leal\n",
    "20 - 03 - 2024"
   ]
  }
 ],
 "metadata": {
  "kernelspec": {
   "display_name": "Python 3 (ipykernel)",
   "language": "python",
   "name": "python3"
  },
  "language_info": {
   "codemirror_mode": {
    "name": "ipython",
    "version": 3
   },
   "file_extension": ".py",
   "mimetype": "text/x-python",
   "name": "python",
   "nbconvert_exporter": "python",
   "pygments_lexer": "ipython3",
   "version": "3.11.8"
  }
 },
 "nbformat": 4,
 "nbformat_minor": 5
}
