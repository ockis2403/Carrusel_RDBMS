{
 "cells": [
  {
   "cell_type": "markdown",
   "id": "645852b6-5235-40ea-86e0-674682637ec9",
   "metadata": {},
   "source": [
    "<img src=https://static.wixstatic.com/media/f6bd9a_6a972d9b31324653bf198c38ce94339e~mv2.png>"
   ]
  },
  {
   "cell_type": "markdown",
   "id": "b269cb2e-61eb-4280-98e5-a9cd135aa254",
   "metadata": {},
   "source": [
    "# Carrusel de RDBMS\n",
    "## Ejercicios de SQL resueltos"
   ]
  },
  {
   "cell_type": "markdown",
   "id": "c92503ec-2021-4fb6-adde-176d9e2c3190",
   "metadata": {},
   "source": [
    "En este cuaderno resuelvo los ejercicios del 51 al 60 del documento: 'Desarrollo de Aplicaciones en Entornos de Cuarta Generación y Herramientas CASE: Ejercicios de SQL.'\n",
    "\n",
    "Para ello utilizo una version de la base de datos  modificada para ser compatible en esta ocasion, para **Oracle**, siguiendo la estructura del libro.\n",
    "\n",
    "\n",
    "Tanto el diagrama de **Entidad-Relacion**, como el **Script** para cargar la base de datos (que permite, se pueda replicar el ejercicio) se encuentran disponibles en el mismo repositorio."
   ]
  },
  {
   "cell_type": "markdown",
   "id": "1164b4ee-2aad-4445-8365-25ae9411b24f",
   "metadata": {},
   "source": [
    "#### Celda para configurar el entorno"
   ]
  },
  {
   "cell_type": "code",
   "execution_count": null,
   "id": "b41d538c-9109-4aa4-aefc-661bfcf0cd56",
   "metadata": {},
   "outputs": [],
   "source": [
    "# !python -m pip install oracledb\n",
    "# !pip install pandas\n",
    "# !pip install sqlalchemy"
   ]
  },
  {
   "cell_type": "markdown",
   "id": "3ff1767a-cfe4-4521-84d6-748a9049b4c1",
   "metadata": {},
   "source": [
    "#### Importamos librerias y se realiza la conexion utilizando un archivo json con la configuracion local de la base de datos\n",
    "\n",
    "Si se desea replicar lo propio usando el script y este cuaderno, basta con crear el archivo json con el par de valores que contengan su informacion local y cargarlo al directorio.\n",
    "\n",
    "host:\n",
    "\n",
    "user:\n",
    "\n",
    "password:\n",
    "\n",
    "sid:"
   ]
  },
  {
   "cell_type": "code",
   "execution_count": 18,
   "id": "09e3c227-eb7d-4793-93bb-4f32aedea4b5",
   "metadata": {},
   "outputs": [],
   "source": [
    "# importar las librerias\n",
    "import json\n",
    "from sqlalchemy import create_engine\n",
    "from sqlalchemy import text\n",
    "import pandas as pd\n",
    "\n",
    "# Cargar los detalles de la conexión desde un archivo de configuración propio\n",
    "with open('config3.json') as f:\n",
    "    config = json.load(f)\n",
    "\n",
    "# Crear la cadena de conexión\n",
    "connection_str = f\"oracle+oracledb://{config['username']}:{config['password']}@{config['host']}:{config['port']}/{config['sid']}\"\n",
    "\n",
    "# Crear objeto engine de sqlalchemy que gestiona la conexion\n",
    "engine = create_engine(connection_str)"
   ]
  },
  {
   "cell_type": "markdown",
   "id": "6a0dcfa1-1207-4bec-b908-91f370dd6ae0",
   "metadata": {},
   "source": [
    "#### Realizamos una prueba y se Inspecciona la base de datos"
   ]
  },
  {
   "cell_type": "code",
   "execution_count": 2,
   "id": "9f02a182-81e7-41b9-adc4-d3fa78829e6f",
   "metadata": {},
   "outputs": [
    {
     "name": "stdout",
     "output_type": "stream",
     "text": [
      "La conexión se ha realizado con éxito.\n",
      "\n",
      "     table_name\n",
      "0      HOSPITAL\n",
      "1          SALA\n",
      "2     PLANTILLA\n",
      "3     OCUPACION\n",
      "4        DOCTOR\n",
      "5       ENFERMO\n",
      "6      EMPLEADO\n",
      "7  DEPARTAMENTO\n"
     ]
    }
   ],
   "source": [
    "# Definir consulta en SQL compatible con Oracle\n",
    "try:\n",
    "    QUERY = \"\"\"\n",
    "    SELECT table_name FROM user_tables\n",
    "    \"\"\"\n",
    "# Ejecutar la consulta y obtener los resultados en un DataFrame\n",
    "    df = pd.read_sql_query(QUERY, engine)\n",
    "# Mostrar los primeros resultados\n",
    "    print(\"La conexión se ha realizado con éxito.\\n\")\n",
    "    print(df)\n",
    "except Exception as e:\n",
    "    print(\"Hubo un error al realizar la conexión:\", e)"
   ]
  },
  {
   "cell_type": "markdown",
   "id": "fd161618-fbc1-41f3-8376-daa25d24364c",
   "metadata": {},
   "source": [
    "#### Inspeccion a las tablas de la base de datos \n",
    "#### Con la finalidad de observar su estructura y tipo de datos"
   ]
  },
  {
   "cell_type": "code",
   "execution_count": 3,
   "id": "431d9746-2701-47d4-9250-6624b7018951",
   "metadata": {},
   "outputs": [
    {
     "name": "stdout",
     "output_type": "stream",
     "text": [
      "El contenido de la tabla HOSPITAL\n",
      "\n",
      "    column_name data_type  data_length\n",
      "0  HOSPITAL_COD    NUMBER           22\n",
      "1        NOMBRE  VARCHAR2           10\n",
      "2     DIRECCION  VARCHAR2           20\n",
      "3      TELEFONO  VARCHAR2            8\n",
      "4      NUM_CAMA    NUMBER           22\n",
      "\n",
      "El contenido de la tabla SALA\n",
      "\n",
      "    column_name data_type  data_length\n",
      "0  HOSPITAL_COD    NUMBER           22\n",
      "1      SALA_COD    NUMBER           22\n",
      "2        NOMBRE  VARCHAR2           20\n",
      "3      NUM_CAMA    NUMBER           22\n",
      "\n",
      "El contenido de la tabla PLANTILLA\n",
      "\n",
      "    column_name data_type  data_length\n",
      "0  HOSPITAL_COD    NUMBER           22\n",
      "1      SALA_COD    NUMBER           22\n",
      "2   EMPLEADO_NO    NUMBER           22\n",
      "3      APELLIDO  VARCHAR2           15\n",
      "4       FUNCION  VARCHAR2           10\n",
      "5         TURNO  VARCHAR2            1\n",
      "6       SALARIO    NUMBER           22\n",
      "\n",
      "El contenido de la tabla OCUPACION\n",
      "\n",
      "    column_name data_type  data_length\n",
      "0   INSCRIPCION    NUMBER           22\n",
      "1  HOSPITAL_COD    NUMBER           22\n",
      "2      SALA_COD    NUMBER           22\n",
      "3          CAMA    NUMBER           22\n",
      "\n",
      "El contenido de la tabla DOCTOR\n",
      "\n",
      "    column_name data_type  data_length\n",
      "0  HOSPITAL_COD    NUMBER           22\n",
      "1     DOCTOR_NO    NUMBER           22\n",
      "2      APELLIDO  VARCHAR2           13\n",
      "3  ESPECIALIDAD  VARCHAR2           16\n",
      "\n",
      "El contenido de la tabla ENFERMO\n",
      "\n",
      "   column_name data_type  data_length\n",
      "0  INSCRIPCION    NUMBER           22\n",
      "1     APELLIDO  VARCHAR2           15\n",
      "2    DIRECCION  VARCHAR2           20\n",
      "3    FECHA_NAC      DATE            7\n",
      "4            S  VARCHAR2            1\n",
      "5          NSS    NUMBER           22\n",
      "\n",
      "El contenido de la tabla EMPLEADO\n",
      "\n",
      "  column_name data_type  data_length\n",
      "0      EMP_NO    NUMBER           22\n",
      "1    APELLIDO  VARCHAR2           10\n",
      "2      OFICIO  VARCHAR2           10\n",
      "3         DIR    NUMBER           22\n",
      "4  FECHA_ALTA      DATE            7\n",
      "5     SALARIO    NUMBER           22\n",
      "6    COMISION    NUMBER           22\n",
      "7     DEPT_NO    NUMBER           22\n",
      "\n",
      "El contenido de la tabla DEPARTAMENTO\n",
      "\n",
      "  column_name data_type  data_length\n",
      "0     DEPT_NO    NUMBER           22\n",
      "1     DNOMBRE  VARCHAR2           14\n",
      "2         LOC  VARCHAR2           14\n",
      "\n"
     ]
    }
   ],
   "source": [
    "for valor in df['table_name']:\n",
    "    QUERY = f\"SELECT column_name, data_type, data_length FROM USER_TAB_COLUMNS WHERE table_name = '{valor}'\" \n",
    "    df1 = pd.read_sql_query(QUERY, engine)\n",
    "    print(f'El contenido de la tabla {valor}\\n')\n",
    "    print(df1)\n",
    "    print()"
   ]
  },
  {
   "cell_type": "markdown",
   "id": "419645ab-e6ee-4c68-83d3-6cb7c6be3b51",
   "metadata": {},
   "source": [
    "### Resolucion de los ejercicios numerados del 51 al 60"
   ]
  },
  {
   "cell_type": "markdown",
   "id": "c87d1fa1-35bb-4ed1-877e-1417d6d9ac82",
   "metadata": {},
   "source": [
    "##### 51. Se desea averiguar el numero de oficios por departamento, sin tener en cuenta en el muestreo a aquellos individuos que están en alguno de los departamentos que contienen VENDEDORES. La salida de la consulta será como la siguiente.\n",
    "\n",
    "|NUMERO|NUM-DEP|NOMBRE|\n",
    "|:---:|:--------:|:---------:|\n",
    "|3 |10 |CONTABILIDAD|\n",
    "|3 |20 |INVESTIGACIÓN|\n",
    "|0 |40 |OPERACIONES|"
   ]
  },
  {
   "cell_type": "code",
   "execution_count": 4,
   "id": "0400b511-f94c-45b3-90fa-dd1834b4dce8",
   "metadata": {},
   "outputs": [
    {
     "data": {
      "text/html": [
       "<div>\n",
       "<style scoped>\n",
       "    .dataframe tbody tr th:only-of-type {\n",
       "        vertical-align: middle;\n",
       "    }\n",
       "\n",
       "    .dataframe tbody tr th {\n",
       "        vertical-align: top;\n",
       "    }\n",
       "\n",
       "    .dataframe thead th {\n",
       "        text-align: right;\n",
       "    }\n",
       "</style>\n",
       "<table border=\"1\" class=\"dataframe\">\n",
       "  <thead>\n",
       "    <tr style=\"text-align: right;\">\n",
       "      <th></th>\n",
       "      <th>NUMERO</th>\n",
       "      <th>NOM_DEP</th>\n",
       "      <th>NOMBRE</th>\n",
       "    </tr>\n",
       "  </thead>\n",
       "  <tbody>\n",
       "    <tr>\n",
       "      <th>0</th>\n",
       "      <td>3</td>\n",
       "      <td>10</td>\n",
       "      <td>CONTABILIDAD</td>\n",
       "    </tr>\n",
       "    <tr>\n",
       "      <th>1</th>\n",
       "      <td>3</td>\n",
       "      <td>20</td>\n",
       "      <td>INVESTIGACIÓN</td>\n",
       "    </tr>\n",
       "    <tr>\n",
       "      <th>2</th>\n",
       "      <td>0</td>\n",
       "      <td>40</td>\n",
       "      <td>OPERACIONES</td>\n",
       "    </tr>\n",
       "  </tbody>\n",
       "</table>\n",
       "</div>"
      ],
      "text/plain": [
       "   NUMERO  NOM_DEP         NOMBRE\n",
       "0       3       10   CONTABILIDAD\n",
       "1       3       20  INVESTIGACIÓN\n",
       "2       0       40    OPERACIONES"
      ]
     },
     "execution_count": 4,
     "metadata": {},
     "output_type": "execute_result"
    }
   ],
   "source": [
    "QUERY = \"\"\"\n",
    "SELECT  COUNT(DISTINCT(E.OFICIO)) AS NUMERO, D.DEPT_NO AS NOM_DEP, D.DNOMBRE AS NOMBRE\n",
    "FROM EMPLEADO E\n",
    "RIGHT OUTER JOIN DEPARTAMENTO D\n",
    "ON E.DEPT_NO = D.DEPT_NO\n",
    "WHERE D.DEPT_NO NOT IN(SELECT DISTINCT(DEPT_NO)\n",
    "                        FROM EMPLEADO\n",
    "                        WHERE UPPER(OFICIO) LIKE 'VENDEDO%')\n",
    "GROUP BY  D.DEPT_NO, D.DNOMBRE\n",
    "ORDER BY 2\n",
    "\"\"\"\n",
    "df = pd.read_sql_query(QUERY, engine)\n",
    "df.columns = df.columns.str.upper()\n",
    "df"
   ]
  },
  {
   "cell_type": "markdown",
   "id": "d0aa155f-6ec6-48fa-bcc8-72b4c47efb4a",
   "metadata": {},
   "source": [
    "##### 52. Sacar con el formato que aparece abajo, el apellido departamento y sueldo del empleado que mas gana en la empresa y del que menos.\n",
    "\n",
    "|DEP|MAXIMO|APELLIDO|DEP|MÍNIMO|APELLIDO|\n",
    "|:------:|:------------:|:---------:|:-------:|:------------:|:-------:|\n",
    "|10|650000|REY|20|104000|SANCHEZ|"
   ]
  },
  {
   "cell_type": "code",
   "execution_count": 5,
   "id": "685167be-10ca-4057-ab96-bf65f2146ac1",
   "metadata": {},
   "outputs": [
    {
     "data": {
      "text/html": [
       "<div>\n",
       "<style scoped>\n",
       "    .dataframe tbody tr th:only-of-type {\n",
       "        vertical-align: middle;\n",
       "    }\n",
       "\n",
       "    .dataframe tbody tr th {\n",
       "        vertical-align: top;\n",
       "    }\n",
       "\n",
       "    .dataframe thead th {\n",
       "        text-align: right;\n",
       "    }\n",
       "</style>\n",
       "<table border=\"1\" class=\"dataframe\">\n",
       "  <thead>\n",
       "    <tr style=\"text-align: right;\">\n",
       "      <th></th>\n",
       "      <th>DEP</th>\n",
       "      <th>MAXIMO</th>\n",
       "      <th>APELLIDO</th>\n",
       "      <th>DEP</th>\n",
       "      <th>MINIMO</th>\n",
       "      <th>APELLIDO</th>\n",
       "    </tr>\n",
       "  </thead>\n",
       "  <tbody>\n",
       "    <tr>\n",
       "      <th>0</th>\n",
       "      <td>10</td>\n",
       "      <td>650000</td>\n",
       "      <td>Rey</td>\n",
       "      <td>20</td>\n",
       "      <td>104000</td>\n",
       "      <td>Sanchez</td>\n",
       "    </tr>\n",
       "  </tbody>\n",
       "</table>\n",
       "</div>"
      ],
      "text/plain": [
       "   DEP  MAXIMO APELLIDO  DEP  MINIMO APELLIDO\n",
       "0   10  650000      Rey   20  104000  Sanchez"
      ]
     },
     "execution_count": 5,
     "metadata": {},
     "output_type": "execute_result"
    }
   ],
   "source": [
    "QUERY = \"\"\"\n",
    "SELECT MX.DEPT_NO DEP, MX.SALARIO MAXIMO, MX.APELLIDO APELLIDO, MN.DEPT_NO DEP,  MN.SALARIO MINIMO, MN.APELLIDO APELLIDO\n",
    "FROM\n",
    "(SELECT DEPT_NO, APELLIDO, SALARIO FROM EMPLEADO WHERE SALARIO = (SELECT MAX(SALARIO) FROM EMPLEADO)) MX,\n",
    "(SELECT DEPT_NO, APELLIDO, SALARIO FROM EMPLEADO WHERE SALARIO = (SELECT MIN(SALARIO) FROM EMPLEADO)) MN\n",
    "\"\"\"\n",
    "df = pd.read_sql_query(QUERY, engine)\n",
    "df.columns = df.columns.str.upper()\n",
    "df"
   ]
  },
  {
   "cell_type": "markdown",
   "id": "3e686154-3614-4c40-8199-c28cc7b9338f",
   "metadata": {},
   "source": [
    "##### 53. En que departamento se dio de alta a mas empleados en Diciembre."
   ]
  },
  {
   "cell_type": "code",
   "execution_count": 6,
   "id": "26d603ee-b94d-4f26-adfe-cd20ee749f24",
   "metadata": {},
   "outputs": [
    {
     "data": {
      "text/html": [
       "<div>\n",
       "<style scoped>\n",
       "    .dataframe tbody tr th:only-of-type {\n",
       "        vertical-align: middle;\n",
       "    }\n",
       "\n",
       "    .dataframe tbody tr th {\n",
       "        vertical-align: top;\n",
       "    }\n",
       "\n",
       "    .dataframe thead th {\n",
       "        text-align: right;\n",
       "    }\n",
       "</style>\n",
       "<table border=\"1\" class=\"dataframe\">\n",
       "  <thead>\n",
       "    <tr style=\"text-align: right;\">\n",
       "      <th></th>\n",
       "      <th>NOMBRE</th>\n",
       "      <th>TOTAL</th>\n",
       "    </tr>\n",
       "  </thead>\n",
       "  <tbody>\n",
       "    <tr>\n",
       "      <th>0</th>\n",
       "      <td>INVESTIGACIÓN</td>\n",
       "      <td>3</td>\n",
       "    </tr>\n",
       "  </tbody>\n",
       "</table>\n",
       "</div>"
      ],
      "text/plain": [
       "          NOMBRE  TOTAL\n",
       "0  INVESTIGACIÓN      3"
      ]
     },
     "execution_count": 6,
     "metadata": {},
     "output_type": "execute_result"
    }
   ],
   "source": [
    "QUERY = \"\"\"\n",
    "SELECT * \n",
    "FROM (SELECT D.DNOMBRE NOMBRE, COUNT(E.DEPT_NO) TOTAL\n",
    "        FROM DEPARTAMENTO D\n",
    "        INNER JOIN EMPLEADO E\n",
    "        ON D.DEPT_NO = E.DEPT_NO\n",
    "        WHERE EXTRACT(MONTH FROM FECHA_ALTA) = 12\n",
    "        GROUP BY D.DNOMBRE\n",
    "        ORDER BY TOTAL DESC)\n",
    "WHERE ROWNUM <= 1\n",
    "\"\"\"\n",
    "df = pd.read_sql_query(QUERY, engine)\n",
    "df.columns = df.columns.str.upper()\n",
    "df"
   ]
  },
  {
   "cell_type": "markdown",
   "id": "2353dde7-2868-4da6-adc0-e56f719358ab",
   "metadata": {},
   "source": [
    "##### 54. Se desea obtener, para cada departamento, su mínimo y su maximo salarial. Para ello, no se tendrá en cuenta a los empleados cuya primera letra de su apellido, coincida con la inicial del nombre del departamento en que trabajan. Asimismo, se tendrá en cuenta a aquellos departamentos cuya diferencia entre el maximo y el mínimo exceda la media salarial de toda la empresa"
   ]
  },
  {
   "cell_type": "code",
   "execution_count": 7,
   "id": "f7a11c87-e292-4267-bede-70b3b137e474",
   "metadata": {},
   "outputs": [
    {
     "data": {
      "text/html": [
       "<div>\n",
       "<style scoped>\n",
       "    .dataframe tbody tr th:only-of-type {\n",
       "        vertical-align: middle;\n",
       "    }\n",
       "\n",
       "    .dataframe tbody tr th {\n",
       "        vertical-align: top;\n",
       "    }\n",
       "\n",
       "    .dataframe thead th {\n",
       "        text-align: right;\n",
       "    }\n",
       "</style>\n",
       "<table border=\"1\" class=\"dataframe\">\n",
       "  <thead>\n",
       "    <tr style=\"text-align: right;\">\n",
       "      <th></th>\n",
       "      <th>DEPT_NO</th>\n",
       "      <th>MAXIMO</th>\n",
       "      <th>MINIMO</th>\n",
       "    </tr>\n",
       "  </thead>\n",
       "  <tbody>\n",
       "    <tr>\n",
       "      <th>0</th>\n",
       "      <td>20</td>\n",
       "      <td>390000</td>\n",
       "      <td>104000</td>\n",
       "    </tr>\n",
       "    <tr>\n",
       "      <th>1</th>\n",
       "      <td>10</td>\n",
       "      <td>650000</td>\n",
       "      <td>169000</td>\n",
       "    </tr>\n",
       "  </tbody>\n",
       "</table>\n",
       "</div>"
      ],
      "text/plain": [
       "   DEPT_NO  MAXIMO  MINIMO\n",
       "0       20  390000  104000\n",
       "1       10  650000  169000"
      ]
     },
     "execution_count": 7,
     "metadata": {},
     "output_type": "execute_result"
    }
   ],
   "source": [
    "QUERY = \"\"\"\n",
    "SELECT DEPT_NO, MAX(SALARIO) MAXIMO, MIN(SALARIO) MINIMO\n",
    "FROM EMPLEADO\n",
    "WHERE EMP_NO IN (SELECT E.EMP_NO\n",
    "                FROM EMPLEADO E\n",
    "                INNER JOIN DEPARTAMENTO D\n",
    "                ON E.DEPT_NO = D.DEPT_NO\n",
    "                WHERE SUBSTR(E.APELLIDO,1,1) <> SUBSTR(D.DNOMBRE,1,1))\n",
    "GROUP BY DEPT_NO\n",
    "HAVING MAX(SALARIO) - MIN(SALARIO)  > (SELECT AVG(SALARIO) FROM EMPLEADO)\n",
    "\"\"\"\n",
    "df = pd.read_sql_query(QUERY, engine)\n",
    "df.columns = df.columns.str.upper()\n",
    "df"
   ]
  },
  {
   "cell_type": "markdown",
   "id": "ce550abd-6daf-4aee-bfaa-788d9f2b5a73",
   "metadata": {},
   "source": [
    "##### 55. Queremos saber el nombre de el empleado mas joven de cada departamento, así como el nombre de este."
   ]
  },
  {
   "cell_type": "code",
   "execution_count": 8,
   "id": "ddc419e2-d287-4756-b18f-3efa8ac19c63",
   "metadata": {},
   "outputs": [
    {
     "data": {
      "text/html": [
       "<div>\n",
       "<style scoped>\n",
       "    .dataframe tbody tr th:only-of-type {\n",
       "        vertical-align: middle;\n",
       "    }\n",
       "\n",
       "    .dataframe tbody tr th {\n",
       "        vertical-align: top;\n",
       "    }\n",
       "\n",
       "    .dataframe thead th {\n",
       "        text-align: right;\n",
       "    }\n",
       "</style>\n",
       "<table border=\"1\" class=\"dataframe\">\n",
       "  <thead>\n",
       "    <tr style=\"text-align: right;\">\n",
       "      <th></th>\n",
       "      <th>DEPT_NO</th>\n",
       "      <th>DNOMBRE</th>\n",
       "      <th>APELLIDO</th>\n",
       "      <th>FECHA_ALTA</th>\n",
       "    </tr>\n",
       "  </thead>\n",
       "  <tbody>\n",
       "    <tr>\n",
       "      <th>0</th>\n",
       "      <td>10</td>\n",
       "      <td>CONTABILIDAD</td>\n",
       "      <td>Muñoz</td>\n",
       "      <td>1982-01-23</td>\n",
       "    </tr>\n",
       "    <tr>\n",
       "      <th>1</th>\n",
       "      <td>20</td>\n",
       "      <td>INVESTIGACIÓN</td>\n",
       "      <td>Alonso</td>\n",
       "      <td>1983-01-12</td>\n",
       "    </tr>\n",
       "    <tr>\n",
       "      <th>2</th>\n",
       "      <td>30</td>\n",
       "      <td>VENTAS</td>\n",
       "      <td>Jimeno</td>\n",
       "      <td>1981-12-03</td>\n",
       "    </tr>\n",
       "  </tbody>\n",
       "</table>\n",
       "</div>"
      ],
      "text/plain": [
       "   DEPT_NO        DNOMBRE APELLIDO FECHA_ALTA\n",
       "0       10   CONTABILIDAD    Muñoz 1982-01-23\n",
       "1       20  INVESTIGACIÓN   Alonso 1983-01-12\n",
       "2       30         VENTAS   Jimeno 1981-12-03"
      ]
     },
     "execution_count": 8,
     "metadata": {},
     "output_type": "execute_result"
    }
   ],
   "source": [
    "QUERY = \"\"\"\n",
    "SELECT E.DEPT_NO, D.DNOMBRE, E.APELLIDO, E.FECHA_ALTA\n",
    "FROM EMPLEADO E\n",
    "INNER JOIN DEPARTAMENTO D ON E.DEPT_NO = D.DEPT_NO\n",
    "INNER JOIN (SELECT  DEPT_NO, MAX(FECHA_ALTA) F FROM EMPLEADO GROUP BY DEPT_NO) C\n",
    "ON E.DEPT_NO = C.DEPT_NO AND E.FECHA_ALTA = C.F\n",
    "ORDER BY 1\n",
    "\"\"\"\n",
    "df = pd.read_sql_query(QUERY, engine)\n",
    "df.columns = df.columns.str.upper()\n",
    "df"
   ]
  },
  {
   "cell_type": "markdown",
   "id": "8721a184-4b3b-4d59-8c43-43d56c843b4c",
   "metadata": {},
   "source": [
    "##### 56. Se desea saber el nombre, oficio y departamento del empleado que más gana del departamento con la media salarial más alta."
   ]
  },
  {
   "cell_type": "code",
   "execution_count": 9,
   "id": "9e34c27b-b1e7-4bdc-9f0d-192e1dccf1a8",
   "metadata": {},
   "outputs": [
    {
     "data": {
      "text/html": [
       "<div>\n",
       "<style scoped>\n",
       "    .dataframe tbody tr th:only-of-type {\n",
       "        vertical-align: middle;\n",
       "    }\n",
       "\n",
       "    .dataframe tbody tr th {\n",
       "        vertical-align: top;\n",
       "    }\n",
       "\n",
       "    .dataframe thead th {\n",
       "        text-align: right;\n",
       "    }\n",
       "</style>\n",
       "<table border=\"1\" class=\"dataframe\">\n",
       "  <thead>\n",
       "    <tr style=\"text-align: right;\">\n",
       "      <th></th>\n",
       "      <th>DEPT_NO</th>\n",
       "      <th>APELLIDO</th>\n",
       "      <th>OFICIO</th>\n",
       "    </tr>\n",
       "  </thead>\n",
       "  <tbody>\n",
       "    <tr>\n",
       "      <th>0</th>\n",
       "      <td>10</td>\n",
       "      <td>Rey</td>\n",
       "      <td>Presidente</td>\n",
       "    </tr>\n",
       "  </tbody>\n",
       "</table>\n",
       "</div>"
      ],
      "text/plain": [
       "   DEPT_NO APELLIDO      OFICIO\n",
       "0       10      Rey  Presidente"
      ]
     },
     "execution_count": 9,
     "metadata": {},
     "output_type": "execute_result"
    }
   ],
   "source": [
    "QUERY = \"\"\"\n",
    "SELECT DEPT_NO, APELLIDO, OFICIO\n",
    "FROM EMPLEADO\n",
    "WHERE DEPT_NO =\n",
    "                (SELECT DEPT_NO FROM\n",
    "                                (SELECT DEPT_NO, ROUND(AVG(SALARIO), 0) FROM EMPLEADO GROUP BY DEPT_NO ORDER BY 2 DESC)\n",
    "                WHERE ROWNUM <= 1)\n",
    "AND SALARIO IN (SELECT MAX(SALARIO) FROM EMPLEADO GROUP BY DEPT_NO)\n",
    "\"\"\"\n",
    "df = pd.read_sql_query(QUERY, engine)\n",
    "df.columns = df.columns.str.upper()\n",
    "df"
   ]
  },
  {
   "cell_type": "markdown",
   "id": "3daba66d-2aa9-4de5-bdab-b643ca96842e",
   "metadata": {},
   "source": [
    "##### 57. Se desea obtener información sobre todos los empleados que son jefes de alguien."
   ]
  },
  {
   "cell_type": "code",
   "execution_count": 10,
   "id": "b494b616-a397-4f09-958a-9df496c15b8d",
   "metadata": {},
   "outputs": [
    {
     "data": {
      "text/html": [
       "<div>\n",
       "<style scoped>\n",
       "    .dataframe tbody tr th:only-of-type {\n",
       "        vertical-align: middle;\n",
       "    }\n",
       "\n",
       "    .dataframe tbody tr th {\n",
       "        vertical-align: top;\n",
       "    }\n",
       "\n",
       "    .dataframe thead th {\n",
       "        text-align: right;\n",
       "    }\n",
       "</style>\n",
       "<table border=\"1\" class=\"dataframe\">\n",
       "  <thead>\n",
       "    <tr style=\"text-align: right;\">\n",
       "      <th></th>\n",
       "      <th>APELLIDO</th>\n",
       "      <th>OFICIO</th>\n",
       "      <th>DEPT_NO</th>\n",
       "    </tr>\n",
       "  </thead>\n",
       "  <tbody>\n",
       "    <tr>\n",
       "      <th>0</th>\n",
       "      <td>Cerezo</td>\n",
       "      <td>Director</td>\n",
       "      <td>10</td>\n",
       "    </tr>\n",
       "    <tr>\n",
       "      <th>1</th>\n",
       "      <td>Fernandez</td>\n",
       "      <td>Analista</td>\n",
       "      <td>20</td>\n",
       "    </tr>\n",
       "    <tr>\n",
       "      <th>2</th>\n",
       "      <td>Gil</td>\n",
       "      <td>Analista</td>\n",
       "      <td>20</td>\n",
       "    </tr>\n",
       "    <tr>\n",
       "      <th>3</th>\n",
       "      <td>Jimenez</td>\n",
       "      <td>Director</td>\n",
       "      <td>20</td>\n",
       "    </tr>\n",
       "    <tr>\n",
       "      <th>4</th>\n",
       "      <td>Negro</td>\n",
       "      <td>Director</td>\n",
       "      <td>30</td>\n",
       "    </tr>\n",
       "    <tr>\n",
       "      <th>5</th>\n",
       "      <td>Rey</td>\n",
       "      <td>Presidente</td>\n",
       "      <td>10</td>\n",
       "    </tr>\n",
       "  </tbody>\n",
       "</table>\n",
       "</div>"
      ],
      "text/plain": [
       "    APELLIDO      OFICIO  DEPT_NO\n",
       "0     Cerezo    Director       10\n",
       "1  Fernandez    Analista       20\n",
       "2        Gil    Analista       20\n",
       "3    Jimenez    Director       20\n",
       "4      Negro    Director       30\n",
       "5        Rey  Presidente       10"
      ]
     },
     "execution_count": 10,
     "metadata": {},
     "output_type": "execute_result"
    }
   ],
   "source": [
    "QUERY = \"\"\"\n",
    "SELECT APELLIDO, OFICIO, DEPT_NO\n",
    "FROM EMPLEADO \n",
    "WHERE EMP_NO IN \n",
    "                (SELECT DISTINCT(DIR)\n",
    "                FROM EMPLEADO \n",
    "                WHERE DIR IS NOT NULL)\n",
    "ORDER BY 1\n",
    "\"\"\"\n",
    "df = pd.read_sql_query(QUERY, engine)\n",
    "df.columns = df.columns.str.upper()\n",
    "df"
   ]
  },
  {
   "cell_type": "markdown",
   "id": "338faddf-b919-4d33-8eba-a081cd6f2aa9",
   "metadata": {},
   "source": [
    "##### 58. Recuperar el numero (empleado_no) y nombre de las personas que perciban un salario > que la media de **su** hospital."
   ]
  },
  {
   "cell_type": "code",
   "execution_count": 11,
   "id": "997740d3-577f-4e70-9c40-0dadc9793379",
   "metadata": {},
   "outputs": [
    {
     "data": {
      "text/html": [
       "<div>\n",
       "<style scoped>\n",
       "    .dataframe tbody tr th:only-of-type {\n",
       "        vertical-align: middle;\n",
       "    }\n",
       "\n",
       "    .dataframe tbody tr th {\n",
       "        vertical-align: top;\n",
       "    }\n",
       "\n",
       "    .dataframe thead th {\n",
       "        text-align: right;\n",
       "    }\n",
       "</style>\n",
       "<table border=\"1\" class=\"dataframe\">\n",
       "  <thead>\n",
       "    <tr style=\"text-align: right;\">\n",
       "      <th></th>\n",
       "      <th>EMPLEADO_NO</th>\n",
       "      <th>APELLIDO</th>\n",
       "    </tr>\n",
       "  </thead>\n",
       "  <tbody>\n",
       "    <tr>\n",
       "      <th>0</th>\n",
       "      <td>3106</td>\n",
       "      <td>Hernandez J.</td>\n",
       "    </tr>\n",
       "    <tr>\n",
       "      <th>1</th>\n",
       "      <td>1009</td>\n",
       "      <td>Higueras D.</td>\n",
       "    </tr>\n",
       "    <tr>\n",
       "      <th>2</th>\n",
       "      <td>9901</td>\n",
       "      <td>NuÑez C.</td>\n",
       "    </tr>\n",
       "    <tr>\n",
       "      <th>3</th>\n",
       "      <td>7379</td>\n",
       "      <td>Carlos R.</td>\n",
       "    </tr>\n",
       "    <tr>\n",
       "      <th>4</th>\n",
       "      <td>8526</td>\n",
       "      <td>Frank H.</td>\n",
       "    </tr>\n",
       "  </tbody>\n",
       "</table>\n",
       "</div>"
      ],
      "text/plain": [
       "   EMPLEADO_NO      APELLIDO\n",
       "0         3106  Hernandez J.\n",
       "1         1009   Higueras D.\n",
       "2         9901      NuÑez C.\n",
       "3         7379     Carlos R.\n",
       "4         8526      Frank H."
      ]
     },
     "execution_count": 11,
     "metadata": {},
     "output_type": "execute_result"
    }
   ],
   "source": [
    "QUERY = \"\"\"\n",
    "SELECT P.EMPLEADO_NO, P.APELLIDO\n",
    "FROM PLANTILLA P, \n",
    "                (SELECT HOSPITAL_COD, ROUND(AVG(SALARIO),0) AS SAVG\n",
    "                FROM PLANTILLA\n",
    "                GROUP BY HOSPITAL_COD) P2\n",
    "WHERE P.HOSPITAL_COD = P2.HOSPITAL_COD AND P.SALARIO > P2.SAVG\n",
    "\"\"\"\n",
    "df = pd.read_sql_query(QUERY, engine)\n",
    "df.columns = df.columns.str.upper()\n",
    "df"
   ]
  },
  {
   "cell_type": "markdown",
   "id": "85cfb19f-8824-4305-a952-21dfc7d3ca0a",
   "metadata": {},
   "source": [
    "#### INSERCIONES"
   ]
  },
  {
   "cell_type": "markdown",
   "id": "3b5065af-121b-4f9e-9983-dd9ccd5f55c7",
   "metadata": {},
   "source": [
    "##### 59. Insertar en la tabla Plantilla al Garcia J. con un sueldo de 3000000 ptas, y número de empleado 1234. Trabaja en el hospital 22, sala2."
   ]
  },
  {
   "cell_type": "code",
   "execution_count": 12,
   "id": "3bc3ca08-69b4-402b-ab12-792fae0f9122",
   "metadata": {},
   "outputs": [
    {
     "name": "stdout",
     "output_type": "stream",
     "text": [
      " se ha modificado 1 fila(s)\n"
     ]
    }
   ],
   "source": [
    "with engine.begin() as connection:\n",
    "    QUERY = \"\"\"\n",
    "    INSERT INTO PLANTILLA (HOSPITAL_COD,SALA_COD, EMPLEADO_NO, APELLIDO, FUNCION, TURNO, SALARIO)\n",
    "    VALUES (22, 2, 1234, 'Garcia J.',NULL,NULL , 3000000)\n",
    "    \"\"\"\n",
    "    result = connection.execute(text(QUERY))\n",
    "print(f' se ha modificado {result.rowcount} fila(s)')"
   ]
  },
  {
   "cell_type": "markdown",
   "id": "6cf4de92-7136-464c-aa6b-998155e73f50",
   "metadata": {},
   "source": [
    "Como el siguiente ejercicio requiere insertar el mismo registro, procedemos a borrarrlo"
   ]
  },
  {
   "cell_type": "code",
   "execution_count": 19,
   "id": "34785927-daff-44fa-9f60-d914e3cbf608",
   "metadata": {},
   "outputs": [
    {
     "name": "stdout",
     "output_type": "stream",
     "text": [
      " se ha modificado 1 fila(s)\n"
     ]
    }
   ],
   "source": [
    "with engine.begin() as connection:\n",
    "    QUERY = \"\"\"\n",
    "    DELETE FROM PLANTILLA WHERE EMPLEADO_NO = 1234\n",
    "    \"\"\"\n",
    "    result = connection.execute(text(QUERY))\n",
    "print(f' se ha modificado {result.rowcount} fila(s)')"
   ]
  },
  {
   "cell_type": "markdown",
   "id": "ceefe2b2-7c83-4e14-aee1-f47e94fc88ad",
   "metadata": {},
   "source": [
    "##### 60. Insertar la misma fila anterior sin indicar en que campos se insertan. )Por qué no se indican?"
   ]
  },
  {
   "cell_type": "code",
   "execution_count": 20,
   "id": "efff1727-fcfa-4875-8a3d-c837f5ce00e7",
   "metadata": {},
   "outputs": [
    {
     "name": "stdout",
     "output_type": "stream",
     "text": [
      " se ha modificado 1 fila(s)\n"
     ]
    }
   ],
   "source": [
    "with engine.begin() as connection:\n",
    "    QUERY = \"\"\"\n",
    "    INSERT INTO PLANTILLA\n",
    "    VALUES (22, 2, 1234, 'Garcia J.',NULL,NULL , 3000000)\n",
    "    \"\"\"\n",
    "    result = connection.execute(text(query))\n",
    "print(f' se ha modificado {result.rowcount} fila(s)')\n",
    "# es aceptable insertar valores asi"
   ]
  },
  {
   "cell_type": "code",
   "execution_count": 21,
   "id": "ec529e66-0c37-4e2f-89fc-252ba695cc6d",
   "metadata": {},
   "outputs": [],
   "source": [
    "# cerrar la conexion\n",
    "engine.dispose()"
   ]
  },
  {
   "cell_type": "markdown",
   "id": "2e87b483-0e6b-49d4-ba76-686e1b16fa31",
   "metadata": {},
   "source": [
    "# Autor\n",
    "### Oscar Gutierrez Leal\n",
    "15 - 03 - 2024"
   ]
  }
 ],
 "metadata": {
  "kernelspec": {
   "display_name": "Python 3 (ipykernel)",
   "language": "python",
   "name": "python3"
  },
  "language_info": {
   "codemirror_mode": {
    "name": "ipython",
    "version": 3
   },
   "file_extension": ".py",
   "mimetype": "text/x-python",
   "name": "python",
   "nbconvert_exporter": "python",
   "pygments_lexer": "ipython3",
   "version": "3.11.8"
  }
 },
 "nbformat": 4,
 "nbformat_minor": 5
}
