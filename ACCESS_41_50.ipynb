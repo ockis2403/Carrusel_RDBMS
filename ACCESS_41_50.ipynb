{
 "cells": [
  {
   "cell_type": "markdown",
   "id": "47fde485-6018-4573-92a1-b37f7e168d53",
   "metadata": {},
   "source": [
    "<img src=https://static.wixstatic.com/media/f6bd9a_6a972d9b31324653bf198c38ce94339e~mv2.png>"
   ]
  },
  {
   "cell_type": "markdown",
   "id": "63deaa5c-5b2a-44ad-abdf-07b842cf2910",
   "metadata": {},
   "source": [
    "# Carrusel de RDBMS\n",
    "## Ejercicios de SQL resueltos"
   ]
  },
  {
   "cell_type": "markdown",
   "id": "a39e718f-65ce-4bac-8b71-4b4d33cca234",
   "metadata": {},
   "source": [
    "En este cuaderno resuelvo los ejercicios 41 al 50 del documento: 'Desarrollo de Aplicaciones en Entornos de Cuarta Generación y Herramientas CASE: Ejercicios de SQL.'\n",
    "\n",
    "Para ello utilizo una version de la base de datos -que nombre \"practicas_hospital\"- modificada para ser compatible en esta ocasion, para **MS ACCESS**, siguiendo la estructura del libro.\n",
    "\n",
    "\n",
    "Tanto el diagrama de **Entidad-Relacion**, como el **Script** para cargar la base de datos (que permite, se pueda replicar el ejercicio) en codigo VBA se encuentran disponibles en el mismo repositorio.\n",
    "\n",
    "Como un bono extra a modo de ejercicio se importa todas las tablas de la base de datos a un archivo  y las consultas a **MS Excel**"
   ]
  },
  {
   "cell_type": "markdown",
   "id": "fed62a9c-d50d-40ae-b557-e94a3da71bf3",
   "metadata": {},
   "source": [
    "#### Celda para configurar el entorno"
   ]
  },
  {
   "cell_type": "code",
   "execution_count": null,
   "id": "c0835ade-e663-4671-8554-0c39eb59f8fc",
   "metadata": {},
   "outputs": [],
   "source": [
    "# !pip install pandas\n",
    "# !pip install pyodbc\n",
    "# !pip install openpyxl"
   ]
  },
  {
   "cell_type": "markdown",
   "id": "be14efcb-53d9-4ca8-8cc2-eca2222a9b45",
   "metadata": {},
   "source": [
    "#### Importamos librerias y se realiza la conexion utilizando los datos de la configuracion local de la base de datos"
   ]
  },
  {
   "cell_type": "code",
   "execution_count": 1,
   "id": "a6f058d9-6c1f-4ab1-806b-00ed21bd7a99",
   "metadata": {},
   "outputs": [],
   "source": [
    "import pyodbc\n",
    "import pandas as pd\n",
    "\n",
    "# Crear la conexión\n",
    "conn = pyodbc.connect(r'Driver={Microsoft Access Driver (*.mdb, *.accdb)};DBQ=C:\\\\Users\\\\ockis\\\\OneDrive\\\\Escritorio\\\\Nueva carpeta\\\\access\\\\practicas_hospital.accdb;')\n",
    "\n",
    "# Crear un cursor\n",
    "cursor = conn.cursor()\n"
   ]
  },
  {
   "cell_type": "markdown",
   "id": "e411d85d-23e3-47b0-bca5-f4bf8740a8bd",
   "metadata": {},
   "source": [
    "#### Realizamos una prueba y se Inspecciona la base de datos \"practicas_hospital\""
   ]
  },
  {
   "cell_type": "code",
   "execution_count": 2,
   "id": "e5028198-5538-449d-a422-bc366250e9f7",
   "metadata": {},
   "outputs": [
    {
     "name": "stdout",
     "output_type": "stream",
     "text": [
      "DEPARTAMENTO\n",
      "DOCTOR\n",
      "EMPLEADO\n",
      "ENFERMO\n",
      "HOSPITAL\n",
      "OCUPACION\n",
      "PLANTILLA\n",
      "SALA\n",
      "\n",
      "La conexión se ha realizado con éxito.\n",
      "Estas son las tablas\n"
     ]
    }
   ],
   "source": [
    "# Ejecutar la consulta e imprimir los resultados \n",
    "tablas = []\n",
    "try:\n",
    "    for table_info in cursor.tables(tableType='TABLE'):\n",
    "        print(table_info.table_name)\n",
    "        tablas.append(table_info.table_name)\n",
    "    print(\"\\nLa conexión se ha realizado con éxito.\\nEstas son las tablas\")\n",
    "except Exception as e:\n",
    "    print(\"\\n Hubo un error al realizar la conexión:\", e)"
   ]
  },
  {
   "cell_type": "markdown",
   "id": "674d04e1-18bc-401f-a26e-b746ea568c61",
   "metadata": {},
   "source": [
    "### Resolucion de algunos ejercicios "
   ]
  },
  {
   "cell_type": "markdown",
   "id": "9086650e-edf2-4c38-bba4-d24aeffb2483",
   "metadata": {},
   "source": [
    "#####  41. Se desea obtener un listado combinación de los dos ejercicios anteriores (39 Y 40)."
   ]
  },
  {
   "cell_type": "code",
   "execution_count": 3,
   "id": "ae41edea-172f-443c-b1a2-c429129604c4",
   "metadata": {},
   "outputs": [],
   "source": [
    "cont = 41"
   ]
  },
  {
   "cell_type": "code",
   "execution_count": 4,
   "id": "2a521792-b13e-49f0-adec-b9ad5b60de82",
   "metadata": {},
   "outputs": [
    {
     "data": {
      "text/html": [
       "<div>\n",
       "<style scoped>\n",
       "    .dataframe tbody tr th:only-of-type {\n",
       "        vertical-align: middle;\n",
       "    }\n",
       "\n",
       "    .dataframe tbody tr th {\n",
       "        vertical-align: top;\n",
       "    }\n",
       "\n",
       "    .dataframe thead th {\n",
       "        text-align: right;\n",
       "    }\n",
       "</style>\n",
       "<table border=\"1\" class=\"dataframe\">\n",
       "  <thead>\n",
       "    <tr style=\"text-align: right;\">\n",
       "      <th></th>\n",
       "      <th>EMPLEADO</th>\n",
       "      <th>NOMBRE</th>\n",
       "      <th>OFICIO</th>\n",
       "      <th>JEFE</th>\n",
       "      <th>NOMBRE_J</th>\n",
       "      <th>OFICIO_J</th>\n",
       "    </tr>\n",
       "  </thead>\n",
       "  <tbody>\n",
       "    <tr>\n",
       "      <th>0</th>\n",
       "      <td>NaN</td>\n",
       "      <td>None</td>\n",
       "      <td>None</td>\n",
       "      <td>NaN</td>\n",
       "      <td>Jimeno</td>\n",
       "      <td>Empleado</td>\n",
       "    </tr>\n",
       "    <tr>\n",
       "      <th>1</th>\n",
       "      <td>NaN</td>\n",
       "      <td>None</td>\n",
       "      <td>None</td>\n",
       "      <td>NaN</td>\n",
       "      <td>Alonso</td>\n",
       "      <td>Empleado</td>\n",
       "    </tr>\n",
       "    <tr>\n",
       "      <th>2</th>\n",
       "      <td>NaN</td>\n",
       "      <td>None</td>\n",
       "      <td>None</td>\n",
       "      <td>NaN</td>\n",
       "      <td>Tovar</td>\n",
       "      <td>Vendedor</td>\n",
       "    </tr>\n",
       "    <tr>\n",
       "      <th>3</th>\n",
       "      <td>NaN</td>\n",
       "      <td>None</td>\n",
       "      <td>None</td>\n",
       "      <td>NaN</td>\n",
       "      <td>Arenas</td>\n",
       "      <td>Vendedor</td>\n",
       "    </tr>\n",
       "    <tr>\n",
       "      <th>4</th>\n",
       "      <td>NaN</td>\n",
       "      <td>None</td>\n",
       "      <td>None</td>\n",
       "      <td>NaN</td>\n",
       "      <td>Sala</td>\n",
       "      <td>Vendedor</td>\n",
       "    </tr>\n",
       "    <tr>\n",
       "      <th>5</th>\n",
       "      <td>NaN</td>\n",
       "      <td>None</td>\n",
       "      <td>None</td>\n",
       "      <td>NaN</td>\n",
       "      <td>Arroyo</td>\n",
       "      <td>Vendedor</td>\n",
       "    </tr>\n",
       "    <tr>\n",
       "      <th>6</th>\n",
       "      <td>NaN</td>\n",
       "      <td>None</td>\n",
       "      <td>None</td>\n",
       "      <td>NaN</td>\n",
       "      <td>Sanchez</td>\n",
       "      <td>Empleado</td>\n",
       "    </tr>\n",
       "    <tr>\n",
       "      <th>7</th>\n",
       "      <td>NaN</td>\n",
       "      <td>None</td>\n",
       "      <td>None</td>\n",
       "      <td>NaN</td>\n",
       "      <td>Muñoz</td>\n",
       "      <td>Empleado</td>\n",
       "    </tr>\n",
       "    <tr>\n",
       "      <th>8</th>\n",
       "      <td>7876.0</td>\n",
       "      <td>Alonso</td>\n",
       "      <td>Empleado</td>\n",
       "      <td>7788.0</td>\n",
       "      <td>Gil</td>\n",
       "      <td>Analista</td>\n",
       "    </tr>\n",
       "    <tr>\n",
       "      <th>9</th>\n",
       "      <td>7654.0</td>\n",
       "      <td>Arenas</td>\n",
       "      <td>Vendedor</td>\n",
       "      <td>7698.0</td>\n",
       "      <td>Negro</td>\n",
       "      <td>Director</td>\n",
       "    </tr>\n",
       "    <tr>\n",
       "      <th>10</th>\n",
       "      <td>7499.0</td>\n",
       "      <td>Arroyo</td>\n",
       "      <td>Vendedor</td>\n",
       "      <td>7698.0</td>\n",
       "      <td>Negro</td>\n",
       "      <td>Director</td>\n",
       "    </tr>\n",
       "    <tr>\n",
       "      <th>11</th>\n",
       "      <td>7782.0</td>\n",
       "      <td>Cerezo</td>\n",
       "      <td>Director</td>\n",
       "      <td>7839.0</td>\n",
       "      <td>Rey</td>\n",
       "      <td>Presidente</td>\n",
       "    </tr>\n",
       "    <tr>\n",
       "      <th>12</th>\n",
       "      <td>7902.0</td>\n",
       "      <td>Fernandez</td>\n",
       "      <td>Analista</td>\n",
       "      <td>7566.0</td>\n",
       "      <td>Jimenez</td>\n",
       "      <td>Director</td>\n",
       "    </tr>\n",
       "    <tr>\n",
       "      <th>13</th>\n",
       "      <td>7788.0</td>\n",
       "      <td>Gil</td>\n",
       "      <td>Analista</td>\n",
       "      <td>7566.0</td>\n",
       "      <td>Jimenez</td>\n",
       "      <td>Director</td>\n",
       "    </tr>\n",
       "    <tr>\n",
       "      <th>14</th>\n",
       "      <td>7566.0</td>\n",
       "      <td>Jimenez</td>\n",
       "      <td>Director</td>\n",
       "      <td>7839.0</td>\n",
       "      <td>Rey</td>\n",
       "      <td>Presidente</td>\n",
       "    </tr>\n",
       "    <tr>\n",
       "      <th>15</th>\n",
       "      <td>7900.0</td>\n",
       "      <td>Jimeno</td>\n",
       "      <td>Empleado</td>\n",
       "      <td>7698.0</td>\n",
       "      <td>Negro</td>\n",
       "      <td>Director</td>\n",
       "    </tr>\n",
       "    <tr>\n",
       "      <th>16</th>\n",
       "      <td>7934.0</td>\n",
       "      <td>Muñoz</td>\n",
       "      <td>Empleado</td>\n",
       "      <td>7782.0</td>\n",
       "      <td>Cerezo</td>\n",
       "      <td>Director</td>\n",
       "    </tr>\n",
       "    <tr>\n",
       "      <th>17</th>\n",
       "      <td>7698.0</td>\n",
       "      <td>Negro</td>\n",
       "      <td>Director</td>\n",
       "      <td>7839.0</td>\n",
       "      <td>Rey</td>\n",
       "      <td>Presidente</td>\n",
       "    </tr>\n",
       "    <tr>\n",
       "      <th>18</th>\n",
       "      <td>7839.0</td>\n",
       "      <td>Rey</td>\n",
       "      <td>Presidente</td>\n",
       "      <td>NaN</td>\n",
       "      <td>None</td>\n",
       "      <td>None</td>\n",
       "    </tr>\n",
       "    <tr>\n",
       "      <th>19</th>\n",
       "      <td>7521.0</td>\n",
       "      <td>Sala</td>\n",
       "      <td>Vendedor</td>\n",
       "      <td>7698.0</td>\n",
       "      <td>Negro</td>\n",
       "      <td>Director</td>\n",
       "    </tr>\n",
       "    <tr>\n",
       "      <th>20</th>\n",
       "      <td>7369.0</td>\n",
       "      <td>Sanchez</td>\n",
       "      <td>Empleado</td>\n",
       "      <td>7902.0</td>\n",
       "      <td>Fernandez</td>\n",
       "      <td>Analista</td>\n",
       "    </tr>\n",
       "    <tr>\n",
       "      <th>21</th>\n",
       "      <td>7844.0</td>\n",
       "      <td>Tovar</td>\n",
       "      <td>Vendedor</td>\n",
       "      <td>7698.0</td>\n",
       "      <td>Negro</td>\n",
       "      <td>Director</td>\n",
       "    </tr>\n",
       "  </tbody>\n",
       "</table>\n",
       "</div>"
      ],
      "text/plain": [
       "    EMPLEADO     NOMBRE      OFICIO    JEFE   NOMBRE_J    OFICIO_J\n",
       "0        NaN       None        None     NaN     Jimeno    Empleado\n",
       "1        NaN       None        None     NaN     Alonso    Empleado\n",
       "2        NaN       None        None     NaN      Tovar    Vendedor\n",
       "3        NaN       None        None     NaN     Arenas    Vendedor\n",
       "4        NaN       None        None     NaN       Sala    Vendedor\n",
       "5        NaN       None        None     NaN     Arroyo    Vendedor\n",
       "6        NaN       None        None     NaN    Sanchez    Empleado\n",
       "7        NaN       None        None     NaN      Muñoz    Empleado\n",
       "8     7876.0     Alonso    Empleado  7788.0        Gil    Analista\n",
       "9     7654.0     Arenas    Vendedor  7698.0      Negro    Director\n",
       "10    7499.0     Arroyo    Vendedor  7698.0      Negro    Director\n",
       "11    7782.0     Cerezo    Director  7839.0        Rey  Presidente\n",
       "12    7902.0  Fernandez    Analista  7566.0    Jimenez    Director\n",
       "13    7788.0        Gil    Analista  7566.0    Jimenez    Director\n",
       "14    7566.0    Jimenez    Director  7839.0        Rey  Presidente\n",
       "15    7900.0     Jimeno    Empleado  7698.0      Negro    Director\n",
       "16    7934.0      Muñoz    Empleado  7782.0     Cerezo    Director\n",
       "17    7698.0      Negro    Director  7839.0        Rey  Presidente\n",
       "18    7839.0        Rey  Presidente     NaN       None        None\n",
       "19    7521.0       Sala    Vendedor  7698.0      Negro    Director\n",
       "20    7369.0    Sanchez    Empleado  7902.0  Fernandez    Analista\n",
       "21    7844.0      Tovar    Vendedor  7698.0      Negro    Director"
      ]
     },
     "execution_count": 4,
     "metadata": {},
     "output_type": "execute_result"
    }
   ],
   "source": [
    "QUERY = \"\"\"\n",
    "SELECT E.EMP_NO AS EMPLEADO, E.APELLIDO AS NOMBRE, E.OFICIO AS OFICIO, E.DIR AS JEFE, E2.APELLIDO AS NOMBRE_J, E2.OFICIO AS OFICIO_J\n",
    "FROM EMPLEADO AS E\n",
    "LEFT JOIN EMPLEADO AS E2 ON E.DIR = E2.EMP_NO\n",
    "UNION ALL\n",
    "SELECT E.EMP_NO AS EMPLEADO, E.APELLIDO AS NOMBRE, E.OFICIO AS OFICIO, E.DIR AS JEFE, E2.APELLIDO AS NOMBRE_J, E2.OFICIO AS OFICIO_J\n",
    "FROM EMPLEADO AS E\n",
    "RIGHT JOIN EMPLEADO AS E2 ON E.DIR = E2.EMP_NO WHERE E.EMP_NO IS NULL\n",
    "ORDER BY 2;\n",
    "\"\"\"\n",
    "cursor.execute(QUERY)\n",
    "resultados = cursor.fetchall()\n",
    "df = pd.DataFrame.from_records(resultados, columns=[column[0] for column in cursor.description])\n",
    "df"
   ]
  },
  {
   "cell_type": "code",
   "execution_count": 5,
   "id": "355048d0-0710-4c82-a2e2-ec6a27c8b448",
   "metadata": {},
   "outputs": [],
   "source": [
    "with pd.ExcelWriter('practicas_hospital.xlsx', mode='w') as writer:\n",
    "    df.to_excel(writer, sheet_name=str(cont), index = False)\n",
    "cont += 1"
   ]
  },
  {
   "cell_type": "markdown",
   "id": "5599def0-aa4a-43f0-ab91-e1652efe6a78",
   "metadata": {},
   "source": [
    "#### SUBCONSULTAS"
   ]
  },
  {
   "cell_type": "markdown",
   "id": "0cae4cd5-308b-4423-bdc1-500925c83386",
   "metadata": {},
   "source": [
    "##### 42. Obtener el apellido, departamento y oficio de aquellos empleados que tengan un oficio que este en el departamento 20 y que no sea ninguno de los oficios que esta en el departamento de VENTAS."
   ]
  },
  {
   "cell_type": "code",
   "execution_count": 6,
   "id": "9f1733c5-d1ca-4ef3-b7e6-b857fa9fb864",
   "metadata": {},
   "outputs": [
    {
     "data": {
      "text/html": [
       "<div>\n",
       "<style scoped>\n",
       "    .dataframe tbody tr th:only-of-type {\n",
       "        vertical-align: middle;\n",
       "    }\n",
       "\n",
       "    .dataframe tbody tr th {\n",
       "        vertical-align: top;\n",
       "    }\n",
       "\n",
       "    .dataframe thead th {\n",
       "        text-align: right;\n",
       "    }\n",
       "</style>\n",
       "<table border=\"1\" class=\"dataframe\">\n",
       "  <thead>\n",
       "    <tr style=\"text-align: right;\">\n",
       "      <th></th>\n",
       "      <th>APELLIDO</th>\n",
       "      <th>DEPT_NO</th>\n",
       "      <th>OFICIO</th>\n",
       "    </tr>\n",
       "  </thead>\n",
       "  <tbody>\n",
       "    <tr>\n",
       "      <th>0</th>\n",
       "      <td>Gil</td>\n",
       "      <td>20</td>\n",
       "      <td>Analista</td>\n",
       "    </tr>\n",
       "    <tr>\n",
       "      <th>1</th>\n",
       "      <td>Fernandez</td>\n",
       "      <td>20</td>\n",
       "      <td>Analista</td>\n",
       "    </tr>\n",
       "  </tbody>\n",
       "</table>\n",
       "</div>"
      ],
      "text/plain": [
       "    APELLIDO  DEPT_NO    OFICIO\n",
       "0        Gil       20  Analista\n",
       "1  Fernandez       20  Analista"
      ]
     },
     "execution_count": 6,
     "metadata": {},
     "output_type": "execute_result"
    }
   ],
   "source": [
    "QUERY = \"\"\"\n",
    "SELECT APELLIDO, DEPT_NO, OFICIO\n",
    "FROM EMPLEADO\n",
    "WHERE DEPT_NO =20 AND OFICIO NOT IN (SELECT DISTINCT(E.OFICIO) AS OFICIO\n",
    "                                    FROM EMPLEADO AS E\n",
    "                                    INNER JOIN DEPARTAMENTO AS D \n",
    "                                    ON E.DEPT_NO = D.DEPT_NO\n",
    "                                    WHERE D.DNOMBRE = 'VENTAS');\n",
    "\"\"\"\n",
    "cursor.execute(QUERY)\n",
    "resultados = cursor.fetchall()\n",
    "df = pd.DataFrame.from_records(resultados, columns=[column[0] for column in cursor.description])\n",
    "df"
   ]
  },
  {
   "cell_type": "code",
   "execution_count": 7,
   "id": "ed2a31aa-87a5-4984-9b0a-fddc06c7fff7",
   "metadata": {},
   "outputs": [],
   "source": [
    "with pd.ExcelWriter('practicas_hospital.xlsx', mode='a') as writer:\n",
    "    df.to_excel(writer, sheet_name=str(cont), index = False)\n",
    "cont += 1"
   ]
  },
  {
   "cell_type": "markdown",
   "id": "6a5a6222-aa0b-4a1e-992a-246690136430",
   "metadata": {},
   "source": [
    "##### 43. Obtener el numero de empleado, numero de departamento y apellido de todos los empleados que trabajen en el departamento 20 o 30 y su salario sea mayor que dos veces el mínimo de la empresa. No queremos que el oficio sea PRESIDENTE."
   ]
  },
  {
   "cell_type": "code",
   "execution_count": 8,
   "id": "67349c09-f6c9-460c-b491-b26000436020",
   "metadata": {},
   "outputs": [
    {
     "data": {
      "text/html": [
       "<div>\n",
       "<style scoped>\n",
       "    .dataframe tbody tr th:only-of-type {\n",
       "        vertical-align: middle;\n",
       "    }\n",
       "\n",
       "    .dataframe tbody tr th {\n",
       "        vertical-align: top;\n",
       "    }\n",
       "\n",
       "    .dataframe thead th {\n",
       "        text-align: right;\n",
       "    }\n",
       "</style>\n",
       "<table border=\"1\" class=\"dataframe\">\n",
       "  <thead>\n",
       "    <tr style=\"text-align: right;\">\n",
       "      <th></th>\n",
       "      <th>EMP_NO</th>\n",
       "      <th>DEPT_NO</th>\n",
       "      <th>APELLIDO</th>\n",
       "    </tr>\n",
       "  </thead>\n",
       "  <tbody>\n",
       "    <tr>\n",
       "      <th>0</th>\n",
       "      <td>7566</td>\n",
       "      <td>20</td>\n",
       "      <td>Jimenez</td>\n",
       "    </tr>\n",
       "    <tr>\n",
       "      <th>1</th>\n",
       "      <td>7698</td>\n",
       "      <td>30</td>\n",
       "      <td>Negro</td>\n",
       "    </tr>\n",
       "    <tr>\n",
       "      <th>2</th>\n",
       "      <td>7788</td>\n",
       "      <td>20</td>\n",
       "      <td>Gil</td>\n",
       "    </tr>\n",
       "    <tr>\n",
       "      <th>3</th>\n",
       "      <td>7902</td>\n",
       "      <td>20</td>\n",
       "      <td>Fernandez</td>\n",
       "    </tr>\n",
       "  </tbody>\n",
       "</table>\n",
       "</div>"
      ],
      "text/plain": [
       "   EMP_NO  DEPT_NO   APELLIDO\n",
       "0    7566       20    Jimenez\n",
       "1    7698       30      Negro\n",
       "2    7788       20        Gil\n",
       "3    7902       20  Fernandez"
      ]
     },
     "execution_count": 8,
     "metadata": {},
     "output_type": "execute_result"
    }
   ],
   "source": [
    "QUERY = \"\"\"\n",
    "SELECT EMP_NO, DEPT_NO, APELLIDO\n",
    "FROM EMPLEADO\n",
    "WHERE DEPT_NO IN (20, 30) AND OFICIO <> 'PRESIDENTE' AND SALARIO > (SELECT 2*MIN(SALARIO)\n",
    "                                                                    FROM EMPLEADO);\n",
    "\"\"\"\n",
    "cursor.execute(QUERY)\n",
    "resultados = cursor.fetchall()\n",
    "df = pd.DataFrame.from_records(resultados, columns=[column[0] for column in cursor.description])\n",
    "df"
   ]
  },
  {
   "cell_type": "code",
   "execution_count": null,
   "id": "5082889f-5c18-4200-8601-a329740c247e",
   "metadata": {},
   "outputs": [],
   "source": [
    "with pd.ExcelWriter('practicas_hospital.xlsx', mode='a') as writer:\n",
    "    df.to_excel(writer, sheet_name=str(cont), index = False)\n",
    "cont += 1"
   ]
  },
  {
   "cell_type": "markdown",
   "id": "f0d627b9-d340-42b2-aedf-46d2134951da",
   "metadata": {},
   "source": [
    "##### 44. Encontrar las personas que ganan 50000 PTA mas que el miembro del personal de sueldo mas alto del turno de mañana y que tenga el mismo trabajo que el Sr. Nuñez."
   ]
  },
  {
   "cell_type": "code",
   "execution_count": null,
   "id": "fa520704-edf6-428f-abec-56ac4721376e",
   "metadata": {},
   "outputs": [],
   "source": [
    "QUERY = \"\"\"\n",
    "SELECT * \n",
    "FROM PLANTILLA\n",
    "WHERE FUNCION = (SELECT FUNCION\n",
    "FROM PLANTILLA\n",
    "WHERE APELLIDO = 'NUÑEZ C.')\n",
    "AND\n",
    "SALARIO > (SELECT MAX(SALARIO) + 50000\n",
    "FROM PLANTILLA\n",
    "WHERE TURNO = 'M')\n",
    "\"\"\"\n",
    "cursor.execute(QUERY)\n",
    "resultados = cursor.fetchall()\n",
    "df = pd.DataFrame.from_records(resultados, columns=[column[0] for column in cursor.description])\n",
    "df"
   ]
  },
  {
   "cell_type": "code",
   "execution_count": null,
   "id": "9d712d5c-7efc-421d-bde6-2f918c5f16f9",
   "metadata": {},
   "outputs": [],
   "source": [
    "with pd.ExcelWriter('practicas_hospital.xlsx', mode='a') as writer:\n",
    "    df.to_excel(writer, sheet_name=str(cont), index = False)\n",
    "cont += 1"
   ]
  },
  {
   "cell_type": "markdown",
   "id": "8701288d-d209-47ab-a016-6157dee91a0a",
   "metadata": {},
   "source": [
    "##### 45. Queremos averiguar el apellido del individuo mas antiguo de la empresa."
   ]
  },
  {
   "cell_type": "code",
   "execution_count": null,
   "id": "ddfdcb34-da8a-4843-8e8d-e742f017d58e",
   "metadata": {},
   "outputs": [],
   "source": [
    "QUERY = \"\"\"\n",
    "SELECT APELLIDO \n",
    "FROM EMPLEADO\n",
    "WHERE FECHA_ALTA = (SELECT MIN(FECHA_ALTA) FROM EMPLEADO);\n",
    "\"\"\"\n",
    "cursor.execute(QUERY)\n",
    "resultados = cursor.fetchall()\n",
    "df = pd.DataFrame.from_records(resultados, columns=[column[0] for column in cursor.description])\n",
    "df"
   ]
  },
  {
   "cell_type": "code",
   "execution_count": null,
   "id": "93a257ac-bd07-4905-aff7-aa5f0b5d50ce",
   "metadata": {},
   "outputs": [],
   "source": [
    "with pd.ExcelWriter('practicas_hospital.xlsx', mode='a') as writer:\n",
    "    df.to_excel(writer, sheet_name=str(cont), index = False)\n",
    "cont += 1"
   ]
  },
  {
   "cell_type": "markdown",
   "id": "fc6bd5ce-3759-4e18-b814-e8735bc0681b",
   "metadata": {},
   "source": [
    "##### 46. Presentar los nombres y oficios de los empleados que tienen el mismo trabajo que JIMENEZ."
   ]
  },
  {
   "cell_type": "code",
   "execution_count": null,
   "id": "a0f4aee0-242a-42be-a143-c1e947017d88",
   "metadata": {},
   "outputs": [],
   "source": [
    "QUERY = \"\"\"\n",
    "SELECT APELLIDO, OFICIO\n",
    "FROM EMPLEADO\n",
    "WHERE OFICIO =  (SELECT OFICIO FROM EMPLEADO WHERE UCASE(APELLIDO) = 'JIMENEZ' );\n",
    "\"\"\"\n",
    "cursor.execute(QUERY)\n",
    "resultados = cursor.fetchall()\n",
    "df = pd.DataFrame.from_records(resultados, columns=[column[0] for column in cursor.description])\n",
    "df"
   ]
  },
  {
   "cell_type": "code",
   "execution_count": null,
   "id": "9906306d-4cc5-4769-8bff-d055a0e75f7b",
   "metadata": {},
   "outputs": [],
   "source": [
    "with pd.ExcelWriter('practicas_hospital.xlsx', mode='a') as writer:\n",
    "    df.to_excel(writer, sheet_name=str(cont), index = False)\n",
    "cont += 1"
   ]
  },
  {
   "cell_type": "markdown",
   "id": "2e0142f6-5211-414e-afd9-d025e0eb78f3",
   "metadata": {},
   "source": [
    "##### 47. Queremos conocer el apellido, oficio, salario y departamento en el que trabajan, de todos los individuos cuyo salario sea mayor que el mayor salario del departamento 30."
   ]
  },
  {
   "cell_type": "code",
   "execution_count": null,
   "id": "e25e8d61-69ba-4eeb-931c-9596e32211f6",
   "metadata": {
    "tags": []
   },
   "outputs": [],
   "source": [
    "QUERY = \"\"\"\n",
    "SELECT APELLIDO, OFICIO, SALARIO\n",
    "FROM EMPLEADO\n",
    "WHERE SALARIO > (SELECT MAX(SALARIO) FROM EMPLEADO WHERE DEPT_NO = 30);\n",
    "\"\"\"\n",
    "cursor.execute(QUERY)\n",
    "resultados = cursor.fetchall()\n",
    "df = pd.DataFrame.from_records(resultados, columns=[column[0] for column in cursor.description])\n",
    "df"
   ]
  },
  {
   "cell_type": "code",
   "execution_count": null,
   "id": "6a4e6fee-631d-4bb1-b4d6-3ae34cc132dc",
   "metadata": {},
   "outputs": [],
   "source": [
    "with pd.ExcelWriter('practicas_hospital.xlsx', mode='a') as writer:\n",
    "    df.to_excel(writer, sheet_name=str(cont), index = False)\n",
    "cont += 1"
   ]
  },
  {
   "cell_type": "markdown",
   "id": "cc23fbeb-f372-4f28-b188-3545da4d3ec5",
   "metadata": {},
   "source": [
    "##### 48. Presentar los nombres y oficios de todos los empleados del departamento 20, cuyo trabajo sea idéntico al de cualquiera de los empleados del departamento de VENTAS."
   ]
  },
  {
   "cell_type": "code",
   "execution_count": null,
   "id": "49a3b880-077b-4166-842f-997df8e0fe33",
   "metadata": {
    "tags": []
   },
   "outputs": [],
   "source": [
    "QUERY = \"\"\"\n",
    "SELECT APELLIDO, OFICIO\n",
    "FROM EMPLEADO\n",
    "WHERE DEPT_NO = 20 AND OFICIO IN(SELECT DISTINCT(E.OFICIO)\n",
    "                                FROM EMPLEADO AS E\n",
    "                                INNER JOIN DEPARTAMENTO AS D\n",
    "                                ON E.DEPT_NO = D.DEPT_NO\n",
    "                                WHERE UCASE(DNOMBRE) = 'VENTAS');\n",
    "\"\"\"\n",
    "cursor.execute(QUERY)\n",
    "resultados = cursor.fetchall()\n",
    "df = pd.DataFrame.from_records(resultados, columns=[column[0] for column in cursor.description])\n",
    "df"
   ]
  },
  {
   "cell_type": "code",
   "execution_count": null,
   "id": "355935f3-f807-499c-8a88-4a0619c14cd8",
   "metadata": {},
   "outputs": [],
   "source": [
    "with pd.ExcelWriter('practicas_hospital.xlsx', mode='a') as writer:\n",
    "    df.to_excel(writer, sheet_name=str(cont), index = False)\n",
    "cont += 1"
   ]
  },
  {
   "cell_type": "markdown",
   "id": "5292cc55-97bd-4be1-a720-d76671356e51",
   "metadata": {},
   "source": [
    "##### 49. Se desea obtener todos los empleados de los departamentos que no ganan ni el maximo ni el mínimo salarial de la empresa"
   ]
  },
  {
   "cell_type": "code",
   "execution_count": null,
   "id": "ec088bee-1e50-4a7f-95bb-ed03a18e1799",
   "metadata": {
    "tags": []
   },
   "outputs": [],
   "source": [
    "QUERY = \"\"\"\n",
    "SELECT * \n",
    "FROM EMPLEADO\n",
    "WHERE SALARIO <> (SELECT MAX(SALARIO) FROM EMPLEADO) \n",
    "                AND  SALARIO <> (SELECT MIN(SALARIO) FROM EMPLEADO);\n",
    "\"\"\"\n",
    "cursor.execute(QUERY)\n",
    "resultados = cursor.fetchall()\n",
    "df = pd.DataFrame.from_records(resultados, columns=[column[0] for column in cursor.description])\n",
    "df"
   ]
  },
  {
   "cell_type": "code",
   "execution_count": null,
   "id": "b466c6ab-94aa-4717-bab6-1ccf326e1f34",
   "metadata": {},
   "outputs": [],
   "source": [
    "with pd.ExcelWriter('practicas_hospital.xlsx', mode='a') as writer:\n",
    "    df.to_excel(writer, sheet_name=str(cont), index = False)\n",
    "cont += 1"
   ]
  },
  {
   "cell_type": "markdown",
   "id": "01bebce0-91c4-4b81-a9d7-759bc5f32c8a",
   "metadata": {},
   "source": [
    "##### 50. Se desea obtener el maximo salario por departamento, sin tener en cuenta a aquellos empleados cuyo apellido empieza con la inicial de alguno de los empleados que tienen el maximo salario de algún departamento. Tampoco queremos obtener los datos de departamentos con menos de 3 personas muestreadas"
   ]
  },
  {
   "cell_type": "code",
   "execution_count": null,
   "id": "6dd89d87-361c-44d4-9daa-4045037a92fc",
   "metadata": {
    "tags": []
   },
   "outputs": [],
   "source": [
    "QUERY = \"\"\"\n",
    "SELECT DEPT_NO, MAX(SALARIO) AS MAXIMO\n",
    "FROM EMPLEADO\n",
    "WHERE MID(APELLIDO,1,1) NOT IN (SELECT MID(APELLIDO,1,1) AS INICIAL FROM EMPLEADO WHERE SALARIO IN (SELECT  MAX(SALARIO)\n",
    "                                                                                                    FROM EMPLEADO\n",
    "                                                                                                    GROUP BY DEPT_NO))\n",
    "GROUP BY DEPT_NO\n",
    "HAVING COUNT(*) > 2;\n",
    "\"\"\"\n",
    "cursor.execute(QUERY)\n",
    "resultados = cursor.fetchall()\n",
    "df = pd.DataFrame.from_records(resultados, columns=[column[0] for column in cursor.description])\n",
    "df"
   ]
  },
  {
   "cell_type": "code",
   "execution_count": null,
   "id": "772fe25c-2979-4f74-b712-d835ea44030b",
   "metadata": {},
   "outputs": [],
   "source": [
    "with pd.ExcelWriter('practicas_hospital.xlsx', mode='a') as writer:\n",
    "    df.to_excel(writer, sheet_name=str(cont), index = False)\n",
    "cont += 1"
   ]
  },
  {
   "cell_type": "code",
   "execution_count": null,
   "id": "80f402fc-5768-47f4-b96d-bcec79bec06d",
   "metadata": {},
   "outputs": [],
   "source": [
    "for tabla in tablas:\n",
    "    QUERY = f'SELECT * FROM {tabla};'\n",
    "    cursor.execute(QUERY)\n",
    "    resultados = cursor.fetchall()\n",
    "    df = pd.DataFrame.from_records(resultados, columns=[column[0] for column in cursor.description])\n",
    "    with pd.ExcelWriter('practicas_hospital.xlsx', mode='a') as writer:\n",
    "        df.to_excel(writer, sheet_name=tabla, index = False)\n"
   ]
  },
  {
   "cell_type": "code",
   "execution_count": null,
   "id": "a6bd3704-3104-4cc5-8b81-625041b7567b",
   "metadata": {},
   "outputs": [],
   "source": [
    "# Cierra la conexión\n",
    "conn.close()"
   ]
  },
  {
   "cell_type": "markdown",
   "id": "c9ef382f-b0db-45a1-a8c6-e1d4a001e723",
   "metadata": {},
   "source": [
    "# Autor\n",
    "### Oscar Gutierrez Leal\n",
    "04 - 04 - 2024"
   ]
  },
  {
   "cell_type": "code",
   "execution_count": null,
   "id": "6cbfb4bf-ade3-4b04-9788-d2afb8f0a84b",
   "metadata": {},
   "outputs": [],
   "source": []
  }
 ],
 "metadata": {
  "kernelspec": {
   "display_name": "Python 3 (ipykernel)",
   "language": "python",
   "name": "python3"
  },
  "language_info": {
   "codemirror_mode": {
    "name": "ipython",
    "version": 3
   },
   "file_extension": ".py",
   "mimetype": "text/x-python",
   "name": "python",
   "nbconvert_exporter": "python",
   "pygments_lexer": "ipython3",
   "version": "3.11.5"
  }
 },
 "nbformat": 4,
 "nbformat_minor": 5
}
