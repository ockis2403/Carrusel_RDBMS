{
 "cells": [
  {
   "cell_type": "markdown",
   "id": "e26ab8a3-b3c6-498e-875c-06766a7c8962",
   "metadata": {},
   "source": [
    "<img src=https://static.wixstatic.com/media/f6bd9a_6a972d9b31324653bf198c38ce94339e~mv2.png>"
   ]
  },
  {
   "cell_type": "markdown",
   "id": "b1d695e1-0e65-479c-b83a-405119b0ecac",
   "metadata": {},
   "source": [
    "# Carrusel de RDBMS\n",
    "## Ejercicios de SQL resueltos"
   ]
  },
  {
   "cell_type": "markdown",
   "id": "7b12acdb-fabc-423c-9856-d066d1af05da",
   "metadata": {},
   "source": [
    "En este cuaderno resuelvo los ejercicios del 61 al 70 del documento: 'Desarrollo de Aplicaciones en Entornos de Cuarta Generación y Herramientas CASE: Ejercicios de SQL.'\n",
    "\n",
    "Para ello utilizo una version de la base de datos -que nombre \"practicas_hospital\"- modificada para ser compatible en esta ocasion, para **PostgreSQL**, siguiendo la estructura del libro.\n",
    "\n",
    "\n",
    "Tanto el diagrama de **Entidad-Relacion**, como el **Script** para cargar la base de datos (que permite, se pueda replicar el ejercicio) se encuentran disponibles en el mismo repositorio."
   ]
  },
  {
   "cell_type": "markdown",
   "id": "2a5f875b-d4ad-4ecc-9dc5-665a0de5e461",
   "metadata": {},
   "source": [
    "#### Celda para configurar el entorno"
   ]
  },
  {
   "cell_type": "code",
   "execution_count": null,
   "id": "d41e2a1a-0005-494b-9a80-b37d512b9bbf",
   "metadata": {},
   "outputs": [],
   "source": [
    "# !pip install psycopg2\n",
    "# !pip install pandas\n",
    "# !pip install sqlalchemy"
   ]
  },
  {
   "cell_type": "markdown",
   "id": "c4aa941f-b7e5-457f-9bfc-be599ceb21a3",
   "metadata": {},
   "source": [
    "#### Importamos librerias y se realiza la conexion utilizando un archivo json con la configuracion local de la base de datos\n",
    "\n",
    "Si se desea replicar lo propio usando el script y este cuaderno, basta con crear el archivo json con el par de valores que contengan su informacion local y cargarlo al directorio.\n",
    "\n",
    "host:\n",
    "\n",
    "user:\n",
    "\n",
    "password:\n",
    "\n",
    "database:"
   ]
  },
  {
   "cell_type": "code",
   "execution_count": 1,
   "id": "12beda99-9954-4f84-8a6f-820ed3fc6cb0",
   "metadata": {},
   "outputs": [],
   "source": [
    "import json\n",
    "from sqlalchemy import create_engine\n",
    "from sqlalchemy import text\n",
    "import pandas as pd\n",
    "\n",
    "# Cargar las credenciales desde el archivo JSON\n",
    "with open('configPostgres.json', 'r') as f:\n",
    "    credenciales = json.load(f)\n",
    "\n",
    "# Extraer las credenciales\n",
    "host = credenciales['host']\n",
    "database = credenciales['database']\n",
    "user = credenciales['user']\n",
    "password = credenciales['password']\n",
    "\n",
    "# Crear la conexión\n",
    "engine = create_engine(f'postgresql://{user}:{password}@{host}/{database}')\n"
   ]
  },
  {
   "cell_type": "markdown",
   "id": "ecfe865d-0634-4526-8846-e5b600bd4750",
   "metadata": {},
   "source": [
    "#### Realizamos una prueba y se Inspecciona la base de datos \"practicas_hospital\""
   ]
  },
  {
   "cell_type": "code",
   "execution_count": 2,
   "id": "a10e7d90-16ce-4789-a21c-519e828d01f0",
   "metadata": {},
   "outputs": [
    {
     "name": "stdout",
     "output_type": "stream",
     "text": [
      "La conexión se ha realizado con éxito.\n",
      "\n",
      "      tablename\n",
      "0      hospital\n",
      "1          sala\n",
      "2     plantilla\n",
      "3     ocupacion\n",
      "4        doctor\n",
      "5       enfermo\n",
      "6      empleado\n",
      "7  departamento\n"
     ]
    }
   ],
   "source": [
    "# Definir consulta en SQL compatible con MySQL\n",
    "try:\n",
    "    QUERY = \"\"\"\n",
    "    SELECT tablename \n",
    "    FROM pg_catalog.pg_tables\n",
    "    WHERE schemaname != 'pg_catalog' AND schemaname != 'information_schema';\n",
    "    \"\"\"\n",
    "# Ejecutar la consulta y obtener los resultados en un DataFrame\n",
    "    df = pd.read_sql_query(text(QUERY), engine)\n",
    "# Mostrar los primeros resultados\n",
    "    print(\"La conexión se ha realizado con éxito.\\n\")\n",
    "    print(df)\n",
    "except Exception as e:\n",
    "    print(\"Hubo un error al realizar la conexión:\", e)"
   ]
  },
  {
   "cell_type": "markdown",
   "id": "82e87ace-7206-4506-8bc3-d773c9762262",
   "metadata": {},
   "source": [
    "#### Inspeccion a las tablas de la base de datos \"practicas_hospital\"\n",
    "#### Con la finalidad de observar su estructura y tipo de datos"
   ]
  },
  {
   "cell_type": "code",
   "execution_count": 3,
   "id": "ed14c4fa-ddc2-49f9-bbc2-eb6433adb23c",
   "metadata": {},
   "outputs": [
    {
     "name": "stdout",
     "output_type": "stream",
     "text": [
      "El contenido de la tabla hospital\n",
      "\n",
      "    column_name          data_type  character_maximum_length is_nullable\n",
      "0  hospital_cod            integer                       NaN          NO\n",
      "1        nombre  character varying                      10.0         YES\n",
      "2     direccion  character varying                      20.0         YES\n",
      "3      telefono  character varying                       8.0         YES\n",
      "4      num_cama            integer                       NaN         YES\n",
      "\n",
      "El contenido de la tabla sala\n",
      "\n",
      "    column_name          data_type  character_maximum_length is_nullable\n",
      "0       sala_id            integer                       NaN          NO\n",
      "1  hospital_cod            integer                       NaN          NO\n",
      "2      sala_cod            integer                       NaN          NO\n",
      "3        nombre  character varying                      20.0         YES\n",
      "4      num_cama            integer                       NaN         YES\n",
      "\n",
      "El contenido de la tabla plantilla\n",
      "\n",
      "    column_name          data_type  character_maximum_length is_nullable\n",
      "0  hospital_cod            integer                       NaN          NO\n",
      "1      sala_cod            integer                       NaN          NO\n",
      "2   empleado_no            integer                       NaN          NO\n",
      "3      apellido  character varying                      15.0         YES\n",
      "4       funcion  character varying                      10.0         YES\n",
      "5         turno  character varying                       1.0         YES\n",
      "6       salario            integer                       NaN         YES\n",
      "\n",
      "El contenido de la tabla ocupacion\n",
      "\n",
      "    column_name data_type character_maximum_length is_nullable\n",
      "0   inscripcion   integer                     None          NO\n",
      "1  hospital_cod   integer                     None          NO\n",
      "2      sala_cod   integer                     None          NO\n",
      "3          cama   integer                     None         YES\n",
      "\n",
      "El contenido de la tabla doctor\n",
      "\n",
      "    column_name          data_type  character_maximum_length is_nullable\n",
      "0  hospital_cod            integer                       NaN          NO\n",
      "1     doctor_no            integer                       NaN          NO\n",
      "2      apellido  character varying                      13.0         YES\n",
      "3  especialidad  character varying                      16.0         YES\n",
      "\n",
      "El contenido de la tabla enfermo\n",
      "\n",
      "   column_name          data_type  character_maximum_length is_nullable\n",
      "0   enfermo_no            integer                       NaN          NO\n",
      "1  inscripcion            integer                       NaN          NO\n",
      "2     apellido  character varying                      15.0         YES\n",
      "3    direccion  character varying                      20.0         YES\n",
      "4    fecha_nac               date                       NaN         YES\n",
      "5            s  character varying                       1.0         YES\n",
      "6          nss            integer                       NaN         YES\n",
      "\n",
      "El contenido de la tabla empleado\n",
      "\n",
      "  column_name          data_type  character_maximum_length is_nullable\n",
      "0      emp_no            integer                       NaN          NO\n",
      "1    apellido  character varying                      10.0         YES\n",
      "2      oficio  character varying                      10.0         YES\n",
      "3         dir            integer                       NaN         YES\n",
      "4  fecha_alta               date                       NaN         YES\n",
      "5     salario            integer                       NaN         YES\n",
      "6    comision            integer                       NaN         YES\n",
      "7     dept_no            integer                       NaN          NO\n",
      "\n",
      "El contenido de la tabla departamento\n",
      "\n",
      "  column_name          data_type  character_maximum_length is_nullable\n",
      "0     dept_no            integer                       NaN          NO\n",
      "1     dnombre  character varying                      14.0         YES\n",
      "2         loc  character varying                      14.0         YES\n",
      "\n"
     ]
    }
   ],
   "source": [
    "for valor in df['tablename']:\n",
    "    QUERY = f\"SELECT column_name, data_type, character_maximum_length, is_nullable FROM INFORMATION_SCHEMA.COLUMNS WHERE table_name = '{valor}'\" \n",
    "    df1 = pd.read_sql_query(QUERY, engine)\n",
    "    print(f'El contenido de la tabla {valor}\\n')\n",
    "    print(df1)\n",
    "    print()"
   ]
  },
  {
   "cell_type": "markdown",
   "id": "595f8a4b-2619-4770-b06f-bc5618d49ef4",
   "metadata": {},
   "source": [
    "### Resolucion de los ejercicios numerados del 61 al 70"
   ]
  },
  {
   "cell_type": "markdown",
   "id": "f0016f96-1441-4947-b346-47543c31b012",
   "metadata": {},
   "source": [
    "##### 61. Esta inserción falla. ¿Por qué?.\n",
    "\n",
    " INSERT INTO PLANTILLA (empleado_no, apellido) VALUES (1234,'Garcia J)"
   ]
  },
  {
   "cell_type": "code",
   "execution_count": 4,
   "id": "021f7737-77ee-4fe5-8d76-eb3d348a9899",
   "metadata": {},
   "outputs": [
    {
     "name": "stdout",
     "output_type": "stream",
     "text": [
      "Hubo un error:\n",
      "\n",
      " (psycopg2.errors.SyntaxError) una cadena de caracteres entre comillas está inconclusa en o cerca de «'Garcia J)\n",
      "        »\n",
      "LINE 2: ...TO PLANTILLA (empleado_no, apellido) values (1234,'Garcia J)\n",
      "                                                             ^\n",
      "\n",
      "[SQL: \n",
      "        INSERT INTO PLANTILLA (empleado_no, apellido) values (1234,'Garcia J)\n",
      "        ]\n",
      "(Background on this error at: https://sqlalche.me/e/20/f405) \n",
      "\n"
     ]
    }
   ],
   "source": [
    "try:\n",
    "    with engine.begin() as connection:\n",
    "        QUERY = \"\"\"\n",
    "        INSERT INTO PLANTILLA (empleado_no, apellido) values (1234,'Garcia J)\n",
    "        \"\"\"\n",
    "        result = connection.execute(text(QUERY))\n",
    "    print(f' se ha modificado {result.rowcount} fila(s)')\n",
    "except Exception as e:\n",
    "    print(\"Hubo un error:\\n\\n\", e, '\\n')"
   ]
  },
  {
   "cell_type": "markdown",
   "id": "8061d73b-dce8-404a-82d5-83a83ffce735",
   "metadata": {},
   "source": [
    "##### 62. En esta inserción no se contemplan todos los campos de la tabla, ¿Falla la inserción?.\n",
    "\n",
    "\n",
    "INSERT INTO PLANTILLA (hospital_cod, sala_cod, empleado_no, apellido) VALUES (2,22,1234,'Garcia J');"
   ]
  },
  {
   "cell_type": "code",
   "execution_count": 5,
   "id": "11aaa72e-4a26-4647-8501-d3517e0e7fd6",
   "metadata": {},
   "outputs": [
    {
     "name": "stdout",
     "output_type": "stream",
     "text": [
      " se ha modificado 1 fila(s)\n",
      "Como se vio en la descripcion de las tablas, hay campos que no son especificados como NOT NULL\n"
     ]
    }
   ],
   "source": [
    "with engine.begin() as connection:\n",
    "    QUERY = \"\"\"\n",
    "    INSERT INTO PLANTILLA (hospital_cod, sala_cod, empleado_no, apellido) VALUES (2,22,1234,'Garcia J');\n",
    "    \"\"\"\n",
    "    result = connection.execute(text(QUERY))\n",
    "print(f' se ha modificado {result.rowcount} fila(s)')\n",
    "print('Como se vio en la descripcion de las tablas, hay campos que no son especificados como NOT NULL')"
   ]
  },
  {
   "cell_type": "code",
   "execution_count": 6,
   "id": "dd5080c3-41cb-493d-bd8a-4f3daf353b72",
   "metadata": {},
   "outputs": [
    {
     "data": {
      "text/html": [
       "<div>\n",
       "<style scoped>\n",
       "    .dataframe tbody tr th:only-of-type {\n",
       "        vertical-align: middle;\n",
       "    }\n",
       "\n",
       "    .dataframe tbody tr th {\n",
       "        vertical-align: top;\n",
       "    }\n",
       "\n",
       "    .dataframe thead th {\n",
       "        text-align: right;\n",
       "    }\n",
       "</style>\n",
       "<table border=\"1\" class=\"dataframe\">\n",
       "  <thead>\n",
       "    <tr style=\"text-align: right;\">\n",
       "      <th></th>\n",
       "      <th>hospital_cod</th>\n",
       "      <th>sala_cod</th>\n",
       "      <th>empleado_no</th>\n",
       "      <th>apellido</th>\n",
       "      <th>funcion</th>\n",
       "      <th>turno</th>\n",
       "      <th>salario</th>\n",
       "    </tr>\n",
       "  </thead>\n",
       "  <tbody>\n",
       "    <tr>\n",
       "      <th>0</th>\n",
       "      <td>13</td>\n",
       "      <td>6</td>\n",
       "      <td>3754</td>\n",
       "      <td>Diaz B.</td>\n",
       "      <td>Enfermera</td>\n",
       "      <td>T</td>\n",
       "      <td>2262000.0</td>\n",
       "    </tr>\n",
       "    <tr>\n",
       "      <th>1</th>\n",
       "      <td>13</td>\n",
       "      <td>6</td>\n",
       "      <td>3106</td>\n",
       "      <td>Hernandez J.</td>\n",
       "      <td>Enfermero</td>\n",
       "      <td>T</td>\n",
       "      <td>2755000.0</td>\n",
       "    </tr>\n",
       "    <tr>\n",
       "      <th>2</th>\n",
       "      <td>18</td>\n",
       "      <td>4</td>\n",
       "      <td>6357</td>\n",
       "      <td>Karplus W.</td>\n",
       "      <td>Interno</td>\n",
       "      <td>T</td>\n",
       "      <td>3379000.0</td>\n",
       "    </tr>\n",
       "    <tr>\n",
       "      <th>3</th>\n",
       "      <td>22</td>\n",
       "      <td>6</td>\n",
       "      <td>1009</td>\n",
       "      <td>Higueras D.</td>\n",
       "      <td>Enfermera</td>\n",
       "      <td>T</td>\n",
       "      <td>2005000.0</td>\n",
       "    </tr>\n",
       "    <tr>\n",
       "      <th>4</th>\n",
       "      <td>22</td>\n",
       "      <td>6</td>\n",
       "      <td>8422</td>\n",
       "      <td>Bocina G.</td>\n",
       "      <td>Enfermero</td>\n",
       "      <td>M</td>\n",
       "      <td>1638000.0</td>\n",
       "    </tr>\n",
       "    <tr>\n",
       "      <th>5</th>\n",
       "      <td>22</td>\n",
       "      <td>2</td>\n",
       "      <td>9901</td>\n",
       "      <td>NuÑez C.</td>\n",
       "      <td>Interno</td>\n",
       "      <td>M</td>\n",
       "      <td>2210000.0</td>\n",
       "    </tr>\n",
       "    <tr>\n",
       "      <th>6</th>\n",
       "      <td>22</td>\n",
       "      <td>1</td>\n",
       "      <td>6065</td>\n",
       "      <td>Rivera G.</td>\n",
       "      <td>Enfermera</td>\n",
       "      <td>N</td>\n",
       "      <td>1626000.0</td>\n",
       "    </tr>\n",
       "    <tr>\n",
       "      <th>7</th>\n",
       "      <td>22</td>\n",
       "      <td>1</td>\n",
       "      <td>7379</td>\n",
       "      <td>Carlos R.</td>\n",
       "      <td>Enfermera</td>\n",
       "      <td>T</td>\n",
       "      <td>2119000.0</td>\n",
       "    </tr>\n",
       "    <tr>\n",
       "      <th>8</th>\n",
       "      <td>45</td>\n",
       "      <td>4</td>\n",
       "      <td>1280</td>\n",
       "      <td>Amigo R.</td>\n",
       "      <td>Interno</td>\n",
       "      <td>N</td>\n",
       "      <td>2210000.0</td>\n",
       "    </tr>\n",
       "    <tr>\n",
       "      <th>9</th>\n",
       "      <td>45</td>\n",
       "      <td>1</td>\n",
       "      <td>8526</td>\n",
       "      <td>Frank H.</td>\n",
       "      <td>Enfermera</td>\n",
       "      <td>T</td>\n",
       "      <td>2522000.0</td>\n",
       "    </tr>\n",
       "    <tr>\n",
       "      <th>10</th>\n",
       "      <td>2</td>\n",
       "      <td>22</td>\n",
       "      <td>1234</td>\n",
       "      <td>Garcia J</td>\n",
       "      <td>None</td>\n",
       "      <td>None</td>\n",
       "      <td>NaN</td>\n",
       "    </tr>\n",
       "  </tbody>\n",
       "</table>\n",
       "</div>"
      ],
      "text/plain": [
       "    hospital_cod  sala_cod  empleado_no      apellido    funcion turno  \\\n",
       "0             13         6         3754       Diaz B.  Enfermera     T   \n",
       "1             13         6         3106  Hernandez J.  Enfermero     T   \n",
       "2             18         4         6357    Karplus W.    Interno     T   \n",
       "3             22         6         1009   Higueras D.  Enfermera     T   \n",
       "4             22         6         8422     Bocina G.  Enfermero     M   \n",
       "5             22         2         9901      NuÑez C.    Interno     M   \n",
       "6             22         1         6065     Rivera G.  Enfermera     N   \n",
       "7             22         1         7379     Carlos R.  Enfermera     T   \n",
       "8             45         4         1280      Amigo R.    Interno     N   \n",
       "9             45         1         8526      Frank H.  Enfermera     T   \n",
       "10             2        22         1234      Garcia J       None  None   \n",
       "\n",
       "      salario  \n",
       "0   2262000.0  \n",
       "1   2755000.0  \n",
       "2   3379000.0  \n",
       "3   2005000.0  \n",
       "4   1638000.0  \n",
       "5   2210000.0  \n",
       "6   1626000.0  \n",
       "7   2119000.0  \n",
       "8   2210000.0  \n",
       "9   2522000.0  \n",
       "10        NaN  "
      ]
     },
     "execution_count": 6,
     "metadata": {},
     "output_type": "execute_result"
    }
   ],
   "source": [
    "QUERY = \"\"\"\n",
    "SELECT * FROM PLANTILLA;\n",
    "\"\"\"\n",
    "# Ejecutar la consulta y obtener los resultados en un DataFrame\n",
    "df = pd.read_sql_query(text(QUERY), engine)\n",
    "df"
   ]
  },
  {
   "cell_type": "markdown",
   "id": "986fa35f-614b-4c69-9c54-e7daa0511ffb",
   "metadata": {},
   "source": [
    "#### ACTUALIZACIONES."
   ]
  },
  {
   "cell_type": "markdown",
   "id": "1af57448-1aec-46a0-8394-5cd5b9ea6504",
   "metadata": {},
   "source": [
    "##### 63. Cambiar al paciente (tabla ENFERMO) número 74835 la dirección a Alcala 411."
   ]
  },
  {
   "cell_type": "code",
   "execution_count": 7,
   "id": "c5e29de1-8225-4e63-b1e4-2db019f1d70b",
   "metadata": {},
   "outputs": [
    {
     "name": "stdout",
     "output_type": "stream",
     "text": [
      " se ha modificado 1 fila(s)\n"
     ]
    }
   ],
   "source": [
    "with engine.begin() as connection:\n",
    "    QUERY = \"\"\"\n",
    "    UPDATE ENFERMO\n",
    "    SET DIRECCION = 'Alcala 411'\n",
    "    WHERE INSCRIPCION = 74835;\n",
    "    \"\"\"\n",
    "    result = connection.execute(text(QUERY))\n",
    "print(f' se ha modificado {result.rowcount} fila(s)')"
   ]
  },
  {
   "cell_type": "code",
   "execution_count": 8,
   "id": "61dbabea-edf8-457c-992a-bb5dc8d037d7",
   "metadata": {},
   "outputs": [
    {
     "data": {
      "text/html": [
       "<div>\n",
       "<style scoped>\n",
       "    .dataframe tbody tr th:only-of-type {\n",
       "        vertical-align: middle;\n",
       "    }\n",
       "\n",
       "    .dataframe tbody tr th {\n",
       "        vertical-align: top;\n",
       "    }\n",
       "\n",
       "    .dataframe thead th {\n",
       "        text-align: right;\n",
       "    }\n",
       "</style>\n",
       "<table border=\"1\" class=\"dataframe\">\n",
       "  <thead>\n",
       "    <tr style=\"text-align: right;\">\n",
       "      <th></th>\n",
       "      <th>enfermo_no</th>\n",
       "      <th>inscripcion</th>\n",
       "      <th>apellido</th>\n",
       "      <th>direccion</th>\n",
       "      <th>fecha_nac</th>\n",
       "      <th>s</th>\n",
       "      <th>nss</th>\n",
       "    </tr>\n",
       "  </thead>\n",
       "  <tbody>\n",
       "    <tr>\n",
       "      <th>0</th>\n",
       "      <td>1</td>\n",
       "      <td>10995</td>\n",
       "      <td>Laguia M.</td>\n",
       "      <td>Recoletos 50</td>\n",
       "      <td>1967-06-23</td>\n",
       "      <td>M</td>\n",
       "      <td>280862482</td>\n",
       "    </tr>\n",
       "    <tr>\n",
       "      <th>1</th>\n",
       "      <td>2</td>\n",
       "      <td>18004</td>\n",
       "      <td>Serrano V.</td>\n",
       "      <td>Alcala 12</td>\n",
       "      <td>1960-05-21</td>\n",
       "      <td>F</td>\n",
       "      <td>284991452</td>\n",
       "    </tr>\n",
       "    <tr>\n",
       "      <th>2</th>\n",
       "      <td>3</td>\n",
       "      <td>14024</td>\n",
       "      <td>Fernandez M</td>\n",
       "      <td>Recoletos 500</td>\n",
       "      <td>1977-06-23</td>\n",
       "      <td>F</td>\n",
       "      <td>321790059</td>\n",
       "    </tr>\n",
       "    <tr>\n",
       "      <th>3</th>\n",
       "      <td>4</td>\n",
       "      <td>36658</td>\n",
       "      <td>Domin S.</td>\n",
       "      <td>Mayor 71</td>\n",
       "      <td>1942-01-01</td>\n",
       "      <td>M</td>\n",
       "      <td>160657471</td>\n",
       "    </tr>\n",
       "    <tr>\n",
       "      <th>4</th>\n",
       "      <td>5</td>\n",
       "      <td>38702</td>\n",
       "      <td>Neal R.</td>\n",
       "      <td>Orense 11</td>\n",
       "      <td>1940-06-18</td>\n",
       "      <td>F</td>\n",
       "      <td>380010217</td>\n",
       "    </tr>\n",
       "    <tr>\n",
       "      <th>5</th>\n",
       "      <td>6</td>\n",
       "      <td>39217</td>\n",
       "      <td>Cervantes M.</td>\n",
       "      <td>Peron 38</td>\n",
       "      <td>1952-02-29</td>\n",
       "      <td>M</td>\n",
       "      <td>440294390</td>\n",
       "    </tr>\n",
       "    <tr>\n",
       "      <th>6</th>\n",
       "      <td>7</td>\n",
       "      <td>59076</td>\n",
       "      <td>Miller G.</td>\n",
       "      <td>Lopez de Hoyos 2</td>\n",
       "      <td>1945-09-16</td>\n",
       "      <td>F</td>\n",
       "      <td>311969044</td>\n",
       "    </tr>\n",
       "    <tr>\n",
       "      <th>7</th>\n",
       "      <td>8</td>\n",
       "      <td>63827</td>\n",
       "      <td>Ruiz P.</td>\n",
       "      <td>Esquerdo 103</td>\n",
       "      <td>1980-12-26</td>\n",
       "      <td>M</td>\n",
       "      <td>100973253</td>\n",
       "    </tr>\n",
       "    <tr>\n",
       "      <th>8</th>\n",
       "      <td>9</td>\n",
       "      <td>64823</td>\n",
       "      <td>Fraser A.</td>\n",
       "      <td>Soto 3</td>\n",
       "      <td>1980-07-10</td>\n",
       "      <td>F</td>\n",
       "      <td>285201776</td>\n",
       "    </tr>\n",
       "    <tr>\n",
       "      <th>9</th>\n",
       "      <td>10</td>\n",
       "      <td>74835</td>\n",
       "      <td>Benitez E.</td>\n",
       "      <td>Alcala 411</td>\n",
       "      <td>1957-10-05</td>\n",
       "      <td>M</td>\n",
       "      <td>154811767</td>\n",
       "    </tr>\n",
       "  </tbody>\n",
       "</table>\n",
       "</div>"
      ],
      "text/plain": [
       "   enfermo_no  inscripcion      apellido         direccion   fecha_nac  s  \\\n",
       "0           1        10995     Laguia M.      Recoletos 50  1967-06-23  M   \n",
       "1           2        18004    Serrano V.         Alcala 12  1960-05-21  F   \n",
       "2           3        14024   Fernandez M     Recoletos 500  1977-06-23  F   \n",
       "3           4        36658      Domin S.          Mayor 71  1942-01-01  M   \n",
       "4           5        38702       Neal R.         Orense 11  1940-06-18  F   \n",
       "5           6        39217  Cervantes M.          Peron 38  1952-02-29  M   \n",
       "6           7        59076     Miller G.  Lopez de Hoyos 2  1945-09-16  F   \n",
       "7           8        63827       Ruiz P.      Esquerdo 103  1980-12-26  M   \n",
       "8           9        64823     Fraser A.            Soto 3  1980-07-10  F   \n",
       "9          10        74835    Benitez E.        Alcala 411  1957-10-05  M   \n",
       "\n",
       "         nss  \n",
       "0  280862482  \n",
       "1  284991452  \n",
       "2  321790059  \n",
       "3  160657471  \n",
       "4  380010217  \n",
       "5  440294390  \n",
       "6  311969044  \n",
       "7  100973253  \n",
       "8  285201776  \n",
       "9  154811767  "
      ]
     },
     "execution_count": 8,
     "metadata": {},
     "output_type": "execute_result"
    }
   ],
   "source": [
    "QUERY = \"\"\"\n",
    "SELECT * FROM ENFERMO;\n",
    "\"\"\"\n",
    "# Ejecutar la consulta y obtener los resultados en un DataFrame\n",
    "df = pd.read_sql_query(text(QUERY), engine)\n",
    "df"
   ]
  },
  {
   "cell_type": "markdown",
   "id": "84f5cbcc-5e8d-4ea0-97ec-dd1ceb6bff22",
   "metadata": {},
   "source": [
    "##### 64. Poner todas las direcciones de la tabla ENFERMO a null."
   ]
  },
  {
   "cell_type": "code",
   "execution_count": 9,
   "id": "6a006fa0-14b8-42f7-9859-35016bac6508",
   "metadata": {},
   "outputs": [
    {
     "name": "stdout",
     "output_type": "stream",
     "text": [
      " se ha modificado 10 fila(s)\n"
     ]
    }
   ],
   "source": [
    "with engine.begin() as connection:\n",
    "    QUERY = \"\"\"\n",
    "    UPDATE ENFERMO\n",
    "    SET DIRECCION = NULL;\n",
    "    \"\"\"\n",
    "    result = connection.execute(text(QUERY))\n",
    "print(f' se ha modificado {result.rowcount} fila(s)')"
   ]
  },
  {
   "cell_type": "code",
   "execution_count": 10,
   "id": "ec2f73ac-e500-47ea-a1e7-f59a8a3eaf23",
   "metadata": {},
   "outputs": [
    {
     "data": {
      "text/html": [
       "<div>\n",
       "<style scoped>\n",
       "    .dataframe tbody tr th:only-of-type {\n",
       "        vertical-align: middle;\n",
       "    }\n",
       "\n",
       "    .dataframe tbody tr th {\n",
       "        vertical-align: top;\n",
       "    }\n",
       "\n",
       "    .dataframe thead th {\n",
       "        text-align: right;\n",
       "    }\n",
       "</style>\n",
       "<table border=\"1\" class=\"dataframe\">\n",
       "  <thead>\n",
       "    <tr style=\"text-align: right;\">\n",
       "      <th></th>\n",
       "      <th>enfermo_no</th>\n",
       "      <th>inscripcion</th>\n",
       "      <th>apellido</th>\n",
       "      <th>direccion</th>\n",
       "      <th>fecha_nac</th>\n",
       "      <th>s</th>\n",
       "      <th>nss</th>\n",
       "    </tr>\n",
       "  </thead>\n",
       "  <tbody>\n",
       "    <tr>\n",
       "      <th>0</th>\n",
       "      <td>1</td>\n",
       "      <td>10995</td>\n",
       "      <td>Laguia M.</td>\n",
       "      <td>None</td>\n",
       "      <td>1967-06-23</td>\n",
       "      <td>M</td>\n",
       "      <td>280862482</td>\n",
       "    </tr>\n",
       "    <tr>\n",
       "      <th>1</th>\n",
       "      <td>2</td>\n",
       "      <td>18004</td>\n",
       "      <td>Serrano V.</td>\n",
       "      <td>None</td>\n",
       "      <td>1960-05-21</td>\n",
       "      <td>F</td>\n",
       "      <td>284991452</td>\n",
       "    </tr>\n",
       "    <tr>\n",
       "      <th>2</th>\n",
       "      <td>3</td>\n",
       "      <td>14024</td>\n",
       "      <td>Fernandez M</td>\n",
       "      <td>None</td>\n",
       "      <td>1977-06-23</td>\n",
       "      <td>F</td>\n",
       "      <td>321790059</td>\n",
       "    </tr>\n",
       "    <tr>\n",
       "      <th>3</th>\n",
       "      <td>4</td>\n",
       "      <td>36658</td>\n",
       "      <td>Domin S.</td>\n",
       "      <td>None</td>\n",
       "      <td>1942-01-01</td>\n",
       "      <td>M</td>\n",
       "      <td>160657471</td>\n",
       "    </tr>\n",
       "    <tr>\n",
       "      <th>4</th>\n",
       "      <td>5</td>\n",
       "      <td>38702</td>\n",
       "      <td>Neal R.</td>\n",
       "      <td>None</td>\n",
       "      <td>1940-06-18</td>\n",
       "      <td>F</td>\n",
       "      <td>380010217</td>\n",
       "    </tr>\n",
       "    <tr>\n",
       "      <th>5</th>\n",
       "      <td>6</td>\n",
       "      <td>39217</td>\n",
       "      <td>Cervantes M.</td>\n",
       "      <td>None</td>\n",
       "      <td>1952-02-29</td>\n",
       "      <td>M</td>\n",
       "      <td>440294390</td>\n",
       "    </tr>\n",
       "    <tr>\n",
       "      <th>6</th>\n",
       "      <td>7</td>\n",
       "      <td>59076</td>\n",
       "      <td>Miller G.</td>\n",
       "      <td>None</td>\n",
       "      <td>1945-09-16</td>\n",
       "      <td>F</td>\n",
       "      <td>311969044</td>\n",
       "    </tr>\n",
       "    <tr>\n",
       "      <th>7</th>\n",
       "      <td>8</td>\n",
       "      <td>63827</td>\n",
       "      <td>Ruiz P.</td>\n",
       "      <td>None</td>\n",
       "      <td>1980-12-26</td>\n",
       "      <td>M</td>\n",
       "      <td>100973253</td>\n",
       "    </tr>\n",
       "    <tr>\n",
       "      <th>8</th>\n",
       "      <td>9</td>\n",
       "      <td>64823</td>\n",
       "      <td>Fraser A.</td>\n",
       "      <td>None</td>\n",
       "      <td>1980-07-10</td>\n",
       "      <td>F</td>\n",
       "      <td>285201776</td>\n",
       "    </tr>\n",
       "    <tr>\n",
       "      <th>9</th>\n",
       "      <td>10</td>\n",
       "      <td>74835</td>\n",
       "      <td>Benitez E.</td>\n",
       "      <td>None</td>\n",
       "      <td>1957-10-05</td>\n",
       "      <td>M</td>\n",
       "      <td>154811767</td>\n",
       "    </tr>\n",
       "  </tbody>\n",
       "</table>\n",
       "</div>"
      ],
      "text/plain": [
       "   enfermo_no  inscripcion      apellido direccion   fecha_nac  s        nss\n",
       "0           1        10995     Laguia M.      None  1967-06-23  M  280862482\n",
       "1           2        18004    Serrano V.      None  1960-05-21  F  284991452\n",
       "2           3        14024   Fernandez M      None  1977-06-23  F  321790059\n",
       "3           4        36658      Domin S.      None  1942-01-01  M  160657471\n",
       "4           5        38702       Neal R.      None  1940-06-18  F  380010217\n",
       "5           6        39217  Cervantes M.      None  1952-02-29  M  440294390\n",
       "6           7        59076     Miller G.      None  1945-09-16  F  311969044\n",
       "7           8        63827       Ruiz P.      None  1980-12-26  M  100973253\n",
       "8           9        64823     Fraser A.      None  1980-07-10  F  285201776\n",
       "9          10        74835    Benitez E.      None  1957-10-05  M  154811767"
      ]
     },
     "execution_count": 10,
     "metadata": {},
     "output_type": "execute_result"
    }
   ],
   "source": [
    "QUERY = \"\"\"\n",
    "SELECT * FROM ENFERMO;\n",
    "\"\"\"\n",
    "# Ejecutar la consulta y obtener los resultados en un DataFrame\n",
    "df = pd.read_sql_query(text(QUERY), engine)\n",
    "df"
   ]
  },
  {
   "cell_type": "markdown",
   "id": "7da40da0-9686-471b-a762-62cd8e049500",
   "metadata": {},
   "source": [
    "##### 65. Igualar la dirección y fecha de nacimiento del paciente 10995 a los valores de las columnas correspondientes almacenadas para el paciente 14024."
   ]
  },
  {
   "cell_type": "code",
   "execution_count": 11,
   "id": "1f54bff0-36d4-483b-a042-48b1e6eccb1a",
   "metadata": {},
   "outputs": [
    {
     "name": "stdout",
     "output_type": "stream",
     "text": [
      " se ha modificado 1 fila(s)\n"
     ]
    }
   ],
   "source": [
    "with engine.begin() as connection:\n",
    "    QUERY = \"\"\"\n",
    "    UPDATE ENFERMO\n",
    "    SET (DIRECCION, FECHA_NAC) = (SELECT DIRECCION, FECHA_NAC\n",
    "\t\t\t\t\t\t\t\tFROM ENFERMO\n",
    "\t\t\t\t\t\t\t\tWHERE INSCRIPCION = 10995)\n",
    "    WHERE INSCRIPCION = 14024;\n",
    "    \"\"\"\n",
    "    result = connection.execute(text(QUERY))\n",
    "print(f' se ha modificado {result.rowcount} fila(s)')"
   ]
  },
  {
   "cell_type": "code",
   "execution_count": 12,
   "id": "26559f91-0a2a-49c1-882d-f495b359e19e",
   "metadata": {},
   "outputs": [
    {
     "data": {
      "text/html": [
       "<div>\n",
       "<style scoped>\n",
       "    .dataframe tbody tr th:only-of-type {\n",
       "        vertical-align: middle;\n",
       "    }\n",
       "\n",
       "    .dataframe tbody tr th {\n",
       "        vertical-align: top;\n",
       "    }\n",
       "\n",
       "    .dataframe thead th {\n",
       "        text-align: right;\n",
       "    }\n",
       "</style>\n",
       "<table border=\"1\" class=\"dataframe\">\n",
       "  <thead>\n",
       "    <tr style=\"text-align: right;\">\n",
       "      <th></th>\n",
       "      <th>enfermo_no</th>\n",
       "      <th>inscripcion</th>\n",
       "      <th>apellido</th>\n",
       "      <th>direccion</th>\n",
       "      <th>fecha_nac</th>\n",
       "      <th>s</th>\n",
       "      <th>nss</th>\n",
       "    </tr>\n",
       "  </thead>\n",
       "  <tbody>\n",
       "    <tr>\n",
       "      <th>0</th>\n",
       "      <td>1</td>\n",
       "      <td>10995</td>\n",
       "      <td>Laguia M.</td>\n",
       "      <td>None</td>\n",
       "      <td>1967-06-23</td>\n",
       "      <td>M</td>\n",
       "      <td>280862482</td>\n",
       "    </tr>\n",
       "    <tr>\n",
       "      <th>1</th>\n",
       "      <td>2</td>\n",
       "      <td>18004</td>\n",
       "      <td>Serrano V.</td>\n",
       "      <td>None</td>\n",
       "      <td>1960-05-21</td>\n",
       "      <td>F</td>\n",
       "      <td>284991452</td>\n",
       "    </tr>\n",
       "    <tr>\n",
       "      <th>2</th>\n",
       "      <td>4</td>\n",
       "      <td>36658</td>\n",
       "      <td>Domin S.</td>\n",
       "      <td>None</td>\n",
       "      <td>1942-01-01</td>\n",
       "      <td>M</td>\n",
       "      <td>160657471</td>\n",
       "    </tr>\n",
       "    <tr>\n",
       "      <th>3</th>\n",
       "      <td>5</td>\n",
       "      <td>38702</td>\n",
       "      <td>Neal R.</td>\n",
       "      <td>None</td>\n",
       "      <td>1940-06-18</td>\n",
       "      <td>F</td>\n",
       "      <td>380010217</td>\n",
       "    </tr>\n",
       "    <tr>\n",
       "      <th>4</th>\n",
       "      <td>6</td>\n",
       "      <td>39217</td>\n",
       "      <td>Cervantes M.</td>\n",
       "      <td>None</td>\n",
       "      <td>1952-02-29</td>\n",
       "      <td>M</td>\n",
       "      <td>440294390</td>\n",
       "    </tr>\n",
       "    <tr>\n",
       "      <th>5</th>\n",
       "      <td>7</td>\n",
       "      <td>59076</td>\n",
       "      <td>Miller G.</td>\n",
       "      <td>None</td>\n",
       "      <td>1945-09-16</td>\n",
       "      <td>F</td>\n",
       "      <td>311969044</td>\n",
       "    </tr>\n",
       "    <tr>\n",
       "      <th>6</th>\n",
       "      <td>8</td>\n",
       "      <td>63827</td>\n",
       "      <td>Ruiz P.</td>\n",
       "      <td>None</td>\n",
       "      <td>1980-12-26</td>\n",
       "      <td>M</td>\n",
       "      <td>100973253</td>\n",
       "    </tr>\n",
       "    <tr>\n",
       "      <th>7</th>\n",
       "      <td>9</td>\n",
       "      <td>64823</td>\n",
       "      <td>Fraser A.</td>\n",
       "      <td>None</td>\n",
       "      <td>1980-07-10</td>\n",
       "      <td>F</td>\n",
       "      <td>285201776</td>\n",
       "    </tr>\n",
       "    <tr>\n",
       "      <th>8</th>\n",
       "      <td>10</td>\n",
       "      <td>74835</td>\n",
       "      <td>Benitez E.</td>\n",
       "      <td>None</td>\n",
       "      <td>1957-10-05</td>\n",
       "      <td>M</td>\n",
       "      <td>154811767</td>\n",
       "    </tr>\n",
       "    <tr>\n",
       "      <th>9</th>\n",
       "      <td>3</td>\n",
       "      <td>14024</td>\n",
       "      <td>Fernandez M</td>\n",
       "      <td>None</td>\n",
       "      <td>1967-06-23</td>\n",
       "      <td>F</td>\n",
       "      <td>321790059</td>\n",
       "    </tr>\n",
       "  </tbody>\n",
       "</table>\n",
       "</div>"
      ],
      "text/plain": [
       "   enfermo_no  inscripcion      apellido direccion   fecha_nac  s        nss\n",
       "0           1        10995     Laguia M.      None  1967-06-23  M  280862482\n",
       "1           2        18004    Serrano V.      None  1960-05-21  F  284991452\n",
       "2           4        36658      Domin S.      None  1942-01-01  M  160657471\n",
       "3           5        38702       Neal R.      None  1940-06-18  F  380010217\n",
       "4           6        39217  Cervantes M.      None  1952-02-29  M  440294390\n",
       "5           7        59076     Miller G.      None  1945-09-16  F  311969044\n",
       "6           8        63827       Ruiz P.      None  1980-12-26  M  100973253\n",
       "7           9        64823     Fraser A.      None  1980-07-10  F  285201776\n",
       "8          10        74835    Benitez E.      None  1957-10-05  M  154811767\n",
       "9           3        14024   Fernandez M      None  1967-06-23  F  321790059"
      ]
     },
     "execution_count": 12,
     "metadata": {},
     "output_type": "execute_result"
    }
   ],
   "source": [
    "QUERY = \"\"\"\n",
    "SELECT * FROM ENFERMO;\n",
    "\"\"\"\n",
    "# Ejecutar la consulta y obtener los resultados en un DataFrame\n",
    "df = pd.read_sql_query(text(QUERY), engine)\n",
    "df"
   ]
  },
  {
   "cell_type": "markdown",
   "id": "3e0e54cf-9bb5-4ca8-86f1-474d762731cd",
   "metadata": {},
   "source": [
    "##### 66. En todos los hospitales del país se ha recibido un aumento del presupuesto, por lo que se incrementará el número de camas disponibles en un 10%. ¿Como se haría en SQL?."
   ]
  },
  {
   "cell_type": "code",
   "execution_count": 13,
   "id": "674e1817-721c-4c78-946b-1d72217e1ff5",
   "metadata": {},
   "outputs": [
    {
     "name": "stdout",
     "output_type": "stream",
     "text": [
      " se ha modificado 4 fila(s)\n"
     ]
    }
   ],
   "source": [
    "with engine.begin() as connection:\n",
    "    QUERY = \"\"\"\n",
    "    UPDATE HOSPITAL\n",
    "    SET NUM_CAMA = ROUND(NUM_CAMA * 1.1);\n",
    "    \"\"\"\n",
    "    result = connection.execute(text(QUERY))\n",
    "print(f' se ha modificado {result.rowcount} fila(s)')"
   ]
  },
  {
   "cell_type": "code",
   "execution_count": 14,
   "id": "f1651a2e-dfaa-41cd-b921-2f0ce1a5f7aa",
   "metadata": {},
   "outputs": [
    {
     "data": {
      "text/html": [
       "<div>\n",
       "<style scoped>\n",
       "    .dataframe tbody tr th:only-of-type {\n",
       "        vertical-align: middle;\n",
       "    }\n",
       "\n",
       "    .dataframe tbody tr th {\n",
       "        vertical-align: top;\n",
       "    }\n",
       "\n",
       "    .dataframe thead th {\n",
       "        text-align: right;\n",
       "    }\n",
       "</style>\n",
       "<table border=\"1\" class=\"dataframe\">\n",
       "  <thead>\n",
       "    <tr style=\"text-align: right;\">\n",
       "      <th></th>\n",
       "      <th>hospital_cod</th>\n",
       "      <th>nombre</th>\n",
       "      <th>direccion</th>\n",
       "      <th>telefono</th>\n",
       "      <th>num_cama</th>\n",
       "    </tr>\n",
       "  </thead>\n",
       "  <tbody>\n",
       "    <tr>\n",
       "      <th>0</th>\n",
       "      <td>13</td>\n",
       "      <td>Provincial</td>\n",
       "      <td>O Donell 50</td>\n",
       "      <td>964-4264</td>\n",
       "      <td>552</td>\n",
       "    </tr>\n",
       "    <tr>\n",
       "      <th>1</th>\n",
       "      <td>18</td>\n",
       "      <td>General</td>\n",
       "      <td>Atocha s/n</td>\n",
       "      <td>595-3111</td>\n",
       "      <td>1086</td>\n",
       "    </tr>\n",
       "    <tr>\n",
       "      <th>2</th>\n",
       "      <td>22</td>\n",
       "      <td>La Paz</td>\n",
       "      <td>Castellana 1000</td>\n",
       "      <td>923-5411</td>\n",
       "      <td>453</td>\n",
       "    </tr>\n",
       "    <tr>\n",
       "      <th>3</th>\n",
       "      <td>45</td>\n",
       "      <td>San Carlos</td>\n",
       "      <td>Ciudad Universitaria</td>\n",
       "      <td>597-1500</td>\n",
       "      <td>930</td>\n",
       "    </tr>\n",
       "  </tbody>\n",
       "</table>\n",
       "</div>"
      ],
      "text/plain": [
       "   hospital_cod      nombre             direccion  telefono  num_cama\n",
       "0            13  Provincial           O Donell 50  964-4264       552\n",
       "1            18     General            Atocha s/n  595-3111      1086\n",
       "2            22      La Paz       Castellana 1000  923-5411       453\n",
       "3            45  San Carlos  Ciudad Universitaria  597-1500       930"
      ]
     },
     "execution_count": 14,
     "metadata": {},
     "output_type": "execute_result"
    }
   ],
   "source": [
    "QUERY = \"\"\"\n",
    "SELECT * FROM HOSPITAL;\n",
    "\"\"\"\n",
    "# Ejecutar la consulta y obtener los resultados en un DataFrame\n",
    "df = pd.read_sql_query(text(QUERY), engine)\n",
    "df"
   ]
  },
  {
   "cell_type": "markdown",
   "id": "9c78aeaa-8472-4b8f-a102-0765c9315de7",
   "metadata": {},
   "source": [
    "#### CREACIÓN DE TABLAS"
   ]
  },
  {
   "cell_type": "markdown",
   "id": "1aaf61a7-b041-4347-84da-c2c9823b20ab",
   "metadata": {},
   "source": [
    "##### 67.-Ejercicio a comentar su solución. Crear una tabla llamada hospital22 a partir de la tabla HOSPITAL. "
   ]
  },
  {
   "cell_type": "code",
   "execution_count": 15,
   "id": "3588f162-312a-400b-8f89-f1617145f4bf",
   "metadata": {},
   "outputs": [
    {
     "name": "stdout",
     "output_type": "stream",
     "text": [
      "La nueva tabla tiene 0 fila(s)\n"
     ]
    }
   ],
   "source": [
    "with engine.begin() as connection:\n",
    "    # Se crea una copia desde la tabla hospital\n",
    "    QUERY = \"\"\"\n",
    "    CREATE TABLE Hospital22 AS TABLE HOSPITAL WITH NO DATA;\n",
    "    \"\"\"\n",
    "    result = connection.execute(text(QUERY))\n",
    "    # Se agrega la primary key y si las hubiera, las restricciones\n",
    "    QUERY = \"\"\"\n",
    "    ALTER TABLE Hospital22 ADD PRIMARY KEY (HOSPITAL_COD);\n",
    "    \"\"\"\n",
    "    # Se comprueba que la tabla ha sido creada\n",
    "    result = connection.execute(text(QUERY))\n",
    "    QUERY = \"\"\"\n",
    "    SELECT * FROM Hospital22;\n",
    "    \"\"\"\n",
    "    result = connection.execute(text(QUERY))\n",
    "print(f'La nueva tabla tiene {result.rowcount} fila(s)')\n"
   ]
  },
  {
   "cell_type": "markdown",
   "id": "fc3ebca7-47d3-4e82-bff0-127cd9ac5052",
   "metadata": {},
   "source": [
    "##### Se ejecuta el codigo que usamos arriba para revisar las tablas"
   ]
  },
  {
   "cell_type": "code",
   "execution_count": 16,
   "id": "13872011-669d-42ed-a53c-939960f393a8",
   "metadata": {},
   "outputs": [
    {
     "name": "stdout",
     "output_type": "stream",
     "text": [
      "El contenido de la tabla hospital22\n",
      "\n",
      "    column_name          data_type  character_maximum_length is_nullable\n",
      "0  hospital_cod            integer                       NaN          NO\n",
      "1        nombre  character varying                      10.0         YES\n",
      "2     direccion  character varying                      20.0         YES\n",
      "3      telefono  character varying                       8.0         YES\n",
      "4      num_cama            integer                       NaN         YES\n",
      "\n"
     ]
    }
   ],
   "source": [
    "QUERY = f\"SELECT column_name, data_type, character_maximum_length, is_nullable FROM INFORMATION_SCHEMA.COLUMNS WHERE table_name = 'hospital22'\" \n",
    "df1 = pd.read_sql_query(QUERY, engine)\n",
    "print(f'El contenido de la tabla hospital22\\n')\n",
    "print(df1)\n",
    "print()"
   ]
  },
  {
   "cell_type": "markdown",
   "id": "ae49a72f-9dd1-402e-9f78-0e79b9422d3f",
   "metadata": {},
   "source": [
    "##### 68.- Rellenar la tabla HOSPITALES22 con las filas de HOSPITAL. Da esto algún ¿problema? ¿Por que?\n",
    "Repetir la operación. ¿DA PROBLEMAS?\r\n"
   ]
  },
  {
   "cell_type": "code",
   "execution_count": 17,
   "id": "62db79c1-b56d-4724-9c3f-c6c50e7abe80",
   "metadata": {},
   "outputs": [
    {
     "name": "stdout",
     "output_type": "stream",
     "text": [
      " se ha modificado 4 fila(s)\n"
     ]
    }
   ],
   "source": [
    "# 1a vez\n",
    "with engine.begin() as connection:\n",
    "    QUERY = \"\"\"\n",
    "    INSERT INTO Hospital22\n",
    "    SELECT * FROM HOSPITAL;\n",
    "    \"\"\"\n",
    "    result = connection.execute(text(QUERY))\n",
    "print(f' se ha modificado {result.rowcount} fila(s)')"
   ]
  },
  {
   "cell_type": "code",
   "execution_count": 18,
   "id": "7585f442-82f9-4c72-b4dd-14c9fa8d940f",
   "metadata": {},
   "outputs": [
    {
     "data": {
      "text/html": [
       "<div>\n",
       "<style scoped>\n",
       "    .dataframe tbody tr th:only-of-type {\n",
       "        vertical-align: middle;\n",
       "    }\n",
       "\n",
       "    .dataframe tbody tr th {\n",
       "        vertical-align: top;\n",
       "    }\n",
       "\n",
       "    .dataframe thead th {\n",
       "        text-align: right;\n",
       "    }\n",
       "</style>\n",
       "<table border=\"1\" class=\"dataframe\">\n",
       "  <thead>\n",
       "    <tr style=\"text-align: right;\">\n",
       "      <th></th>\n",
       "      <th>hospital_cod</th>\n",
       "      <th>nombre</th>\n",
       "      <th>direccion</th>\n",
       "      <th>telefono</th>\n",
       "      <th>num_cama</th>\n",
       "    </tr>\n",
       "  </thead>\n",
       "  <tbody>\n",
       "    <tr>\n",
       "      <th>0</th>\n",
       "      <td>13</td>\n",
       "      <td>Provincial</td>\n",
       "      <td>O Donell 50</td>\n",
       "      <td>964-4264</td>\n",
       "      <td>552</td>\n",
       "    </tr>\n",
       "    <tr>\n",
       "      <th>1</th>\n",
       "      <td>18</td>\n",
       "      <td>General</td>\n",
       "      <td>Atocha s/n</td>\n",
       "      <td>595-3111</td>\n",
       "      <td>1086</td>\n",
       "    </tr>\n",
       "    <tr>\n",
       "      <th>2</th>\n",
       "      <td>22</td>\n",
       "      <td>La Paz</td>\n",
       "      <td>Castellana 1000</td>\n",
       "      <td>923-5411</td>\n",
       "      <td>453</td>\n",
       "    </tr>\n",
       "    <tr>\n",
       "      <th>3</th>\n",
       "      <td>45</td>\n",
       "      <td>San Carlos</td>\n",
       "      <td>Ciudad Universitaria</td>\n",
       "      <td>597-1500</td>\n",
       "      <td>930</td>\n",
       "    </tr>\n",
       "  </tbody>\n",
       "</table>\n",
       "</div>"
      ],
      "text/plain": [
       "   hospital_cod      nombre             direccion  telefono  num_cama\n",
       "0            13  Provincial           O Donell 50  964-4264       552\n",
       "1            18     General            Atocha s/n  595-3111      1086\n",
       "2            22      La Paz       Castellana 1000  923-5411       453\n",
       "3            45  San Carlos  Ciudad Universitaria  597-1500       930"
      ]
     },
     "execution_count": 18,
     "metadata": {},
     "output_type": "execute_result"
    }
   ],
   "source": [
    "QUERY = \"\"\"\n",
    "SELECT * FROM HOSPITAL22;\n",
    "\"\"\"\n",
    "# Ejecutar la consulta y obtener los resultados en un DataFrame\n",
    "df = pd.read_sql_query(text(QUERY), engine)\n",
    "df"
   ]
  },
  {
   "cell_type": "markdown",
   "id": "8186be7c-0a2e-4abb-9af0-dfee37af8448",
   "metadata": {},
   "source": [
    "Al estar la tabla vacia no hay ningun problema"
   ]
  },
  {
   "cell_type": "code",
   "execution_count": 19,
   "id": "5fb63450-7469-4054-8cdc-f2eab0b9b2d5",
   "metadata": {},
   "outputs": [
    {
     "name": "stdout",
     "output_type": "stream",
     "text": [
      "Hubo un error:\n",
      "\n",
      " (psycopg2.errors.UniqueViolation) llave duplicada viola restricción de unicidad «hospital22_pkey»\n",
      "DETAIL:  Ya existe la llave (hospital_cod)=(13).\n",
      "\n",
      "[SQL: \n",
      "        INSERT INTO Hospital22\n",
      "        SELECT * FROM HOSPITAL;\n",
      "        ]\n",
      "(Background on this error at: https://sqlalche.me/e/20/gkpj) \n",
      "\n"
     ]
    }
   ],
   "source": [
    "# 2a vez\n",
    "try:\n",
    "    with engine.begin() as connection:\n",
    "        QUERY = \"\"\"\n",
    "        INSERT INTO Hospital22\n",
    "        SELECT * FROM HOSPITAL;\n",
    "        \"\"\"\n",
    "        result = connection.execute(text(QUERY))\n",
    "    print(f' se ha modificado {result.rowcount} fila(s)')\n",
    "except Exception as e:\n",
    "    print(\"Hubo un error:\\n\\n\", e, '\\n')"
   ]
  },
  {
   "cell_type": "markdown",
   "id": "26e300b3-fbc0-4139-9346-7b9cd6af44b7",
   "metadata": {},
   "source": [
    "La restriccion de la primary key no permite duplicar las llaves. En el Script se le definio a cada tabla una primary key como parte de la normalizacion."
   ]
  },
  {
   "cell_type": "markdown",
   "id": "5270e874-3814-4ae2-84c7-6fe7b2e74291",
   "metadata": {},
   "source": [
    "##### 69. Crearse una tabla llamada VARONES con la misma estructura que la tabla enfermo."
   ]
  },
  {
   "cell_type": "code",
   "execution_count": 20,
   "id": "be82d3f0-f335-4555-95e9-bced160bbca1",
   "metadata": {},
   "outputs": [
    {
     "name": "stdout",
     "output_type": "stream",
     "text": [
      "La nueva tabla tiene 0 fila(s)\n"
     ]
    }
   ],
   "source": [
    "with engine.begin() as connection:\n",
    "    # Se crea una copia desde la tabla ENFERMO\n",
    "    QUERY = \"\"\"\n",
    "    CREATE TABLE VARONES AS TABLE ENFERMO WITH NO DATA;\n",
    "    \"\"\"\n",
    "    result = connection.execute(text(QUERY))\n",
    "    # Se agrega la primary key y si las hubiera, las restricciones\n",
    "    QUERY = \"\"\"\n",
    "    ALTER TABLE VARONES ADD PRIMARY KEY (ENFERMO_NO);\n",
    "    \"\"\"\n",
    "    # Se comprueba que la tabla ha sido creada\n",
    "    result = connection.execute(text(QUERY))\n",
    "    QUERY = \"\"\"\n",
    "    SELECT * FROM VARONES;\n",
    "    \"\"\"\n",
    "    result = connection.execute(text(QUERY))\n",
    "print(f'La nueva tabla tiene {result.rowcount} fila(s)')\n"
   ]
  },
  {
   "cell_type": "code",
   "execution_count": 21,
   "id": "544a285c-c981-4938-a18e-6f37a045e4f8",
   "metadata": {},
   "outputs": [
    {
     "name": "stdout",
     "output_type": "stream",
     "text": [
      "El contenido de la tabla VARONES\n",
      "\n",
      "   column_name          data_type  character_maximum_length is_nullable\n",
      "0   enfermo_no            integer                       NaN          NO\n",
      "1  inscripcion            integer                       NaN         YES\n",
      "2     apellido  character varying                      15.0         YES\n",
      "3    direccion  character varying                      20.0         YES\n",
      "4    fecha_nac               date                       NaN         YES\n",
      "5            s  character varying                       1.0         YES\n",
      "6          nss            integer                       NaN         YES\n",
      "\n"
     ]
    }
   ],
   "source": [
    "QUERY = f\"SELECT column_name, data_type, character_maximum_length, is_nullable FROM INFORMATION_SCHEMA.COLUMNS WHERE upper(table_name) = 'VARONES'\" \n",
    "df1 = pd.read_sql_query(text(QUERY), engine)\n",
    "print(f'El contenido de la tabla VARONES\\n')\n",
    "print(df1)\n",
    "print()"
   ]
  },
  {
   "cell_type": "markdown",
   "id": "f5e4c86a-75f3-494c-a53e-2ed7982ef3e7",
   "metadata": {},
   "source": [
    "##### 70. Crear la tabla EMPLEADOS2 con la misma estructura que la tabla EMPLEADOS y conteniendo los datos de oficio PRESIDENTE o comisión mayor que el 25% del salario."
   ]
  },
  {
   "cell_type": "code",
   "execution_count": 22,
   "id": "5e6f8ebb-a5a5-430d-ba12-28c839f8b75b",
   "metadata": {},
   "outputs": [
    {
     "name": "stdout",
     "output_type": "stream",
     "text": [
      "La nueva tabla tiene 0 fila(s)\n"
     ]
    }
   ],
   "source": [
    "with engine.begin() as connection:\n",
    "    # Se crea una copia desde la tabla ENFERMO\n",
    "    QUERY = \"\"\"\n",
    "    CREATE TABLE EMPLEADOS2 AS TABLE EMPLEADO WITH NO DATA;\n",
    "    \"\"\"\n",
    "    result = connection.execute(text(QUERY))\n",
    "    # Se agrega la primary key y si las hubiera, las restricciones\n",
    "    QUERY = \"\"\"\n",
    "    ALTER TABLE EMPLEADOS2 ADD PRIMARY KEY (EMP_NO);\n",
    "    \"\"\"\n",
    "    # Se comprueba que la tabla ha sido creada\n",
    "    result = connection.execute(text(QUERY))\n",
    "    QUERY = \"\"\"\n",
    "    SELECT * FROM EMPLEADOS2;\n",
    "    \"\"\"\n",
    "    result = connection.execute(text(QUERY))\n",
    "print(f'La nueva tabla tiene {result.rowcount} fila(s)')\n"
   ]
  },
  {
   "cell_type": "code",
   "execution_count": 23,
   "id": "8d54408a-6c80-4588-a5dc-82e2772cbdfd",
   "metadata": {},
   "outputs": [
    {
     "name": "stdout",
     "output_type": "stream",
     "text": [
      "El contenido de la tabla EMPLEADOS2\n",
      "\n",
      "  column_name          data_type  character_maximum_length is_nullable\n",
      "0      emp_no            integer                       NaN          NO\n",
      "1    apellido  character varying                      10.0         YES\n",
      "2      oficio  character varying                      10.0         YES\n",
      "3         dir            integer                       NaN         YES\n",
      "4  fecha_alta               date                       NaN         YES\n",
      "5     salario            integer                       NaN         YES\n",
      "6    comision            integer                       NaN         YES\n",
      "7     dept_no            integer                       NaN         YES\n",
      "\n"
     ]
    }
   ],
   "source": [
    "QUERY = f\"SELECT column_name, data_type, character_maximum_length, is_nullable FROM INFORMATION_SCHEMA.COLUMNS WHERE upper(table_name) = 'EMPLEADOS2'\" \n",
    "df1 = pd.read_sql_query(text(QUERY), engine)\n",
    "print(f'El contenido de la tabla EMPLEADOS2\\n')\n",
    "print(df1)\n",
    "print()"
   ]
  },
  {
   "cell_type": "code",
   "execution_count": 24,
   "id": "97444646-f57d-4075-8e14-f2f1b1ef87a0",
   "metadata": {},
   "outputs": [
    {
     "name": "stdout",
     "output_type": "stream",
     "text": [
      " se ha modificado 3 fila(s)\n"
     ]
    }
   ],
   "source": [
    "with engine.begin() as connection:\n",
    "    QUERY = \"\"\"\n",
    "    INSERT INTO EMPLEADOS2\n",
    "    SELECT * \n",
    "    FROM EMPLEADO\n",
    "    WHERE (COALESCE(COMISION, 0) > (SALARIO * 0.25)) OR UPPER(OFICIO) = 'PRESIDENTE';\n",
    "    \"\"\"\n",
    "    result = connection.execute(text(QUERY))\n",
    "print(f' se ha modificado {result.rowcount} fila(s)')"
   ]
  },
  {
   "cell_type": "code",
   "execution_count": 25,
   "id": "3d1351b6-a56a-43bc-b2fc-10b4b7f80ba7",
   "metadata": {},
   "outputs": [
    {
     "data": {
      "text/html": [
       "<div>\n",
       "<style scoped>\n",
       "    .dataframe tbody tr th:only-of-type {\n",
       "        vertical-align: middle;\n",
       "    }\n",
       "\n",
       "    .dataframe tbody tr th {\n",
       "        vertical-align: top;\n",
       "    }\n",
       "\n",
       "    .dataframe thead th {\n",
       "        text-align: right;\n",
       "    }\n",
       "</style>\n",
       "<table border=\"1\" class=\"dataframe\">\n",
       "  <thead>\n",
       "    <tr style=\"text-align: right;\">\n",
       "      <th></th>\n",
       "      <th>emp_no</th>\n",
       "      <th>apellido</th>\n",
       "      <th>oficio</th>\n",
       "      <th>dir</th>\n",
       "      <th>fecha_alta</th>\n",
       "      <th>salario</th>\n",
       "      <th>comision</th>\n",
       "      <th>dept_no</th>\n",
       "    </tr>\n",
       "  </thead>\n",
       "  <tbody>\n",
       "    <tr>\n",
       "      <th>0</th>\n",
       "      <td>7521</td>\n",
       "      <td>Sala</td>\n",
       "      <td>Vendedor</td>\n",
       "      <td>7698.0</td>\n",
       "      <td>1981-02-22</td>\n",
       "      <td>162500</td>\n",
       "      <td>65000.0</td>\n",
       "      <td>30</td>\n",
       "    </tr>\n",
       "    <tr>\n",
       "      <th>1</th>\n",
       "      <td>7654</td>\n",
       "      <td>Arenas</td>\n",
       "      <td>Vendedor</td>\n",
       "      <td>7698.0</td>\n",
       "      <td>1981-09-28</td>\n",
       "      <td>162500</td>\n",
       "      <td>182000.0</td>\n",
       "      <td>30</td>\n",
       "    </tr>\n",
       "    <tr>\n",
       "      <th>2</th>\n",
       "      <td>7839</td>\n",
       "      <td>Rey</td>\n",
       "      <td>Presidente</td>\n",
       "      <td>NaN</td>\n",
       "      <td>1981-11-17</td>\n",
       "      <td>650000</td>\n",
       "      <td>NaN</td>\n",
       "      <td>10</td>\n",
       "    </tr>\n",
       "  </tbody>\n",
       "</table>\n",
       "</div>"
      ],
      "text/plain": [
       "   emp_no apellido      oficio     dir  fecha_alta  salario  comision  dept_no\n",
       "0    7521     Sala    Vendedor  7698.0  1981-02-22   162500   65000.0       30\n",
       "1    7654   Arenas    Vendedor  7698.0  1981-09-28   162500  182000.0       30\n",
       "2    7839      Rey  Presidente     NaN  1981-11-17   650000       NaN       10"
      ]
     },
     "execution_count": 25,
     "metadata": {},
     "output_type": "execute_result"
    }
   ],
   "source": [
    "QUERY = \"\"\"\n",
    "SELECT * FROM EMPLEADOS2;\n",
    "\"\"\"\n",
    "# Ejecutar la consulta y obtener los resultados en un DataFrame\n",
    "df = pd.read_sql_query(text(QUERY), engine)\n",
    "df"
   ]
  },
  {
   "cell_type": "code",
   "execution_count": 26,
   "id": "d8df1d20-0001-4c8f-9af4-653af3741efa",
   "metadata": {},
   "outputs": [],
   "source": [
    "engine.dispose()"
   ]
  },
  {
   "cell_type": "markdown",
   "id": "04fda37e-a2bb-4ec6-9032-eb6aa169beed",
   "metadata": {},
   "source": [
    "# Autor\n",
    "### Oscar Gutierrez Leal\n",
    "18 - 04 - 2024"
   ]
  }
 ],
 "metadata": {
  "kernelspec": {
   "display_name": "Python 3 (ipykernel)",
   "language": "python",
   "name": "python3"
  },
  "language_info": {
   "codemirror_mode": {
    "name": "ipython",
    "version": 3
   },
   "file_extension": ".py",
   "mimetype": "text/x-python",
   "name": "python",
   "nbconvert_exporter": "python",
   "pygments_lexer": "ipython3",
   "version": "3.11.8"
  }
 },
 "nbformat": 4,
 "nbformat_minor": 5
}
