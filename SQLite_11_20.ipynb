{
 "cells": [
  {
   "cell_type": "markdown",
   "id": "df8eced3-ba92-48f5-9e26-19d5a3a1e144",
   "metadata": {},
   "source": [
    "<img src=https://static.wixstatic.com/media/f6bd9a_6a972d9b31324653bf198c38ce94339e~mv2.png>"
   ]
  },
  {
   "cell_type": "markdown",
   "id": "428aaa83-c979-40ac-820c-66890b85ee62",
   "metadata": {},
   "source": [
    "# Carrusel de RDBMS\n",
    "## Ejercicios de SQL resueltos"
   ]
  },
  {
   "cell_type": "markdown",
   "id": "73f11b97-f98d-479c-8700-38325b52e262",
   "metadata": {},
   "source": [
    "En este cuaderno resuelvo los ejercicios del 11 al 20 del documento: 'Desarrollo de Aplicaciones en Entornos de Cuarta Generación y Herramientas CASE: Ejercicios de SQL.'\n",
    "\n",
    "Para ello utilizo una version de la base de datos -que nombre \"practica_hospital\"- modificada para ser compatible en esta ocasion, para **SQLite**, siguiendo la estructura del libro.\n",
    "\n",
    "\n",
    "Tanto el diagrama de **Entidad-Relacion**, como el **Script** para cargar la base de datos (que permite, se pueda replicar el ejercicio) se encuentran disponibles en el mismo repositorio. Por la forma en que SQLite administra las bases de datos, primero se crea la instancia y luego se corre el script"
   ]
  },
  {
   "cell_type": "markdown",
   "id": "b14decb6-50e0-4d1c-86aa-c21f49ad389c",
   "metadata": {},
   "source": [
    "#### Celda para configurar el entorno"
   ]
  },
  {
   "cell_type": "code",
   "execution_count": null,
   "id": "84abcc9e-1907-43d2-897e-636a443cbeb4",
   "metadata": {},
   "outputs": [],
   "source": [
    "# !pip install pandas"
   ]
  },
  {
   "cell_type": "markdown",
   "id": "cd16d50f-f2d1-4224-861a-c85c8d62ab30",
   "metadata": {},
   "source": [
    "#### Se importan las librerias y se crea la conexion. La base de datos debe estar en el directorio."
   ]
  },
  {
   "cell_type": "code",
   "execution_count": 1,
   "id": "aa6db10a-6401-44b3-82f6-36944258bf65",
   "metadata": {},
   "outputs": [],
   "source": [
    "# importar las librerias\n",
    "import sqlite3\n",
    "import pandas as pd\n",
    "\n",
    "# establecer la conexion\n",
    "conn = sqlite3.connect('practica_hospital.db')"
   ]
  },
  {
   "cell_type": "markdown",
   "id": "0ff6de4f-aac5-40c1-a275-90af0a7515eb",
   "metadata": {},
   "source": [
    "#### Realizamos una prueba y se Inspecciona la base de datos \"practica_hospital\""
   ]
  },
  {
   "cell_type": "code",
   "execution_count": 2,
   "id": "95415d06-8bfd-4a0f-a3ff-8ab9c0de0dba",
   "metadata": {},
   "outputs": [
    {
     "name": "stdout",
     "output_type": "stream",
     "text": [
      "La conexión se ha realizado con éxito.\n",
      "\n",
      "              name\n",
      "0         HOSPITAL\n",
      "1             SALA\n",
      "2        PLANTILLA\n",
      "3        OCUPACION\n",
      "4           DOCTOR\n",
      "5          ENFERMO\n",
      "6  sqlite_sequence\n",
      "7         EMPLEADO\n",
      "8     DEPARTAMENTO\n"
     ]
    }
   ],
   "source": [
    "# Definir consulta en SQL compatible con SQLite\n",
    "try:\n",
    "    QUERY = \"\"\"SELECT name FROM sqlite_master WHERE type='table';\"\"\"\n",
    "# Ejecutar la consulta y obtener los resultados en un DataFrame\n",
    "    df = pd.read_sql_query(QUERY, conn)\n",
    "# Mostrar los primeros resultados\n",
    "    print(\"La conexión se ha realizado con éxito.\\n\")\n",
    "    \n",
    "    print(df)\n",
    "except Exception as e:\n",
    "    print(\"Hubo un error al realizar la conexión:\", e)"
   ]
  },
  {
   "cell_type": "markdown",
   "id": "2e3e5399-a74d-49bb-b0dc-5ca5ede523ee",
   "metadata": {},
   "source": [
    "#### Inspeccion a las tablas de la base de datos \"practica_hospital\"\n",
    "#### Con la finalidad de observar su estructura y tipo de datos"
   ]
  },
  {
   "cell_type": "code",
   "execution_count": 3,
   "id": "c14ba738-e2ce-451f-a88b-58431f10fe7f",
   "metadata": {},
   "outputs": [
    {
     "name": "stdout",
     "output_type": "stream",
     "text": [
      "El contenido de la tabla HOSPITAL\n",
      "\n",
      "   cid          name     type  notnull dflt_value  pk\n",
      "0    0  HOSPITAL_COD  INTEGER        1       None   1\n",
      "1    1        NOMBRE     TEXT        1       None   0\n",
      "2    2     DIRECCION     TEXT        1       None   0\n",
      "3    3      TELEFONO     TEXT        1       None   0\n",
      "4    4      NUM_CAMA  INTEGER        1       None   0\n",
      "\n",
      "El contenido de la tabla SALA\n",
      "\n",
      "   cid          name     type  notnull dflt_value  pk\n",
      "0    0       SALA_ID  INTEGER        0       None   1\n",
      "1    1  HOSPITAL_COD  INTEGER        1       None   0\n",
      "2    2      SALA_COD  INTEGER        1       None   0\n",
      "3    3        NOMBRE     TEXT        0       None   0\n",
      "4    4      NUM_CAMA  INTEGER        0       None   0\n",
      "\n",
      "El contenido de la tabla PLANTILLA\n",
      "\n",
      "   cid          name     type  notnull dflt_value  pk\n",
      "0    0  HOSPITAL_COD  INTEGER        1       None   0\n",
      "1    1      SALA_COD  INTEGER        1       None   0\n",
      "2    2   EMPLEADO_NO  INTEGER        0       None   1\n",
      "3    3      APELLIDO     TEXT        0       None   0\n",
      "4    4       FUNCION     TEXT        0       None   0\n",
      "5    5         TURNO     TEXT        0       None   0\n",
      "6    6       SALARIO  INTEGER        0       None   0\n",
      "\n",
      "El contenido de la tabla OCUPACION\n",
      "\n",
      "   cid          name     type  notnull dflt_value  pk\n",
      "0    0   INSCRIPCION  INTEGER        1       None   1\n",
      "1    1  HOSPITAL_COD  INTEGER        1       None   0\n",
      "2    2      SALA_COD  INTEGER        1       None   0\n",
      "3    3          CAMA  INTEGER        0       None   0\n",
      "\n",
      "El contenido de la tabla DOCTOR\n",
      "\n",
      "   cid          name     type  notnull dflt_value  pk\n",
      "0    0  HOSPITAL_COD  INTEGER        1       None   0\n",
      "1    1     DOCTOR_NO  INTEGER        1       None   1\n",
      "2    2      APELLIDO     TEXT        0       None   0\n",
      "3    3  ESPECIALIDAD     TEXT        0       None   0\n",
      "\n",
      "El contenido de la tabla ENFERMO\n",
      "\n",
      "   cid         name     type  notnull dflt_value  pk\n",
      "0    0   ENFERMO_NO  INTEGER        0       None   1\n",
      "1    1  INSCRIPCION  INTEGER        1       None   0\n",
      "2    2     APELLIDO     TEXT        0       None   0\n",
      "3    3    DIRECCION     TEXT        0       None   0\n",
      "4    4    FECHA_NAC     TEXT        0       None   0\n",
      "5    5            S     TEXT        0       None   0\n",
      "6    6          NSS  INTEGER        0       None   0\n",
      "\n",
      "El contenido de la tabla EMPLEADO\n",
      "\n",
      "   cid        name     type  notnull dflt_value  pk\n",
      "0    0      EMP_NO  INTEGER        1       None   1\n",
      "1    1    APELLIDO     TEXT        0       None   0\n",
      "2    2      OFICIO     TEXT        0       None   0\n",
      "3    3         DIR  INTEGER        0       None   0\n",
      "4    4  FECHA_ALTA     TEXT        0       None   0\n",
      "5    5     SALARIO  INTEGER        0       None   0\n",
      "6    6    COMISION  INTEGER        0       None   0\n",
      "7    7     DEPT_NO  INTEGER        1       None   0\n",
      "\n",
      "El contenido de la tabla DEPARTAMENTO\n",
      "\n",
      "   cid     name     type  notnull dflt_value  pk\n",
      "0    0  DEPT_NO  INTEGER        1       None   1\n",
      "1    1  DNOMBRE     TEXT        0       None   0\n",
      "2    2      LOC     TEXT        0       None   0\n",
      "\n"
     ]
    }
   ],
   "source": [
    "# se excluye el nombre de la tabla del sistema\n",
    "indice = df[df['name'] == 'sqlite_sequence'].index\n",
    "df = df.drop(indice)\n",
    "for valor in df['name']:\n",
    "    QUERY = f'PRAGMA TABLE_INFO({valor});'\n",
    "    df1 = pd.read_sql_query(QUERY, conn)\n",
    "    print(f'El contenido de la tabla {valor}\\n')\n",
    "    print(df1)\n",
    "    print()"
   ]
  },
  {
   "cell_type": "markdown",
   "id": "ae8d4286-6da2-47fb-98d8-d2fc69262e7a",
   "metadata": {},
   "source": [
    "### Resolucion de los ejercicios numerados del 11 al 20"
   ]
  },
  {
   "cell_type": "markdown",
   "id": "a505b2c0-295e-4257-a677-022ec9b80a76",
   "metadata": {},
   "source": [
    "##### OPERADORES Y FUNCIONES DE FECHAS\n",
    "\n",
    "##### 11. Encuentre a todas las enfermeras y enfermeros con indicación del salario mensual de cada uno"
   ]
  },
  {
   "cell_type": "code",
   "execution_count": 4,
   "id": "0c20f542-6152-42a2-b281-175842925219",
   "metadata": {
    "tags": []
   },
   "outputs": [
    {
     "data": {
      "text/html": [
       "<div>\n",
       "<style scoped>\n",
       "    .dataframe tbody tr th:only-of-type {\n",
       "        vertical-align: middle;\n",
       "    }\n",
       "\n",
       "    .dataframe tbody tr th {\n",
       "        vertical-align: top;\n",
       "    }\n",
       "\n",
       "    .dataframe thead th {\n",
       "        text-align: right;\n",
       "    }\n",
       "</style>\n",
       "<table border=\"1\" class=\"dataframe\">\n",
       "  <thead>\n",
       "    <tr style=\"text-align: right;\">\n",
       "      <th></th>\n",
       "      <th>APELLIDO</th>\n",
       "      <th>FUNCION</th>\n",
       "      <th>SALARIO_MENSUAL</th>\n",
       "    </tr>\n",
       "  </thead>\n",
       "  <tbody>\n",
       "    <tr>\n",
       "      <th>0</th>\n",
       "      <td>Higueras D.</td>\n",
       "      <td>Enfermera</td>\n",
       "      <td>167083.0</td>\n",
       "    </tr>\n",
       "    <tr>\n",
       "      <th>1</th>\n",
       "      <td>Hernandez J.</td>\n",
       "      <td>Enfermero</td>\n",
       "      <td>229583.0</td>\n",
       "    </tr>\n",
       "    <tr>\n",
       "      <th>2</th>\n",
       "      <td>Diaz B.</td>\n",
       "      <td>Enfermera</td>\n",
       "      <td>188500.0</td>\n",
       "    </tr>\n",
       "    <tr>\n",
       "      <th>3</th>\n",
       "      <td>Rivera G.</td>\n",
       "      <td>Enfermera</td>\n",
       "      <td>135500.0</td>\n",
       "    </tr>\n",
       "    <tr>\n",
       "      <th>4</th>\n",
       "      <td>Carlos R.</td>\n",
       "      <td>Enfermera</td>\n",
       "      <td>176583.0</td>\n",
       "    </tr>\n",
       "    <tr>\n",
       "      <th>5</th>\n",
       "      <td>Bocina G.</td>\n",
       "      <td>Enfermero</td>\n",
       "      <td>136500.0</td>\n",
       "    </tr>\n",
       "    <tr>\n",
       "      <th>6</th>\n",
       "      <td>Frank H.</td>\n",
       "      <td>Enfermera</td>\n",
       "      <td>210166.0</td>\n",
       "    </tr>\n",
       "  </tbody>\n",
       "</table>\n",
       "</div>"
      ],
      "text/plain": [
       "       APELLIDO    FUNCION  SALARIO_MENSUAL\n",
       "0   Higueras D.  Enfermera         167083.0\n",
       "1  Hernandez J.  Enfermero         229583.0\n",
       "2       Diaz B.  Enfermera         188500.0\n",
       "3     Rivera G.  Enfermera         135500.0\n",
       "4     Carlos R.  Enfermera         176583.0\n",
       "5     Bocina G.  Enfermero         136500.0\n",
       "6      Frank H.  Enfermera         210166.0"
      ]
     },
     "execution_count": 4,
     "metadata": {},
     "output_type": "execute_result"
    }
   ],
   "source": [
    "QUERY = \"\"\"\n",
    "SELECT APELLIDO, FUNCION, ROUND(SALARIO/12) AS SALARIO_MENSUAL\n",
    "FROM PLANTILLA\n",
    "WHERE UPPER(FUNCION) IN (\"ENFERMERO\", \"ENFERMERA\");\n",
    "\"\"\"\n",
    "df = pd.read_sql_query(QUERY, conn)\n",
    "df"
   ]
  },
  {
   "cell_type": "markdown",
   "id": "7c8ce757-848b-44ca-a870-79c4f92a7150",
   "metadata": {},
   "source": [
    "##### 12. Que fecha fue hace tres semanas?"
   ]
  },
  {
   "cell_type": "code",
   "execution_count": 5,
   "id": "83c63ee3-8963-40fc-8e11-ccaf0c659ea0",
   "metadata": {
    "tags": []
   },
   "outputs": [
    {
     "data": {
      "text/html": [
       "<div>\n",
       "<style scoped>\n",
       "    .dataframe tbody tr th:only-of-type {\n",
       "        vertical-align: middle;\n",
       "    }\n",
       "\n",
       "    .dataframe tbody tr th {\n",
       "        vertical-align: top;\n",
       "    }\n",
       "\n",
       "    .dataframe thead th {\n",
       "        text-align: right;\n",
       "    }\n",
       "</style>\n",
       "<table border=\"1\" class=\"dataframe\">\n",
       "  <thead>\n",
       "    <tr style=\"text-align: right;\">\n",
       "      <th></th>\n",
       "      <th>FECHA_HACE_3</th>\n",
       "    </tr>\n",
       "  </thead>\n",
       "  <tbody>\n",
       "    <tr>\n",
       "      <th>0</th>\n",
       "      <td>2024-02-26</td>\n",
       "    </tr>\n",
       "  </tbody>\n",
       "</table>\n",
       "</div>"
      ],
      "text/plain": [
       "  FECHA_HACE_3\n",
       "0   2024-02-26"
      ]
     },
     "execution_count": 5,
     "metadata": {},
     "output_type": "execute_result"
    }
   ],
   "source": [
    "QUERY = \"\"\"\n",
    "SELECT DATE('now','-21 day') AS FECHA_HACE_3;\n",
    "\"\"\"\n",
    "df = pd.read_sql_query(QUERY, conn)\n",
    "df"
   ]
  },
  {
   "cell_type": "markdown",
   "id": "aa83265c-1740-4d49-8615-1f12f102ce85",
   "metadata": {},
   "source": [
    "##### 13.Se pide el nombre, oficio y fecha de alta del personal del departamento 20 que ganan mas de 150000 ptas. mensuales."
   ]
  },
  {
   "cell_type": "code",
   "execution_count": 6,
   "id": "8b7e65ba-aa7d-49ce-a982-10e265203f6e",
   "metadata": {
    "tags": []
   },
   "outputs": [
    {
     "data": {
      "text/html": [
       "<div>\n",
       "<style scoped>\n",
       "    .dataframe tbody tr th:only-of-type {\n",
       "        vertical-align: middle;\n",
       "    }\n",
       "\n",
       "    .dataframe tbody tr th {\n",
       "        vertical-align: top;\n",
       "    }\n",
       "\n",
       "    .dataframe thead th {\n",
       "        text-align: right;\n",
       "    }\n",
       "</style>\n",
       "<table border=\"1\" class=\"dataframe\">\n",
       "  <thead>\n",
       "    <tr style=\"text-align: right;\">\n",
       "      <th></th>\n",
       "      <th>APELLIDO</th>\n",
       "      <th>OFICIO</th>\n",
       "      <th>FECHA</th>\n",
       "    </tr>\n",
       "  </thead>\n",
       "  <tbody>\n",
       "    <tr>\n",
       "      <th>0</th>\n",
       "      <td>Jimenez</td>\n",
       "      <td>Director</td>\n",
       "      <td>DIA 02 del mes 04 del año 1981</td>\n",
       "    </tr>\n",
       "    <tr>\n",
       "      <th>1</th>\n",
       "      <td>Gil</td>\n",
       "      <td>Analista</td>\n",
       "      <td>DIA 09 del mes 12 del año 1982</td>\n",
       "    </tr>\n",
       "    <tr>\n",
       "      <th>2</th>\n",
       "      <td>Fernandez</td>\n",
       "      <td>Analista</td>\n",
       "      <td>DIA 03 del mes 12 del año 1981</td>\n",
       "    </tr>\n",
       "  </tbody>\n",
       "</table>\n",
       "</div>"
      ],
      "text/plain": [
       "    APELLIDO    OFICIO                           FECHA\n",
       "0    Jimenez  Director  DIA 02 del mes 04 del año 1981\n",
       "1        Gil  Analista  DIA 09 del mes 12 del año 1982\n",
       "2  Fernandez  Analista  DIA 03 del mes 12 del año 1981"
      ]
     },
     "execution_count": 6,
     "metadata": {},
     "output_type": "execute_result"
    }
   ],
   "source": [
    "QUERY = \"\"\"\n",
    "SELECT APELLIDO, OFICIO, STRFTIME('DIA %d del mes %m del año %Y', FECHA_ALTA) AS FECHA\n",
    "FROM EMPLEADO\n",
    "WHERE SALARIO > 150000 AND DEPT_NO = 20;\n",
    "\"\"\"\n",
    "df = pd.read_sql_query(QUERY, conn)\n",
    "df"
   ]
  },
  {
   "cell_type": "markdown",
   "id": "b987f5d4-e3bd-43c1-b0db-73b1504ebc95",
   "metadata": {},
   "source": [
    "##### 14. Se pide el nombre, oficio y el día de la semana en que han sido dados de alta los empleados de la empresa, \n",
    "##### pero solo de aquellos cuyo día de alta haya sido entre martes y jueves. Ordenado por oficio."
   ]
  },
  {
   "cell_type": "code",
   "execution_count": 7,
   "id": "2e2ffc1a-1cfa-4b30-96f6-4638aa288a67",
   "metadata": {
    "tags": []
   },
   "outputs": [
    {
     "data": {
      "text/html": [
       "<div>\n",
       "<style scoped>\n",
       "    .dataframe tbody tr th:only-of-type {\n",
       "        vertical-align: middle;\n",
       "    }\n",
       "\n",
       "    .dataframe tbody tr th {\n",
       "        vertical-align: top;\n",
       "    }\n",
       "\n",
       "    .dataframe thead th {\n",
       "        text-align: right;\n",
       "    }\n",
       "</style>\n",
       "<table border=\"1\" class=\"dataframe\">\n",
       "  <thead>\n",
       "    <tr style=\"text-align: right;\">\n",
       "      <th></th>\n",
       "      <th>APELLIDO</th>\n",
       "      <th>OFICIO</th>\n",
       "      <th>FECHA</th>\n",
       "    </tr>\n",
       "  </thead>\n",
       "  <tbody>\n",
       "    <tr>\n",
       "      <th>0</th>\n",
       "      <td>Gil</td>\n",
       "      <td>Analista</td>\n",
       "      <td>MIERCOLES</td>\n",
       "    </tr>\n",
       "    <tr>\n",
       "      <th>1</th>\n",
       "      <td>Fernandez</td>\n",
       "      <td>Analista</td>\n",
       "      <td>MIERCOLES</td>\n",
       "    </tr>\n",
       "    <tr>\n",
       "      <th>2</th>\n",
       "      <td>Jimenez</td>\n",
       "      <td>Director</td>\n",
       "      <td>MIERCOLES</td>\n",
       "    </tr>\n",
       "    <tr>\n",
       "      <th>3</th>\n",
       "      <td>Negro</td>\n",
       "      <td>Director</td>\n",
       "      <td>JUEVES</td>\n",
       "    </tr>\n",
       "    <tr>\n",
       "      <th>4</th>\n",
       "      <td>Sanchez</td>\n",
       "      <td>Empleado</td>\n",
       "      <td>MARTES</td>\n",
       "    </tr>\n",
       "    <tr>\n",
       "      <th>5</th>\n",
       "      <td>Alonso</td>\n",
       "      <td>Empleado</td>\n",
       "      <td>MARTES</td>\n",
       "    </tr>\n",
       "    <tr>\n",
       "      <th>6</th>\n",
       "      <td>Jimeno</td>\n",
       "      <td>Empleado</td>\n",
       "      <td>MIERCOLES</td>\n",
       "    </tr>\n",
       "    <tr>\n",
       "      <th>7</th>\n",
       "      <td>Arroyo</td>\n",
       "      <td>Vendedor</td>\n",
       "      <td>JUEVES</td>\n",
       "    </tr>\n",
       "  </tbody>\n",
       "</table>\n",
       "</div>"
      ],
      "text/plain": [
       "    APELLIDO    OFICIO      FECHA\n",
       "0        Gil  Analista  MIERCOLES\n",
       "1  Fernandez  Analista  MIERCOLES\n",
       "2    Jimenez  Director  MIERCOLES\n",
       "3      Negro  Director     JUEVES\n",
       "4    Sanchez  Empleado     MARTES\n",
       "5     Alonso  Empleado     MARTES\n",
       "6     Jimeno  Empleado  MIERCOLES\n",
       "7     Arroyo  Vendedor     JUEVES"
      ]
     },
     "execution_count": 7,
     "metadata": {},
     "output_type": "execute_result"
    }
   ],
   "source": [
    "QUERY = \"\"\"\n",
    "SELECT APELLIDO, OFICIO, CASE \n",
    "\tWHEN STRFTIME('%w', FECHA_ALTA) = '3' THEN 'MARTES'\n",
    "\tWHEN STRFTIME('%w', FECHA_ALTA) = '4' THEN 'MIERCOLES'\n",
    "\tWHEN STRFTIME('%w', FECHA_ALTA) = '5' THEN 'JUEVES'\n",
    "\tELSE '.'\n",
    "END AS FECHA\n",
    "FROM EMPLEADO\n",
    "WHERE STRFTIME('%w', FECHA_ALTA) = '3' OR STRFTIME('%w', FECHA_ALTA) = '4' OR STRFTIME('%w', FECHA_ALTA) = '5'\n",
    "ORDER BY OFICIO;\n",
    "\"\"\"\n",
    "df = pd.read_sql_query(QUERY, conn)\n",
    "df"
   ]
  },
  {
   "cell_type": "markdown",
   "id": "c5608fbd-2454-4a64-bcb2-6f7cc1277e9b",
   "metadata": {},
   "source": [
    "##### 15. Para todos los empleados, el día en que fueron dados de alta en la empresa debe estar ordenada por el día \n",
    "##### de la semana (Lunes, Martes ... Viernes) . Los días no laborables serán \"Fin de semana\".*/"
   ]
  },
  {
   "cell_type": "code",
   "execution_count": 8,
   "id": "dcd414b1-8a82-4734-b44f-cce895ccb991",
   "metadata": {
    "tags": []
   },
   "outputs": [
    {
     "data": {
      "text/html": [
       "<div>\n",
       "<style scoped>\n",
       "    .dataframe tbody tr th:only-of-type {\n",
       "        vertical-align: middle;\n",
       "    }\n",
       "\n",
       "    .dataframe tbody tr th {\n",
       "        vertical-align: top;\n",
       "    }\n",
       "\n",
       "    .dataframe thead th {\n",
       "        text-align: right;\n",
       "    }\n",
       "</style>\n",
       "<table border=\"1\" class=\"dataframe\">\n",
       "  <thead>\n",
       "    <tr style=\"text-align: right;\">\n",
       "      <th></th>\n",
       "      <th>APELLIDO</th>\n",
       "      <th>OFICIO</th>\n",
       "      <th>FECHA</th>\n",
       "    </tr>\n",
       "  </thead>\n",
       "  <tbody>\n",
       "    <tr>\n",
       "      <th>0</th>\n",
       "      <td>Sala</td>\n",
       "      <td>Vendedor</td>\n",
       "      <td>FIN DE SEMANA</td>\n",
       "    </tr>\n",
       "    <tr>\n",
       "      <th>1</th>\n",
       "      <td>Arenas</td>\n",
       "      <td>Vendedor</td>\n",
       "      <td>FIN DE SEMANA</td>\n",
       "    </tr>\n",
       "    <tr>\n",
       "      <th>2</th>\n",
       "      <td>Cerezo</td>\n",
       "      <td>Director</td>\n",
       "      <td>LUNES</td>\n",
       "    </tr>\n",
       "    <tr>\n",
       "      <th>3</th>\n",
       "      <td>Rey</td>\n",
       "      <td>Presidente</td>\n",
       "      <td>LUNES</td>\n",
       "    </tr>\n",
       "    <tr>\n",
       "      <th>4</th>\n",
       "      <td>Tovar</td>\n",
       "      <td>Vendedor</td>\n",
       "      <td>LUNES</td>\n",
       "    </tr>\n",
       "    <tr>\n",
       "      <th>5</th>\n",
       "      <td>Sanchez</td>\n",
       "      <td>Empleado</td>\n",
       "      <td>MARTES</td>\n",
       "    </tr>\n",
       "    <tr>\n",
       "      <th>6</th>\n",
       "      <td>Alonso</td>\n",
       "      <td>Empleado</td>\n",
       "      <td>MARTES</td>\n",
       "    </tr>\n",
       "    <tr>\n",
       "      <th>7</th>\n",
       "      <td>Jimenez</td>\n",
       "      <td>Director</td>\n",
       "      <td>MIERCOLES</td>\n",
       "    </tr>\n",
       "    <tr>\n",
       "      <th>8</th>\n",
       "      <td>Gil</td>\n",
       "      <td>Analista</td>\n",
       "      <td>MIERCOLES</td>\n",
       "    </tr>\n",
       "    <tr>\n",
       "      <th>9</th>\n",
       "      <td>Jimeno</td>\n",
       "      <td>Empleado</td>\n",
       "      <td>MIERCOLES</td>\n",
       "    </tr>\n",
       "    <tr>\n",
       "      <th>10</th>\n",
       "      <td>Fernandez</td>\n",
       "      <td>Analista</td>\n",
       "      <td>MIERCOLES</td>\n",
       "    </tr>\n",
       "    <tr>\n",
       "      <th>11</th>\n",
       "      <td>Arroyo</td>\n",
       "      <td>Vendedor</td>\n",
       "      <td>JUEVES</td>\n",
       "    </tr>\n",
       "    <tr>\n",
       "      <th>12</th>\n",
       "      <td>Negro</td>\n",
       "      <td>Director</td>\n",
       "      <td>JUEVES</td>\n",
       "    </tr>\n",
       "    <tr>\n",
       "      <th>13</th>\n",
       "      <td>Muñoz</td>\n",
       "      <td>Empleado</td>\n",
       "      <td>VIERNES</td>\n",
       "    </tr>\n",
       "  </tbody>\n",
       "</table>\n",
       "</div>"
      ],
      "text/plain": [
       "     APELLIDO      OFICIO          FECHA\n",
       "0        Sala    Vendedor  FIN DE SEMANA\n",
       "1      Arenas    Vendedor  FIN DE SEMANA\n",
       "2      Cerezo    Director          LUNES\n",
       "3         Rey  Presidente          LUNES\n",
       "4       Tovar    Vendedor          LUNES\n",
       "5     Sanchez    Empleado         MARTES\n",
       "6      Alonso    Empleado         MARTES\n",
       "7     Jimenez    Director      MIERCOLES\n",
       "8         Gil    Analista      MIERCOLES\n",
       "9      Jimeno    Empleado      MIERCOLES\n",
       "10  Fernandez    Analista      MIERCOLES\n",
       "11     Arroyo    Vendedor         JUEVES\n",
       "12      Negro    Director         JUEVES\n",
       "13      Muñoz    Empleado        VIERNES"
      ]
     },
     "execution_count": 8,
     "metadata": {},
     "output_type": "execute_result"
    }
   ],
   "source": [
    "QUERY = \"\"\"\n",
    "SELECT APELLIDO, OFICIO, CASE \n",
    "\tWHEN STRFTIME('%w', FECHA_ALTA) = '2' THEN 'LUNES'\n",
    "\tWHEN STRFTIME('%w', FECHA_ALTA) = '3' THEN 'MARTES'\n",
    "\tWHEN STRFTIME('%w', FECHA_ALTA) = '4' THEN 'MIERCOLES'\n",
    "\tWHEN STRFTIME('%w', FECHA_ALTA) = '5' THEN 'JUEVES'\n",
    "\tWHEN STRFTIME('%w', FECHA_ALTA) = '6' THEN 'VIERNES'\n",
    "\tELSE 'FIN DE SEMANA'\n",
    "END AS FECHA\n",
    "FROM EMPLEADO\n",
    "ORDER BY STRFTIME('%w', FECHA_ALTA);\n",
    "\"\"\"\n",
    "df = pd.read_sql_query(QUERY, conn)\n",
    "df"
   ]
  },
  {
   "cell_type": "markdown",
   "id": "44a96e9d-eadf-4136-a119-fd4441419fc8",
   "metadata": {},
   "source": [
    "#### CLÁUSULA GROUP BY \n",
    "##### 16.Encontrar el salario medio de los Analistas."
   ]
  },
  {
   "cell_type": "code",
   "execution_count": 9,
   "id": "d0c3b591-dd1e-43dd-b9ac-4821008f3b91",
   "metadata": {
    "tags": []
   },
   "outputs": [
    {
     "data": {
      "text/html": [
       "<div>\n",
       "<style scoped>\n",
       "    .dataframe tbody tr th:only-of-type {\n",
       "        vertical-align: middle;\n",
       "    }\n",
       "\n",
       "    .dataframe tbody tr th {\n",
       "        vertical-align: top;\n",
       "    }\n",
       "\n",
       "    .dataframe thead th {\n",
       "        text-align: right;\n",
       "    }\n",
       "</style>\n",
       "<table border=\"1\" class=\"dataframe\">\n",
       "  <thead>\n",
       "    <tr style=\"text-align: right;\">\n",
       "      <th></th>\n",
       "      <th>OFICIO</th>\n",
       "      <th>SALARIO_MEDIO</th>\n",
       "    </tr>\n",
       "  </thead>\n",
       "  <tbody>\n",
       "    <tr>\n",
       "      <th>0</th>\n",
       "      <td>Analista</td>\n",
       "      <td>390000.0</td>\n",
       "    </tr>\n",
       "  </tbody>\n",
       "</table>\n",
       "</div>"
      ],
      "text/plain": [
       "     OFICIO  SALARIO_MEDIO\n",
       "0  Analista       390000.0"
      ]
     },
     "execution_count": 9,
     "metadata": {},
     "output_type": "execute_result"
    }
   ],
   "source": [
    "QUERY = \"\"\"\n",
    "SELECT OFICIO, AVG (SALARIO) AS SALARIO_MEDIO\n",
    "FROM EMPLEADO\n",
    "GROUP BY OFICIO\n",
    "HAVING OFICIO = 'Analista'\n",
    "\"\"\"\n",
    "df = pd.read_sql_query(QUERY, conn)\n",
    "df"
   ]
  },
  {
   "cell_type": "markdown",
   "id": "7d5748bd-6f34-471f-bb30-3ec1b837504b",
   "metadata": {},
   "source": [
    "##### 17. Encontrar el salario mas alto y el salario mas bajo de la tabla de empleados, así como la diferencia entre ambos."
   ]
  },
  {
   "cell_type": "code",
   "execution_count": 10,
   "id": "c059a842-b152-452b-b7de-e0545e872044",
   "metadata": {
    "tags": []
   },
   "outputs": [
    {
     "data": {
      "text/html": [
       "<div>\n",
       "<style scoped>\n",
       "    .dataframe tbody tr th:only-of-type {\n",
       "        vertical-align: middle;\n",
       "    }\n",
       "\n",
       "    .dataframe tbody tr th {\n",
       "        vertical-align: top;\n",
       "    }\n",
       "\n",
       "    .dataframe thead th {\n",
       "        text-align: right;\n",
       "    }\n",
       "</style>\n",
       "<table border=\"1\" class=\"dataframe\">\n",
       "  <thead>\n",
       "    <tr style=\"text-align: right;\">\n",
       "      <th></th>\n",
       "      <th>SALARIO_MAX</th>\n",
       "      <th>SALARIO_MIN</th>\n",
       "      <th>SALARIO_DIFERENCIA</th>\n",
       "    </tr>\n",
       "  </thead>\n",
       "  <tbody>\n",
       "    <tr>\n",
       "      <th>0</th>\n",
       "      <td>650000</td>\n",
       "      <td>104000</td>\n",
       "      <td>546000</td>\n",
       "    </tr>\n",
       "  </tbody>\n",
       "</table>\n",
       "</div>"
      ],
      "text/plain": [
       "   SALARIO_MAX  SALARIO_MIN  SALARIO_DIFERENCIA\n",
       "0       650000       104000              546000"
      ]
     },
     "execution_count": 10,
     "metadata": {},
     "output_type": "execute_result"
    }
   ],
   "source": [
    "QUERY = \"\"\"\n",
    "SELECT MAX(SALARIO) AS SALARIO_MAX, MIN(SALARIO) AS SALARIO_MIN, MAX(SALARIO)-MIN(SALARIO) AS SALARIO_DIFERENCIA\n",
    "FROM EMPLEADO\n",
    "\"\"\"\n",
    "df = pd.read_sql_query(QUERY, conn)\n",
    "df"
   ]
  },
  {
   "cell_type": "markdown",
   "id": "2ce78189-264e-4bc9-986f-883db28ff57f",
   "metadata": {},
   "source": [
    "##### 18. Calcular el numero de oficios diferentes que hay, en total, en los departamentos 10 y 20 de la empresa."
   ]
  },
  {
   "cell_type": "code",
   "execution_count": 11,
   "id": "c0b404b0-7ac9-4762-951b-1b19d0059549",
   "metadata": {
    "tags": []
   },
   "outputs": [
    {
     "data": {
      "text/html": [
       "<div>\n",
       "<style scoped>\n",
       "    .dataframe tbody tr th:only-of-type {\n",
       "        vertical-align: middle;\n",
       "    }\n",
       "\n",
       "    .dataframe tbody tr th {\n",
       "        vertical-align: top;\n",
       "    }\n",
       "\n",
       "    .dataframe thead th {\n",
       "        text-align: right;\n",
       "    }\n",
       "</style>\n",
       "<table border=\"1\" class=\"dataframe\">\n",
       "  <thead>\n",
       "    <tr style=\"text-align: right;\">\n",
       "      <th></th>\n",
       "      <th>TOTAL_OFICIOS</th>\n",
       "    </tr>\n",
       "  </thead>\n",
       "  <tbody>\n",
       "    <tr>\n",
       "      <th>0</th>\n",
       "      <td>4</td>\n",
       "    </tr>\n",
       "  </tbody>\n",
       "</table>\n",
       "</div>"
      ],
      "text/plain": [
       "   TOTAL_OFICIOS\n",
       "0              4"
      ]
     },
     "execution_count": 11,
     "metadata": {},
     "output_type": "execute_result"
    }
   ],
   "source": [
    "QUERY = \"\"\"\n",
    "SELECT COUNT(DISTINCT(OFICIO)) AS TOTAL_OFICIOS\n",
    "FROM EMPLEADO\n",
    "WHERE DEPT_NO IN (10,20);\n",
    "\"\"\"\n",
    "df = pd.read_sql_query(QUERY, conn)\n",
    "df"
   ]
  },
  {
   "cell_type": "markdown",
   "id": "864bdfe1-b194-40b5-92bf-7982f2b76d43",
   "metadata": {},
   "source": [
    "##### 19. Calcular el numero de personas que realizan cada oficio en cada departamento."
   ]
  },
  {
   "cell_type": "code",
   "execution_count": 12,
   "id": "95419298-a2cf-4a90-bced-95572d512067",
   "metadata": {
    "tags": []
   },
   "outputs": [
    {
     "data": {
      "text/html": [
       "<div>\n",
       "<style scoped>\n",
       "    .dataframe tbody tr th:only-of-type {\n",
       "        vertical-align: middle;\n",
       "    }\n",
       "\n",
       "    .dataframe tbody tr th {\n",
       "        vertical-align: top;\n",
       "    }\n",
       "\n",
       "    .dataframe thead th {\n",
       "        text-align: right;\n",
       "    }\n",
       "</style>\n",
       "<table border=\"1\" class=\"dataframe\">\n",
       "  <thead>\n",
       "    <tr style=\"text-align: right;\">\n",
       "      <th></th>\n",
       "      <th>DEPT_NO</th>\n",
       "      <th>OFICIO</th>\n",
       "      <th>NUM_PERSONAS</th>\n",
       "    </tr>\n",
       "  </thead>\n",
       "  <tbody>\n",
       "    <tr>\n",
       "      <th>0</th>\n",
       "      <td>10</td>\n",
       "      <td>Director</td>\n",
       "      <td>1</td>\n",
       "    </tr>\n",
       "    <tr>\n",
       "      <th>1</th>\n",
       "      <td>10</td>\n",
       "      <td>Empleado</td>\n",
       "      <td>1</td>\n",
       "    </tr>\n",
       "    <tr>\n",
       "      <th>2</th>\n",
       "      <td>10</td>\n",
       "      <td>Presidente</td>\n",
       "      <td>1</td>\n",
       "    </tr>\n",
       "    <tr>\n",
       "      <th>3</th>\n",
       "      <td>20</td>\n",
       "      <td>Analista</td>\n",
       "      <td>2</td>\n",
       "    </tr>\n",
       "    <tr>\n",
       "      <th>4</th>\n",
       "      <td>20</td>\n",
       "      <td>Director</td>\n",
       "      <td>1</td>\n",
       "    </tr>\n",
       "    <tr>\n",
       "      <th>5</th>\n",
       "      <td>20</td>\n",
       "      <td>Empleado</td>\n",
       "      <td>2</td>\n",
       "    </tr>\n",
       "    <tr>\n",
       "      <th>6</th>\n",
       "      <td>30</td>\n",
       "      <td>Director</td>\n",
       "      <td>1</td>\n",
       "    </tr>\n",
       "    <tr>\n",
       "      <th>7</th>\n",
       "      <td>30</td>\n",
       "      <td>Empleado</td>\n",
       "      <td>1</td>\n",
       "    </tr>\n",
       "    <tr>\n",
       "      <th>8</th>\n",
       "      <td>30</td>\n",
       "      <td>Vendedor</td>\n",
       "      <td>4</td>\n",
       "    </tr>\n",
       "  </tbody>\n",
       "</table>\n",
       "</div>"
      ],
      "text/plain": [
       "   DEPT_NO      OFICIO  NUM_PERSONAS\n",
       "0       10    Director             1\n",
       "1       10    Empleado             1\n",
       "2       10  Presidente             1\n",
       "3       20    Analista             2\n",
       "4       20    Director             1\n",
       "5       20    Empleado             2\n",
       "6       30    Director             1\n",
       "7       30    Empleado             1\n",
       "8       30    Vendedor             4"
      ]
     },
     "execution_count": 12,
     "metadata": {},
     "output_type": "execute_result"
    }
   ],
   "source": [
    "QUERY = \"\"\"\n",
    "SELECT DEPT_NO, OFICIO, COUNT (OFICIO) AS NUM_PERSONAS\n",
    "FROM EMPLEADO\n",
    "GROUP BY DEPT_NO, OFICIO;\n",
    "\"\"\"\n",
    "df = pd.read_sql_query(QUERY, conn)\n",
    "df"
   ]
  },
  {
   "cell_type": "markdown",
   "id": "e3425780-98fa-4449-8317-66c6b609230d",
   "metadata": {},
   "source": [
    "##### 20. Buscar que departamentos tienen mas de cuatro personas trabajando."
   ]
  },
  {
   "cell_type": "code",
   "execution_count": 13,
   "id": "819f8459-6618-4bc6-8378-629dd2e35a4b",
   "metadata": {
    "tags": []
   },
   "outputs": [
    {
     "data": {
      "text/html": [
       "<div>\n",
       "<style scoped>\n",
       "    .dataframe tbody tr th:only-of-type {\n",
       "        vertical-align: middle;\n",
       "    }\n",
       "\n",
       "    .dataframe tbody tr th {\n",
       "        vertical-align: top;\n",
       "    }\n",
       "\n",
       "    .dataframe thead th {\n",
       "        text-align: right;\n",
       "    }\n",
       "</style>\n",
       "<table border=\"1\" class=\"dataframe\">\n",
       "  <thead>\n",
       "    <tr style=\"text-align: right;\">\n",
       "      <th></th>\n",
       "      <th>DEPT_NO</th>\n",
       "      <th>PERSONAS_TRABAJANDO</th>\n",
       "    </tr>\n",
       "  </thead>\n",
       "  <tbody>\n",
       "    <tr>\n",
       "      <th>0</th>\n",
       "      <td>20</td>\n",
       "      <td>5</td>\n",
       "    </tr>\n",
       "    <tr>\n",
       "      <th>1</th>\n",
       "      <td>30</td>\n",
       "      <td>6</td>\n",
       "    </tr>\n",
       "  </tbody>\n",
       "</table>\n",
       "</div>"
      ],
      "text/plain": [
       "   DEPT_NO  PERSONAS_TRABAJANDO\n",
       "0       20                    5\n",
       "1       30                    6"
      ]
     },
     "execution_count": 13,
     "metadata": {},
     "output_type": "execute_result"
    }
   ],
   "source": [
    "QUERY = \"\"\"\n",
    "SELECT DEPT_NO, COUNT(OFICIO) AS PERSONAS_TRABAJANDO\n",
    "FROM EMPLEADO\n",
    "GROUP BY DEPT_NO\n",
    "HAVING COUNT(OFICIO) > 4;\n",
    "\"\"\"\n",
    "df = pd.read_sql_query(QUERY, conn)\n",
    "df"
   ]
  },
  {
   "cell_type": "code",
   "execution_count": 14,
   "id": "23d44b85-f3cb-4385-8105-0a2aed7247eb",
   "metadata": {},
   "outputs": [],
   "source": [
    "# cerrar la conexion\n",
    "conn.close()"
   ]
  },
  {
   "cell_type": "markdown",
   "id": "e628850a-5f6f-42f7-bea8-9fc04aad508b",
   "metadata": {},
   "source": [
    "# Autor\n",
    "### Oscar Gutierrez Leal\n",
    "15 - 03 - 2024"
   ]
  }
 ],
 "metadata": {
  "kernelspec": {
   "display_name": "Python 3 (ipykernel)",
   "language": "python",
   "name": "python3"
  },
  "language_info": {
   "codemirror_mode": {
    "name": "ipython",
    "version": 3
   },
   "file_extension": ".py",
   "mimetype": "text/x-python",
   "name": "python",
   "nbconvert_exporter": "python",
   "pygments_lexer": "ipython3",
   "version": "3.11.5"
  }
 },
 "nbformat": 4,
 "nbformat_minor": 5
}
